{
  "nbformat": 4,
  "nbformat_minor": 0,
  "metadata": {
    "colab": {
      "provenance": [],
      "include_colab_link": true
    },
    "kernelspec": {
      "name": "python3",
      "display_name": "Python 3"
    },
    "language_info": {
      "name": "python"
    }
  },
  "cells": [
    {
      "cell_type": "markdown",
      "metadata": {
        "id": "view-in-github",
        "colab_type": "text"
      },
      "source": [
        "<a href=\"https://colab.research.google.com/github/Alba004/Matematicas/blob/main/grafos/practica_grafos.ipynb\" target=\"_parent\"><img src=\"https://colab.research.google.com/assets/colab-badge.svg\" alt=\"Open In Colab\"/></a>"
      ]
    },
    {
      "cell_type": "markdown",
      "source": [
        "# Práctica 2. Grafos"
      ],
      "metadata": {
        "id": "s28_pETXts4V"
      }
    },
    {
      "cell_type": "markdown",
      "source": [
        "## Práctica 2.1\n",
        "**Algoritmo de Dijkstra**\n",
        "\n",
        "1. Mira estos vídeos:\n",
        " * [Algoritmo de DIJKSTRA ruta corta](https://youtu.be/6rl0ghgPfK0)\n",
        " * [Ruta mas corta en una red, algoritmo de Dijkstra](https://youtu.be/rh02c7v3EKY)\n",
        " \n",
        "2. ¿Qué utilidad tiene el algoritmo?\n",
        "\n",
        "El algoritmo de Dijkstra que tambien es conocido como el algoritmo de caminos minimos, es un algoritmo para la determinacion del camino más corto, dado un vertice origen, hacia el resto de los vertices en un grafo que tiene pesos en cada arista.\n",
        "\n",
        "3. Explique el algoritmo.\n",
        "\n",
        "El algoritmo Dijjkstra como ya dije antes trata de coger el camino más corto.\n",
        "En el ejemplo que he puesto a continuación podemos observar que tenemos los nodos que van de la A a la H.\n",
        "*   Primero se empieza por la A y como no hay ningun nodo predesor, se pondra en la distinacia 0. Por eso A se convierte en un nodo permanente.\n",
        "*   Despues, obeservamos que los nodos que unen a A son el B y el C. loq ue haremos es sumar 0+1 (que es la arista) = [1,A] ponemos A ya que el predesor es A y lo mismo pasara con el B que sera [3,A].\n",
        "*   Para saber cual es el nodo permanente entre A y B, escogeremos el que tenga la distancia acumulada con el número menor que será la C por lo que se convierte en un nodo permenente.\n",
        "*   Con lo dicho anteriormente los nodos que se unen con C son F y D por loq ue sumaremos la distancia acumulada de C que es 1 con la distancia que hay a F y D. Será 1+5=[6,C] que corresponde a la F y 1+2=[3,C] que corresponde a la D.\n",
        "*   A continuacion tenemos dos nodos (B  y D) que tienen como 3 de distancia por lo que se puede escoger aleatoriamente, en este caso, eligire el D. \n",
        "*   El D tiene tres nodos con los que se une (F, E, B). La F que tenia [6,C] ahora tendra [5,D] porque entre las dos eligiré la que tenga menor distancia. La letra E tendra [7,D] y la B relacionada con la C tendrá [4,D] pero está tiene una distancia mayor que la anterior por lo que escogeremos la anterior que era [3,A], entre estos tres nodos el menor es la B por lo que sera el nodo permanente.\n",
        "*   La B se une con el nodo G que tendra [8,B] ya que se suma 3+5, \n",
        "*   Por ultimo, hacemos permenente a E y completamos la H que tendra [8,F] y [8,E]\n",
        "¿Cúal será la distancia que habra de A a H? la respuesta es 8 e irá A-C-D-F-H eso si cojo el [8,F] y si cojo el [8,E] irá de A-C-D-E-H\n",
        "4. De un ejemplo de un grafo resuelto con el algoritmo de Dijkstra.\n",
        "* Muestre la imagen del grafo con sus:\n",
        "  - nodos\n",
        "  - aristas (con flecha si son orientadas)\n",
        "  - pesos (distancias o costes)\n",
        "\n",
        "![algoritmo](https://i.ytimg.com/vi/LLx0QVMZVkk/maxresdefault.jpg)\n",
        "* Muestre nuevamente la imagen del grafo pero en esta ocasión con la solución.\n",
        "![algoritmo con la solucion](https://th.bing.com/th/id/OIP.pbjKh2tSh8plkRB_pBOm6wHaE4?pid=ImgDet&rs=1)"
      ],
      "metadata": {
        "id": "6Gr8mAWDxCdq"
      }
    },
    {
      "cell_type": "markdown",
      "source": [
        "## Práctica 2.2\n",
        "Vea el video:\n",
        "\n",
        "* [Camino mas corto Solver](https://youtu.be/LYeMWlTfOgA)\n",
        "\n",
        "Se pide:  \n",
        "1. Replique en un archivo de Excel el caso del vídeo, en la Hoja 1. En el método de resolución de Solver elija el método Simplex.\n",
        "2. En la Hoja 2, aplique esa metodología usando Solver a otro grafo de su invención. Dibuje el grafo, con sus nodos, flechas y pesos, y resuélvalo.\n",
        "3. Suba el archivo de Excel creado a la tarea del Aula Virtual."
      ],
      "metadata": {
        "id": "In4IULDcx1Az"
      }
    },
    {
      "cell_type": "markdown",
      "source": [
        "## Práctica 2.3\n",
        "1. Muestre el enlace a alguna página donde se de el algoritmo de Dijkstra programado en **Python**.\n",
        "2. Pruebe su código con algún grafo de ejemplo."
      ],
      "metadata": {
        "id": "Dp_Eb4ORzqg4"
      }
    },
    {
      "cell_type": "code",
      "source": [
        "class Vertice:\n",
        "    def _init_(self, id):\n",
        "        self.id = id\n",
        "        self.vecinos = []\n",
        "        self.visitado = False\n",
        "        self.padre = None\n",
        "        self.distancia = float(\"inf\")\n",
        "    def agregar_vecino(self, v, p):\n",
        "        if v not in self.vecinos:\n",
        "            self.vecinos.append([v, p])\n",
        "\n",
        "class Grafica:\n",
        "    def _init_(self):\n",
        "        self.G = nx.Graph()\n",
        "        self.vertices = {}\n",
        "\n",
        "    def mostrar_grafica(self):\n",
        "        pos = nx.layout.spring_layout(self.G)\n",
        "        nx.draw_networkx(self.G, pos)\n",
        "        labels = nx.get_edge_attributes(self.G, \"weight\")\n",
        "        nx.draw_networkx_edge_labels(self.G, pos, edge_labels-labels)\n",
        "        plt.show()\n",
        "\n",
        "    def agregar_vertice(self, id):\n",
        "        if id not in self.vertices:\n",
        "            self.vertices[id] = Vertice(id)\n",
        "    \n",
        "    def agregar_arista(self, vertice_a, vertuce_b, peso):\n",
        "        if vertice_a in self.vertices and vertice_b in self.vertices:\n",
        "            self.vertices[vertice_a].agregar_vecino(vertice_b, peso)\n",
        "            self.vertices[vertice_b].agregar_vecino(vertice_a, peso)\n",
        "\n",
        "            self.G.add_edge(vertice_a, vertice_b, weight=peso)\n",
        "    \n",
        "    def obtener_camino(self, vertice_b):\n",
        "       camino = []\n",
        "       actual = vertice_b\n",
        "       while(actual != None):\n",
        "           camino.insert(0, actual)\n",
        "           actual = self.vertices[actual].padre\n",
        "       return [camino, self.vertices[vertice_b].distancia]\n",
        "\n",
        "    def minimo(self, lista):\n",
        "        if len(lista) > 0:\n",
        "            n = self.vertices[lista[0]].distancia\n",
        "            v = lista[0]\n",
        "\n",
        "            for e in lista:\n",
        "                if n > self.vertices[e].distancia:\n",
        "                    n = self.vertices[e].distancia\n",
        "                    v = e\n",
        "            return v\n",
        "\n",
        "    def dijkstra(self, vertice_a):\n",
        "        if vertice_a in self.vertices:\n",
        "          self.vertices[vertice_a].distancia = 0\n",
        "          actual = vertice_a\n",
        "          no_visitados = []\n",
        "          for v in self.vertices:\n",
        "              if v != vertice_a:\n",
        "                  self.vertices[v].distancia = float(\"inf\")\n",
        "              self.vertices[v].padre = None\n",
        "              no_visitados.append(v)\n",
        "          while (len(no_visitados) > 0):\n",
        "              for vecino in self.vertices[actual].vecinos:\n",
        "                  if self.vertices[vecino[0]].visitado == False:\n",
        "                      if self.vertices[actual].distancia + vecino[1] < self.vertices[vecino[0]].distancia:\n",
        "                         self.vertices[vecino[0]].distancia = self.vertices[actual].distancia + vecino\n",
        "                         self.vertices[vecino[0]].padre = actual\n",
        "              self.vertices[actual].visitado = True\n",
        "              no_visitados.remove(actual)\n",
        "              actual = self.minimo(no_visitados)\n",
        "        else:\n",
        "           return False\n",
        "\n",
        "if __name__ == \"__main__\"\n",
        "    gr = Grafica()\n",
        "\n",
        "\n",
        "\n",
        "\n",
        "\n"
      ],
      "metadata": {
        "id": "xFl9FCt3RCaf",
        "outputId": "53a8898d-6677-4e84-939b-10157eb916f4",
        "colab": {
          "base_uri": "https://localhost:8080/",
          "height": 131
        }
      },
      "execution_count": 24,
      "outputs": [
        {
          "output_type": "error",
          "ename": "SyntaxError",
          "evalue": "ignored",
          "traceback": [
            "\u001b[0;36m  File \u001b[0;32m\"<ipython-input-24-8705fd535613>\"\u001b[0;36m, line \u001b[0;32m76\u001b[0m\n\u001b[0;31m    if __name__ == \"__main__\"\u001b[0m\n\u001b[0m                             ^\u001b[0m\n\u001b[0;31mSyntaxError\u001b[0m\u001b[0;31m:\u001b[0m invalid syntax\n"
          ]
        }
      ]
    },
    {
      "cell_type": "markdown",
      "source": [
        "## Práctica 2.4\n",
        "* Dibuja un grafo que tenga un mínimo de 6 nodos\n",
        "* Crea en **Python** su **matriz de adyacencia**\n",
        "* Crea en Python su **lista de adyacencia**\n",
        "* ¿Son cero todos los elementos de la diagonal principal?\n",
        " - En qué caso serían todos cero y en qué caso no.\n",
        "* ¿Es una matriz simétrica?\n",
        " - En qué caso sería simétrica y en qué caso no.\n",
        "* Usando Python, suma todos los valores de la matriz\n",
        "* Comprueba si funcionan bien o no los siguientes códigos:\n",
        " - El primero permite convertir una matriz de adyacencia en una lista de adyacencia.\n",
        " - El segundo permite convertir una lista de adyacencia en una matriz de adyacencia.\n",
        "* Dibuja el grafo del ejemplo que se usa en este código."
      ],
      "metadata": {
        "id": "r8s1WapAnHlw"
      }
    },
    {
      "cell_type": "code",
      "source": [
        "def convert_to_adjacency(matrix):\n",
        "    start = 0\n",
        "    res = []\n",
        "    lst = []\n",
        "    n = len(matrix)\n",
        "    for i in range(n):\n",
        "        res.append(lst*n)\n",
        "    while start < n:\n",
        "        y = matrix[start]\n",
        "        for i in range(len(y)):\n",
        "            if y[i]==1:\n",
        "                res[start].append(i)\n",
        "        start +=1\n",
        "    return res\n",
        "\n",
        "matrix =[[0,1,1,1,0,1,1,0,0],[1,0,0,1,0,0,1,1,0],[1,0,0,1,0,0,0,0,0],[1,1,1,0,1,0,0,0,0],[0,0,0,1,0,1,0,0,1],[1,0,0,0,1,0,0,0,1],[1,1,0,0,0,0,0,0,0],[0,1,0,0,0,0,0,0,0],[0,0,0,0,1,1,0,0,0]]\n",
        "print(convert_to_adjacency(matrix))"
      ],
      "metadata": {
        "id": "DDM1R2YzO-c-"
      },
      "execution_count": null,
      "outputs": []
    },
    {
      "cell_type": "code",
      "source": [
        "def convert_to_matrix(graph):\n",
        "    matrix =[]\n",
        "    for i in range(len(graph)): \n",
        "        matrix.append([0]*len(graph))\n",
        "        for j in graph[i]:\n",
        "            matrix[i][j]=1\n",
        "    return matrix\n",
        "\n",
        "lst =[[1,2,3,5,6],[0,3,6,7],[0,3],[0,1,2,4],[3,5,8],[0,4,8],[0,1],[1],[4,5]]\n",
        "print(convert_to_matrix(lst))"
      ],
      "metadata": {
        "id": "TcrGI9GTQ-o2"
      },
      "execution_count": null,
      "outputs": []
    },
    {
      "cell_type": "markdown",
      "source": [
        "## Práctica 2.5\n",
        "**Árboles binarios**\n",
        "* Mira este vídeo: [¿Qué son los ÁRBOLES BINARIOS y por qué son tan geniales?](https://youtu.be/lMTaNbJAqvM)\n",
        "* ¿Qué son los **árboles binarios de búsqueda**? (en inglés: BST (Binary Search Tree))\n",
        "* Mira este vídeo: [Recorrido de Árboles Binarios](https://youtu.be/WCiwBrj8EQY)\n",
        "* Qué significa recorrer el árbol en:\n",
        " - preorden\n",
        " - inorden\n",
        " - postorden\n",
        "* Al BST del vídeo anterior añadele dos nodos de tu elección, de forma que continúe siendo un BST, dibujalo (poniendo en color azul claro los dos nodos nuevos) y da su recorrido en:\n",
        " - preorden\n",
        " - inorden (observa que en este caso los nodos deben quedar **ordenados** de menor a mayor)\n",
        " - postorden\n",
        "* ¿Por qué los BST son importantes en ciencias de la computación?\n",
        "* Pon un link a una página o vídeo que trate este tema en **Python**.\n",
        "* ¿Has probado el código en Python que comentas? ¿Funciona con el BST que has puesto como ejemplo?"
      ],
      "metadata": {
        "id": "KciKQEh-DIxH"
      }
    },
    {
      "cell_type": "markdown",
      "source": [
        "## Práctica 2.6\n",
        "* ¿Qué es un **camino hamiltoniano**?\n",
        "* Pon un ejemplo\n",
        "* Dibújalo\n",
        "* Resulevelo\n",
        "* ¿Qué utilidad tiene?\n",
        "* Muestra los enlaces a un par de vídeos que hablen de ello"
      ],
      "metadata": {
        "id": "Chf7cUkfaR9O"
      }
    },
    {
      "cell_type": "markdown",
      "source": [
        "## Práctica 2.7\n",
        "* Mira este vídeo:\n",
        " - [Un problema matemático de ciudades y carreteras](https://youtu.be/kwU1uIbylsM)\n",
        "* Dibuja el grafo y da tu solución"
      ],
      "metadata": {
        "id": "vJ9XxUVKcpys"
      }
    },
    {
      "cell_type": "markdown",
      "source": [
        "## Práctica 2.8\n",
        "* El problema de **los puentes de Königsberg**\n",
        "* Describe el problema\n",
        "* Muestra una imagen del grafo resultante\n",
        "* Quién fue *Euler* y qué hizo para resolver el problema"
      ],
      "metadata": {
        "id": "mWSmp60VaQRp"
      }
    },
    {
      "cell_type": "markdown",
      "source": [
        "## Práctica 2.9\n",
        "* ¿Qué son los **caminos eulerianos**?\n",
        "* ¿Qué son los **ciclos eulerianos**?\n",
        "* Da los enlaces a dos vídeos que hablen de ello\n",
        "* Dibuja un par de casos"
      ],
      "metadata": {
        "id": "_jPsX_8vhGkL"
      }
    },
    {
      "cell_type": "markdown",
      "source": [
        "## Práctica 2.10\n",
        "* Mira estos vídeos:\n",
        " - [¿Puedes dibujarlo sin despegar el lápiz?](https://youtu.be/IZ0-xFrlvag)\n",
        " - [USA esta LÓGICA cuando NO PUEDAS con un PROBLEMA](https://youtu.be/5Ncb7eU0LkQ)\n",
        "* Caso 1: dibuja un grafo en el que si sea posible y resuélvelo\n",
        "* Caso 2: dibuja un grafo en el que no sea posible y di el motivo"
      ],
      "metadata": {
        "id": "4wcsNU_-kQM-"
      }
    }
  ]
}