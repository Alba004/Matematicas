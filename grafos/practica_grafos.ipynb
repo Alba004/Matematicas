{
  "nbformat": 4,
  "nbformat_minor": 0,
  "metadata": {
    "colab": {
      "provenance": [],
      "include_colab_link": true
    },
    "kernelspec": {
      "name": "python3",
      "display_name": "Python 3"
    },
    "language_info": {
      "name": "python"
    }
  },
  "cells": [
    {
      "cell_type": "markdown",
      "metadata": {
        "id": "view-in-github",
        "colab_type": "text"
      },
      "source": [
        "<a href=\"https://colab.research.google.com/github/Alba004/Matematicas/blob/main/grafos/practica_grafos.ipynb\" target=\"_parent\"><img src=\"https://colab.research.google.com/assets/colab-badge.svg\" alt=\"Open In Colab\"/></a>"
      ]
    },
    {
      "cell_type": "markdown",
      "source": [
        "# Práctica 2. Grafos"
      ],
      "metadata": {
        "id": "s28_pETXts4V"
      }
    },
    {
      "cell_type": "markdown",
      "source": [
        "## Práctica 2.1\n",
        "**Algoritmo de Dijkstra**\n",
        "\n",
        "1. Mira estos vídeos:\n",
        " * [Algoritmo de DIJKSTRA ruta corta](https://youtu.be/6rl0ghgPfK0)\n",
        " * [Ruta mas corta en una red, algoritmo de Dijkstra](https://youtu.be/rh02c7v3EKY)\n",
        " \n",
        "2. ¿Qué utilidad tiene el algoritmo?\n",
        "\n",
        "El algoritmo de Dijkstra que tambien es conocido como el algoritmo de caminos minimos, es un algoritmo para la determinacion del camino más corto, dado un vertice origen, hacia el resto de los vertices en un grafo que tiene pesos en cada arista.\n",
        "\n",
        "3. Explique el algoritmo.\n",
        "\n",
        "El algoritmo Dijjkstra como ya dije antes trata de coger el camino más corto.\n",
        "En el ejemplo que he puesto a continuación podemos observar que tenemos los nodos que van de la A a la H.\n",
        "*   Primero se empieza por la A y como no hay ningun nodo predesor, se pondra en la distinacia 0. Por eso A se convierte en un nodo permanente.\n",
        "*   Despues, obeservamos que los nodos que unen a A son el B y el C. loq ue haremos es sumar 0+1 (que es la arista) = [1,A] ponemos A ya que el predesor es A y lo mismo pasara con el B que sera [3,A].\n",
        "*   Para saber cual es el nodo permanente entre A y B, escogeremos el que tenga la distancia acumulada con el número menor que será la C por lo que se convierte en un nodo permenente.\n",
        "*   Con lo dicho anteriormente los nodos que se unen con C son F y D por loq ue sumaremos la distancia acumulada de C que es 1 con la distancia que hay a F y D. Será 1+5=[6,C] que corresponde a la F y 1+2=[3,C] que corresponde a la D.\n",
        "*   A continuacion tenemos dos nodos (B  y D) que tienen como 3 de distancia por lo que se puede escoger aleatoriamente, en este caso, eligire el D. \n",
        "*   El D tiene tres nodos con los que se une (F, E, B). La F que tenia [6,C] ahora tendra [5,D] porque entre las dos eligiré la que tenga menor distancia. La letra E tendra [7,D] y la B relacionada con la C tendrá [4,D] pero está tiene una distancia mayor que la anterior por lo que escogeremos la anterior que era [3,A], entre estos tres nodos el menor es la B por lo que sera el nodo permanente.\n",
        "*   La B se une con el nodo G que tendra [8,B] ya que se suma 3+5, \n",
        "*   Por ultimo, hacemos permenente a E y completamos la H que tendra [8,F] y [8,E]\n",
        "¿Cúal será la distancia que habra de A a H? la respuesta es 8 e irá A-C-D-F-H eso si cojo el [8,F] y si cojo el [8,E] irá de A-C-D-E-H\n",
        "4. De un ejemplo de un grafo resuelto con el algoritmo de Dijkstra.\n",
        "* Muestre la imagen del grafo con sus:\n",
        "  - nodos\n",
        "  - aristas (con flecha si son orientadas)\n",
        "  - pesos (distancias o costes)\n",
        "\n",
        "![algoritmo](https://i.ytimg.com/vi/LLx0QVMZVkk/maxresdefault.jpg)\n",
        "* Muestre nuevamente la imagen del grafo pero en esta ocasión con la solución.\n",
        "![algoritmo con la solucion](https://th.bing.com/th/id/OIP.pbjKh2tSh8plkRB_pBOm6wHaE4?pid=ImgDet&rs=1)"
      ],
      "metadata": {
        "id": "6Gr8mAWDxCdq"
      }
    },
    {
      "cell_type": "markdown",
      "source": [
        "## Práctica 2.2\n",
        "Vea el video:\n",
        "\n",
        "* [Camino mas corto Solver](https://youtu.be/LYeMWlTfOgA)\n",
        "\n",
        "Se pide:  \n",
        "1. Replique en un archivo de Excel el caso del vídeo, en la Hoja 1. En el método de resolución de Solver elija el método Simplex.\n",
        "2. En la Hoja 2, aplique esa metodología usando Solver a otro grafo de su invención. Dibuje el grafo, con sus nodos, flechas y pesos, y resuélvalo.\n",
        "3. Suba el archivo de Excel creado a la tarea del Aula Virtual."
      ],
      "metadata": {
        "id": "In4IULDcx1Az"
      }
    },
    {
      "cell_type": "markdown",
      "source": [
        "## Práctica 2.3\n",
        "1. Muestre el enlace a alguna página donde se de el algoritmo de Dijkstra programado en **Python**.\n",
        "https://www.pythonpool.com/dijkstras-algorithm-python/\n",
        "2. Pruebe su código con algún grafo de ejemplo."
      ],
      "metadata": {
        "id": "Dp_Eb4ORzqg4"
      }
    },
    {
      "cell_type": "markdown",
      "source": [
        "![Dijkstra](https://www.pythonpool.com/wp-content/uploads/2020/07/final-1024x648.jpg)\n",
        "\n"
      ],
      "metadata": {
        "id": "LxpIxLrRKf7K"
      }
    },
    {
      "cell_type": "code",
      "source": [
        "def dijkstra(current, nodes, distances):\n",
        "    unvisited = {node: None for node in nodes}\n",
        "    visited = {}\n",
        "    currentDistance = 0\n",
        "    unvisited[current] = currentDistance\n",
        "    while True:\n",
        "        for neighbour, distance in distances[current].items():\n",
        "            if neighbour not in unvisited: continue\n",
        "            newDistance = currentDistance + distance\n",
        "            if unvisited[neighbour] is None or unvisited[neighbour] > newDistance:\n",
        "                unvisited[neighbour] = newDistance\n",
        "        visited[current] = currentDistance\n",
        "        del unvisited[current]\n",
        "        if not unvisited: break\n",
        "        candidates = [node for node in unvisited.items() if node[1]]\n",
        "        print(sorted(candidates, key = lambda x: x[1]))\n",
        "        current, currentDistance = sorted(candidates, key = lambda x: x[1])[0]\n",
        "    return visited\n",
        "  \n",
        "nodes = ('A', 'B', 'C', 'D', 'E')\n",
        "distances = {\n",
        "    'A': {'B': 5, 'C': 2},\n",
        "    'B': {'C': 2, 'D': 3},\n",
        "    'C': {'B': 3, 'D': 7},\n",
        "    'D': {'E': 7},\n",
        "    'E': {'D': 9}}\n",
        "current = \"A\"\n",
        "  \n",
        "print(dijkstra(current, nodes, distances))\n",
        "\n"
      ],
      "metadata": {
        "id": "xFl9FCt3RCaf",
        "outputId": "2a11b817-b08c-4b0b-b744-2150f07cd5ab",
        "colab": {
          "base_uri": "https://localhost:8080/"
        }
      },
      "execution_count": null,
      "outputs": [
        {
          "output_type": "stream",
          "name": "stdout",
          "text": [
            "[('C', 2), ('B', 5)]\n",
            "[('B', 5), ('D', 9)]\n",
            "[('D', 8)]\n",
            "[('E', 15)]\n",
            "{'A': 0, 'C': 2, 'B': 5, 'D': 8, 'E': 15}\n"
          ]
        }
      ]
    },
    {
      "cell_type": "markdown",
      "source": [
        "## Práctica 2.4\n",
        "* Dibuja un grafo que tenga un mínimo de 6 nodos\n",
        "* Crea en **Python** su **matriz de adyacencia**\n",
        "* Crea en Python su **lista de adyacencia**\n",
        "* ¿Son cero todos los elementos de la diagonal principal?\n",
        "\n",
        "En este caso, sí son cero todos los elementos de la diagonal principal.\n",
        " - En qué caso serían todos cero y en qué caso no.\n",
        "\n",
        "Al hacer la matriz de adyacencia de un grafo simpre habrá una diagonal principal que será 0. Sin embargo, hay casos que en el que no siempre será 0, como por ejemplo cuando sumamos, restamos o multiplicamos matrices.\n",
        "\n",
        "* ¿Es una matriz simétrica?\n",
        "\n",
        "Sí, es una matriz simétrica ya que la simetría entre los valores a ambos lados de la diagonal principal.\n",
        "- En qué caso sería simétrica y en qué caso no.\n",
        "\n",
        "Una matriz puede ser simetrica cada vez que tenga el mismo numero de filas que de columnas y ademas tenga una diagonal principal. De lo contrario si una matriz no tiene lo dicho anterior no podrá ser simétrica como por ejemplo que una matriz tenga dos columnas y tres filas, donde no se podra encontrar la diagonal principal.\n",
        "* Usando Python, suma todos los valores de la matriz\n",
        "* Comprueba si funcionan bien o no los siguientes códigos:\n",
        " - El primero permite convertir una matriz de adyacencia en una lista de adyacencia.\n",
        " - El segundo permite convertir una lista de adyacencia en una matriz de adyacencia.\n",
        "* Dibuja el grafo del ejemplo que se usa en este código."
      ],
      "metadata": {
        "id": "r8s1WapAnHlw"
      }
    },
    {
      "cell_type": "code",
      "source": [
        "from IPython.display import Image\n",
        "Image (\"6 nodos.png\")"
      ],
      "metadata": {
        "id": "IQYjssK3bSxi",
        "outputId": "028ad0c2-64c7-4186-a38f-a70334a82206",
        "colab": {
          "base_uri": "https://localhost:8080/",
          "height": 400
        }
      },
      "execution_count": 50,
      "outputs": [
        {
          "output_type": "execute_result",
          "data": {
            "image/png": "[encoded data removed]",
            "text/plain": [
              "<IPython.core.display.Image object>"
            ]
          },
          "metadata": {},
          "execution_count": 50
        }
      ]
    },
    {
      "cell_type": "markdown",
      "source": [
        "#Matriz de adyacencia."
      ],
      "metadata": {
        "id": "SKDql3RRfXpu"
      }
    },
    {
      "cell_type": "code",
      "source": [
        "def convert_to_matrix(graph):\n",
        "    matrix =[]\n",
        "    for i in range(len(graph)): \n",
        "        matrix.append([0]*len(graph))\n",
        "        for j in graph[i]:\n",
        "            matrix[i][j]=1\n",
        "    return matrix\n",
        "\n",
        "lst =[[1],[0,2,3],[1,3],[1,2,4,5],[3,5],[3,4]]\n",
        "print(convert_to_matrix(lst))"
      ],
      "metadata": {
        "id": "wzFQnvo7b2Er",
        "outputId": "0a172dd0-5406-4dd3-ced7-b0f25327aae9",
        "colab": {
          "base_uri": "https://localhost:8080/"
        }
      },
      "execution_count": 49,
      "outputs": [
        {
          "output_type": "stream",
          "name": "stdout",
          "text": [
            "[[0, 1, 0, 0, 0, 0], [1, 0, 1, 1, 0, 0], [0, 1, 0, 1, 0, 0], [0, 1, 1, 0, 1, 1], [0, 0, 0, 1, 0, 1], [0, 0, 0, 1, 1, 0]]\n"
          ]
        }
      ]
    },
    {
      "cell_type": "markdown",
      "source": [
        "#Lista de adyacencia"
      ],
      "metadata": {
        "id": "0cW597B6fkh8"
      }
    },
    {
      "cell_type": "code",
      "source": [
        "def convert_to_adjacency(matrix):\n",
        "    start = 0\n",
        "    res = []\n",
        "    lst = []\n",
        "    n = len(matrix)\n",
        "    for i in range(n):\n",
        "        res.append(lst*n)\n",
        "    while start < n:\n",
        "        y = matrix[start]\n",
        "        for i in range(len(y)):\n",
        "            if y[i]==1:\n",
        "                res[start].append(i)\n",
        "        start +=1\n",
        "    return res\n",
        "\n",
        "matrix =[[0,1,0,0,0,0],[1,0,1,1,0,0],[0,1,0,1,0,0],[0,1,1,0,1,1],[0,0,0,1,0,1],[0,0,0,1,1,0]]\n",
        "print(convert_to_adjacency(matrix))"
      ],
      "metadata": {
        "id": "n4-kZEgd-7cN",
        "outputId": "deffbb44-edf4-4664-c97a-c5e1c4423865",
        "colab": {
          "base_uri": "https://localhost:8080/"
        }
      },
      "execution_count": 48,
      "outputs": [
        {
          "output_type": "stream",
          "name": "stdout",
          "text": [
            "[[1], [0, 2, 3], [1, 3], [1, 2, 4, 5], [3, 5], [3, 4]]\n"
          ]
        }
      ]
    },
    {
      "cell_type": "markdown",
      "source": [
        "#Suma de los valores de la matriz"
      ],
      "metadata": {
        "id": "Fw9OGaRGVGUR"
      }
    },
    {
      "cell_type": "code",
      "source": [
        "def python_function(numeros1, multiplo):\n",
        "\n",
        " suma = 0\n",
        " for i in numeros1:\n",
        "\n",
        "      if i % multiplo == 0:\n",
        "\n",
        "         suma+=i\n",
        " return suma\n",
        "\n",
        "numeros1 = [0,1,0,0,0,0,1,0,1,1,0,0,0,1,0,1,0,0,0,1,1,0,1,1,0,0,0,1,0,1,0,0,0,1,1,0]\n",
        "multiplo = 1\n",
        "print(\"la suma de los valores de la matriz es: \")\n",
        "print(python_function(numeros1,multiplo))"
      ],
      "metadata": {
        "id": "q0IT3mrFOWDq",
        "outputId": "acd10f96-a4d1-41f4-9c28-8d429451cbe5",
        "colab": {
          "base_uri": "https://localhost:8080/"
        }
      },
      "execution_count": 94,
      "outputs": [
        {
          "output_type": "stream",
          "name": "stdout",
          "text": [
            "la suma de los valores de la matriz es: \n",
            "14\n"
          ]
        }
      ]
    },
    {
      "cell_type": "code",
      "source": [
        "from google.colab import drive\n",
        "drive.mount('/content/drive')"
      ],
      "metadata": {
        "id": "kYSdZgeEYTah",
        "outputId": "2d5af251-2457-4ebb-88ac-32e774604665",
        "colab": {
          "base_uri": "https://localhost:8080/"
        }
      },
      "execution_count": 17,
      "outputs": [
        {
          "output_type": "stream",
          "name": "stdout",
          "text": [
            "Mounted at /content/drive\n"
          ]
        }
      ]
    },
    {
      "cell_type": "code",
      "source": [
        "def convert_to_adjacency(matrix):\n",
        "    start = 0\n",
        "    res = []\n",
        "    lst = []\n",
        "    n = len(matrix)\n",
        "    for i in range(n):\n",
        "        res.append(lst*n)\n",
        "    while start < n:\n",
        "        y = matrix[start]\n",
        "        for i in range(len(y)):\n",
        "            if y[i]==1:\n",
        "                res[start].append(i)\n",
        "        start +=1\n",
        "    return res\n",
        "\n",
        "matrix =[[0,1,1,1,0,1,1,0,0],[1,0,0,1,0,0,1,1,0],[1,0,0,1,0,0,0,0,0],[1,1,1,0,1,0,0,0,0],[0,0,0,1,0,1,0,0,1],[1,0,0,0,1,0,0,0,1],[1,1,0,0,0,0,0,0,0],[0,1,0,0,0,0,0,0,0],[0,0,0,0,1,1,0,0,0]]\n",
        "print(convert_to_adjacency(matrix))"
      ],
      "metadata": {
        "id": "DDM1R2YzO-c-",
        "outputId": "477219ad-b36e-49bd-be73-7dcca08c6fa9",
        "colab": {
          "base_uri": "https://localhost:8080/"
        }
      },
      "execution_count": 95,
      "outputs": [
        {
          "output_type": "stream",
          "name": "stdout",
          "text": [
            "[[1, 2, 3, 5, 6], [0, 3, 6, 7], [0, 3], [0, 1, 2, 4], [3, 5, 8], [0, 4, 8], [0, 1], [1], [4, 5]]\n"
          ]
        }
      ]
    },
    {
      "cell_type": "code",
      "source": [
        "def convert_to_matrix(graph):\n",
        "    matrix =[]\n",
        "    for i in range(len(graph)): \n",
        "        matrix.append([0]*len(graph))\n",
        "        for j in graph[i]:\n",
        "            matrix[i][j]=1\n",
        "    return matrix\n",
        "\n",
        "lst =[[1,2,3,5,6],[0,3,6,7],[0,3],[0,1,2,4],[3,5,8],[0,4,8],[0,1],[1],[4,5]]\n",
        "print(convert_to_matrix(lst))"
      ],
      "metadata": {
        "id": "TcrGI9GTQ-o2",
        "outputId": "a4881cc6-c62a-4944-f686-cd51c1d18c8b",
        "colab": {
          "base_uri": "https://localhost:8080/"
        }
      },
      "execution_count": 96,
      "outputs": [
        {
          "output_type": "stream",
          "name": "stdout",
          "text": [
            "[[0, 1, 1, 1, 0, 1, 1, 0, 0], [1, 0, 0, 1, 0, 0, 1, 1, 0], [1, 0, 0, 1, 0, 0, 0, 0, 0], [1, 1, 1, 0, 1, 0, 0, 0, 0], [0, 0, 0, 1, 0, 1, 0, 0, 1], [1, 0, 0, 0, 1, 0, 0, 0, 1], [1, 1, 0, 0, 0, 0, 0, 0, 0], [0, 1, 0, 0, 0, 0, 0, 0, 0], [0, 0, 0, 0, 1, 1, 0, 0, 0]]\n"
          ]
        }
      ]
    },
    {
      "cell_type": "markdown",
      "source": [
        "##Grafo del ejemplo anterior"
      ],
      "metadata": {
        "id": "hLkCREksZr4L"
      }
    },
    {
      "cell_type": "code",
      "source": [
        "from IPython.display import Image\n",
        "Image (\"Grafo de ejemplo.png\")"
      ],
      "metadata": {
        "id": "SW4yA6ifZvis",
        "outputId": "95e0ce51-442b-415b-f30e-26a6d3bf18b4",
        "colab": {
          "base_uri": "https://localhost:8080/",
          "height": 368
        }
      },
      "execution_count": 97,
      "outputs": [
        {
          "output_type": "execute_result",
          "data": {
            "image/png": "[encoded data removed]",
            "text/plain": [
              "<IPython.core.display.Image object>"
            ]
          },
          "metadata": {},
          "execution_count": 97
        }
      ]
    },
    {
      "cell_type": "markdown",
      "source": [
        "## Práctica 2.5\n",
        "**Árboles binarios**\n",
        "* Mira este vídeo: [¿Qué son los ÁRBOLES BINARIOS y por qué son tan geniales?](https://youtu.be/lMTaNbJAqvM)\n",
        "* ¿Qué son los **árboles binarios de búsqueda**? (en inglés: BST (Binary Search Tree))\n",
        "* Mira este vídeo: [Recorrido de Árboles Binarios](https://youtu.be/WCiwBrj8EQY)\n",
        "* Qué significa recorrer el árbol en:\n",
        " - preorden\n",
        " - inorden\n",
        " - postorden\n",
        "* Al BST del vídeo anterior añadele dos nodos de tu elección, de forma que continúe siendo un BST, dibujalo (poniendo en color azul claro los dos nodos nuevos) y da su recorrido en:\n",
        " - preorden\n",
        " - inorden (observa que en este caso los nodos deben quedar **ordenados** de menor a mayor)\n",
        " - postorden\n",
        "* ¿Por qué los BST son importantes en ciencias de la computación?\n",
        "* Pon un link a una página o vídeo que trate este tema en **Python**.\n",
        "* ¿Has probado el código en Python que comentas? ¿Funciona con el BST que has puesto como ejemplo?"
      ],
      "metadata": {
        "id": "KciKQEh-DIxH"
      }
    },
    {
      "cell_type": "markdown",
      "source": [
        "## Práctica 2.6\n",
        "* ¿Qué es un **camino hamiltoniano**?\n",
        "Un camino hamiltoniano es un camino que pasa por cada vértice exactamente una vez.\n",
        "* Pon un ejemplo\n",
        "* Dibújalo\n",
        "* Resuelvelo\n",
        "* ¿Qué utilidad tiene?\n",
        "Los caminos hamiltonianos sirven para resolver problemas como por ejmplo de como ir a un sitio a otro sin tener que pasar por los mismos sitios. Por ejemplo, una red electrica.\n",
        "* Muestra los enlaces a un par de vídeos que hablen de ello.\n",
        "https://www.youtube.com/watch?v=gQfand0_VB0"
      ],
      "metadata": {
        "id": "Chf7cUkfaR9O"
      }
    },
    {
      "cell_type": "markdown",
      "source": [
        "##Ejemplo y su solución de un camino hamiltoniano"
      ],
      "metadata": {
        "id": "vEHnmqD6cAo8"
      }
    },
    {
      "cell_type": "code",
      "source": [
        "from IPython.display import Image\n",
        "Image (\"camino hamiltoniano.png\")"
      ],
      "metadata": {
        "id": "0kZ2u7Jxa9zO",
        "outputId": "a00a9e46-2d5d-414c-f492-a277b9994df6",
        "colab": {
          "base_uri": "https://localhost:8080/",
          "height": 282
        }
      },
      "execution_count": 98,
      "outputs": [
        {
          "output_type": "execute_result",
          "data": {
            "image/png": "[encoded data removed]",
            "text/plain": [
              "<IPython.core.display.Image object>"
            ]
          },
          "metadata": {},
          "execution_count": 98
        }
      ]
    },
    {
      "cell_type": "code",
      "source": [
        "from IPython.display import Image\n",
        "Image (\"camino hamiltoniano resuelto.png\")"
      ],
      "metadata": {
        "id": "Ho7iTWCxdBiR",
        "outputId": "5897a5df-3d38-4872-f471-cd8c3e49aa3b",
        "colab": {
          "base_uri": "https://localhost:8080/",
          "height": 283
        }
      },
      "execution_count": 99,
      "outputs": [
        {
          "output_type": "execute_result",
          "data": {
            "image/png": "[encoded data removed]",
            "text/plain": [
              "<IPython.core.display.Image object>"
            ]
          },
          "metadata": {},
          "execution_count": 99
        }
      ]
    },
    {
      "cell_type": "markdown",
      "source": [
        "## Práctica 2.7\n",
        "* Mira este vídeo:\n",
        " - [Un problema matemático de ciudades y carreteras](https://youtu.be/kwU1uIbylsM)\n",
        "* Dibuja el grafo y da tu solución"
      ],
      "metadata": {
        "id": "vJ9XxUVKcpys"
      }
    },
    {
      "cell_type": "markdown",
      "source": [
        "## Práctica 2.8\n",
        "* El problema de **los puentes de Königsberg**\n",
        "* Describe el problema\n",
        "* Muestra una imagen del grafo resultante\n",
        "* Quién fue *Euler* y qué hizo para resolver el problema"
      ],
      "metadata": {
        "id": "mWSmp60VaQRp"
      }
    },
    {
      "cell_type": "markdown",
      "source": [
        "## Práctica 2.9\n",
        "* ¿Qué son los **caminos eulerianos**?\n",
        "Un camino euleriano es un camino que pasa por cada arista una sola vez (lo que permite volver a visitar los vertices).\n",
        "* ¿Qué son los **ciclos eulerianos**?\n",
        "Un ciclo euleriano es un camino cerrado que recorre cada arista exactamente una vez. Empieza y termina en el mismo vértice.\n",
        "* Da los enlaces a dos vídeos que hablen de ello\n",
        "* Dibuja un par de casos"
      ],
      "metadata": {
        "id": "_jPsX_8vhGkL"
      }
    },
    {
      "cell_type": "markdown",
      "source": [],
      "metadata": {
        "id": "ceYNFusIoMRz"
      }
    },
    {
      "cell_type": "markdown",
      "source": [
        "## Práctica 2.10\n",
        "* Mira estos vídeos:\n",
        " - [¿Puedes dibujarlo sin despegar el lápiz?](https://youtu.be/IZ0-xFrlvag)\n",
        " - [USA esta LÓGICA cuando NO PUEDAS con un PROBLEMA](https://youtu.be/5Ncb7eU0LkQ)\n",
        "* Caso 1: dibuja un grafo en el que si sea posible y resuélvelo\n",
        "* Caso 2: dibuja un grafo en el que no sea posible y di el motivo"
      ],
      "metadata": {
        "id": "4wcsNU_-kQM-"
      }
    }
  ]
}