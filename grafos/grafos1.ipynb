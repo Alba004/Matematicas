{
  "nbformat": 4,
  "nbformat_minor": 0,
  "metadata": {
    "colab": {
      "name": "grafos1.ipynb",
      "provenance": [],
      "include_colab_link": true
    },
    "kernelspec": {
      "name": "python3",
      "display_name": "Python 3"
    },
    "language_info": {
      "name": "python"
    }
  },
  "cells": [
    {
      "cell_type": "markdown",
      "metadata": {
        "id": "view-in-github",
        "colab_type": "text"
      },
      "source": [
        "<a href=\"https://colab.research.google.com/github/Alba004/Matematicas/blob/main/grafos/grafos1.ipynb\" target=\"_parent\"><img src=\"https://colab.research.google.com/assets/colab-badge.svg\" alt=\"Open In Colab\"/></a>"
      ]
    },
    {
      "cell_type": "markdown",
      "source": [
        "# Grafos\n",
        "Importamos la librería networkx especializada en grafos.\n"
      ],
      "metadata": {
        "id": "Iex2nolCLK4O"
      }
    },
    {
      "cell_type": "code",
      "execution_count": 1,
      "metadata": {
        "colab": {
          "base_uri": "https://localhost:8080/"
        },
        "id": "i1VH64ZLI1H-",
        "outputId": "e61e8a3a-ea1d-4955-dabf-2fa19b621faa"
      },
      "outputs": [
        {
          "output_type": "stream",
          "name": "stdout",
          "text": [
            "Graph with 6 nodes and 5 edges \n",
            "\n",
            "Nodos: 6\n",
            "['A', 'B', 'C', 'D', 'E', 'Z'] \n",
            "\n",
            "Aristas: 5\n",
            "[('A', 'B'), ('A', 'D'), ('B', 'C'), ('C', 'D'), ('C', 'E')]\n"
          ]
        }
      ],
      "source": [
        "import networkx as nx\n",
        "G = nx.Graph()\n",
        "G.add_node(\"A\")\n",
        "G.add_node(\"B\")\n",
        "G.add_node(\"C\")\n",
        "G.add_node(\"D\")\n",
        "G.add_node(\"E\")\n",
        "G.add_node(\"Z\")\n",
        "\n",
        "G.add_edge(\"A\",\"B\")\n",
        "G.add_edge(\"A\",\"D\")\n",
        "G.add_edge(\"B\",\"C\")\n",
        "G.add_edge(\"C\",\"D\")\n",
        "G.add_edge(\"C\",\"E\")\n",
        "\n",
        "print(G, \"\\n\")\n",
        "\n",
        "print(\"Nodos:\", len(G.nodes))\n",
        "print(G.nodes, \"\\n\")\n",
        "\n",
        "print(\"Aristas:\", len(G.edges))\n",
        "print(G.edges)"
      ]
    },
    {
      "cell_type": "code",
      "source": [
        "import networkx as nx\n",
        "import matplotlib.pyplot as plt\n",
        "\n",
        "G = nx.DiGraph()\n",
        "G.add_node(\"A\")\n",
        "G.add_node(\"B\")\n",
        "G.add_node(\"C\")\n",
        "G.add_node(\"D\")\n",
        "G.add_node(\"E\")\n",
        "G.add_node(\"F\")\n",
        "G.add_node(\"G\")\n",
        "G.add_edge(\"A\",\"B\")\n",
        "G.add_edge(\"B\",\"C\")\n",
        "G.add_edge(\"C\",\"E\")\n",
        "G.add_edge(\"C\",\"F\")\n",
        "G.add_edge(\"D\",\"E\")\n",
        "G.add_edge(\"F\",\"G\")\n",
        "\n",
        "print(G.nodes())\n",
        "print(G.edges())\n",
        "\n",
        "pos = nx.spring_layout(G)\n",
        "\n",
        "nx.draw_networkx_nodes(G, pos)\n",
        "nx.draw_networkx_labels(G, pos)\n",
        "nx.draw_networkx_edges(G, pos, edge_color='r', arrows = True)\n",
        "\n",
        "plt.show()"
      ],
      "metadata": {
        "colab": {
          "base_uri": "https://localhost:8080/",
          "height": 283
        },
        "id": "96DcY1CLPcsM",
        "outputId": "bdcb1e21-713f-4444-a182-05a6cb4c4a2c"
      },
      "execution_count": 2,
      "outputs": [
        {
          "output_type": "stream",
          "name": "stdout",
          "text": [
            "['A', 'B', 'C', 'D', 'E', 'F', 'G']\n",
            "[('A', 'B'), ('B', 'C'), ('C', 'E'), ('C', 'F'), ('D', 'E'), ('F', 'G')]\n"
          ]
        },
        {
          "output_type": "display_data",
          "data": {
            "text/plain": [
              "<Figure size 432x288 with 1 Axes>"
            ],
            "image/png": "[encoded data removed]"
          },
          "metadata": {}
        }
      ]
    },
    {
      "cell_type": "code",
      "source": [
        "import networkx as nx\n",
        "import matplotlib.pyplot as plt\n",
        "\n",
        "g = nx.DiGraph()\n",
        "g.add_nodes_from([1,2,3,4,5])\n",
        "g.add_edge(1,2)\n",
        "g.add_edge(4,2)\n",
        "g.add_edge(3,5)\n",
        "g.add_edge(2,3)\n",
        "g.add_edge(5,4)\n",
        "\n",
        "nx.draw(g,with_labels=True)\n",
        "plt.draw()\n",
        "plt.show()"
      ],
      "metadata": {
        "colab": {
          "base_uri": "https://localhost:8080/",
          "height": 319
        },
        "id": "nk2RE9qPPsBr",
        "outputId": "aa94faba-d10c-4e5f-89c7-1c58a02c94bb"
      },
      "execution_count": null,
      "outputs": [
        {
          "output_type": "display_data",
          "data": {
            "text/plain": [
              "<Figure size 432x288 with 1 Axes>"
            ],
            "image/png": "[encoded data removed]"
          },
          "metadata": {}
        }
      ]
    }
  ]
}