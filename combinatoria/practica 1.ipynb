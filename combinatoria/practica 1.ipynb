{
  "nbformat": 4,
  "nbformat_minor": 0,
  "metadata": {
    "colab": {
      "provenance": [],
      "include_colab_link": true
    },
    "kernelspec": {
      "name": "python3",
      "display_name": "Python 3"
    },
    "language_info": {
      "name": "python"
    }
  },
  "cells": [
    {
      "cell_type": "markdown",
      "metadata": {
        "id": "view-in-github",
        "colab_type": "text"
      },
      "source": [
        "<a href=\"https://colab.research.google.com/github/Alba004/Matematicas/blob/main/combinatoria/practica%201.ipynb\" target=\"_parent\"><img src=\"https://colab.research.google.com/assets/colab-badge.svg\" alt=\"Open In Colab\"/></a>"
      ]
    },
    {
      "cell_type": "markdown",
      "source": [
        "# Práctica 1. Combinatoria\n",
        "Resuelva los siguientes apartados de la práctica.  \n",
        "La práctica 1.1 se proporciona solucionada para que pueda servir como ejemplo.\n"
      ],
      "metadata": {
        "id": "VP-PLgSCPtPC"
      }
    },
    {
      "cell_type": "markdown",
      "source": [
        "## Práctica 1.1\n",
        "Cuatro amigos:\n",
        "* Antonio (A)\n",
        "* Begoña (B)\n",
        "* Cesar (C)\n",
        "* Diana (D)\n",
        "\n",
        "constituyen una asociación y tienen que asignar los siguientes cargos:\n",
        "* Presiente (1)\n",
        "* Vicepresidente (2)\n",
        "* Secretario (3)\n",
        "* Tesorero (4)\n",
        "\n",
        "Se pide:\n",
        "1. Escribiendo la solución en una celda de Markdown analice el caso indicando si se trata de variaciones, permutaciones o combinaciones, con o sin repetición o el caso que sea, y el motivo para clasificar el caso de esta forma.\n",
        "2. Utilizando fórmulas de $\\LaTeX$ calcule cuántos casos existen.\n",
        "3. Cree un programa en Python para calcule cuántos casos existen.\n",
        "4. Cree un programa en Python para imprimir todas las posibilidades y numérelas. Por ejemplo:\n",
        "    - 1 ABCD\n",
        "    - 2 ABDC\n",
        "    - 3 ACBD\n",
        "    - ... ... ..."
      ],
      "metadata": {
        "id": "6oyoxqfbQJDC"
      }
    },
    {
      "cell_type": "markdown",
      "source": [
        "### Solución 1.1\n",
        "* Estamos ante un caso de **permutaciones sin repetición** ya que:\n",
        " - El orden importa, no es lo mismo estar el nº1 que significa ser presidente que el nº 4 que corresponde al tesorero.\n",
        " - Intervienen todos. Son 4 amigos para 4 cargos, todos tienen cargo, lo que cambiar es el orden, esto es, el cargo que obtengan.\n",
        " - No se repiten elementos. Una persona no puede tener dos cargos simultaneamente.\n",
        "* Los casos que se obtienen con las permutaciones sin repetición son $P_{n}=n!$ que para este ejemplo son:\n",
        "\n",
        "$$P_{4}=4!=4 \\cdot 3 \\cdot 2 \\cdot 1 = 24$$"
      ],
      "metadata": {
        "id": "t5unIqR7jdZR"
      }
    },
    {
      "cell_type": "code",
      "source": [
        "import math\n",
        "p = math.factorial(4)\n",
        "print(\"Los casos son: \", p)\n",
        "print(\"Comprobación:  \", 4*3*2*1)"
      ],
      "metadata": {
        "id": "va3_l_-hmFS-",
        "outputId": "bb74f83d-4958-4827-ddc5-4e9f485be5c8",
        "colab": {
          "base_uri": "https://localhost:8080/"
        }
      },
      "execution_count": null,
      "outputs": [
        {
          "output_type": "stream",
          "name": "stdout",
          "text": [
            "Los casos son:  24\n",
            "Comprobación:   24\n"
          ]
        }
      ]
    },
    {
      "cell_type": "markdown",
      "source": [
        "#### Método 1\n",
        "Sin usar librería."
      ],
      "metadata": {
        "id": "kOM3pEAGnh8v"
      }
    },
    {
      "cell_type": "code",
      "source": [
        "lista = ['A', 'B', 'C', 'D']\n",
        "contador = 1\n",
        "\n",
        "for i in lista:\n",
        "    for j in lista:\n",
        "        for k in lista:\n",
        "            for l in lista:\n",
        "                if i != j and i != k and i != l and j != k and j != l and k != l:\n",
        "                    print(f\"{contador:2d} →  {i+j+k+l}\")\n",
        "                    contador += 1"
      ],
      "metadata": {
        "id": "5--ZpSoJncj3",
        "outputId": "199b1c0c-0f3d-461a-b3f0-ab5ab40e92b5",
        "colab": {
          "base_uri": "https://localhost:8080/"
        }
      },
      "execution_count": null,
      "outputs": [
        {
          "output_type": "stream",
          "name": "stdout",
          "text": [
            " 1 →  ABCD\n",
            " 2 →  ABDC\n",
            " 3 →  ACBD\n",
            " 4 →  ACDB\n",
            " 5 →  ADBC\n",
            " 6 →  ADCB\n",
            " 7 →  BACD\n",
            " 8 →  BADC\n",
            " 9 →  BCAD\n",
            "10 →  BCDA\n",
            "11 →  BDAC\n",
            "12 →  BDCA\n",
            "13 →  CABD\n",
            "14 →  CADB\n",
            "15 →  CBAD\n",
            "16 →  CBDA\n",
            "17 →  CDAB\n",
            "18 →  CDBA\n",
            "19 →  DABC\n",
            "20 →  DACB\n",
            "21 →  DBAC\n",
            "22 →  DBCA\n",
            "23 →  DCAB\n",
            "24 →  DCBA\n"
          ]
        }
      ]
    },
    {
      "cell_type": "markdown",
      "source": [
        "#### Método 2\n",
        "* Usamos la función `permutations` de la librería `intertools`.\n",
        "* Imprimimos todas las permutaciones de los elementos de una lista."
      ],
      "metadata": {
        "id": "2PoCD5GlnwS1"
      }
    },
    {
      "cell_type": "code",
      "source": [
        "from itertools import permutations\n",
        "\n",
        "perm = permutations(['A','B','C','D'])   # obtenemos todas las permutaciones de la lista \n",
        "\n",
        "for i in list(perm):                     # imprimimos todas las permutaciones \n",
        "    print (*i)                           # con el asterisco se muestran las listas sin corchetes ni comas"
      ],
      "metadata": {
        "id": "eKkB1gQnn6_P",
        "outputId": "cb90a15f-83b2-484b-d6d2-cf9c4761c514",
        "colab": {
          "base_uri": "https://localhost:8080/"
        }
      },
      "execution_count": null,
      "outputs": [
        {
          "output_type": "stream",
          "name": "stdout",
          "text": [
            "A B C D\n",
            "A B D C\n",
            "A C B D\n",
            "A C D B\n",
            "A D B C\n",
            "A D C B\n",
            "B A C D\n",
            "B A D C\n",
            "B C A D\n",
            "B C D A\n",
            "B D A C\n",
            "B D C A\n",
            "C A B D\n",
            "C A D B\n",
            "C B A D\n",
            "C B D A\n",
            "C D A B\n",
            "C D B A\n",
            "D A B C\n",
            "D A C B\n",
            "D B A C\n",
            "D B C A\n",
            "D C A B\n",
            "D C B A\n"
          ]
        }
      ]
    },
    {
      "cell_type": "markdown",
      "source": [
        "## Práctica 1.2\n",
        "Cuatro amigos:\n",
        "* Antonio (A)\n",
        "* Begoña (B)\n",
        "* Cesar (C)\n",
        "* Diana (D)\n",
        "\n",
        "constituyen una asociación y tienen que asignar los siguientes cargos:\n",
        "* Presiente (1)\n",
        "* Secretario (3)\n",
        "* Tesorero (4)\n",
        "\n",
        "Se pide:\n",
        "1. Escribiendo la solución en una celda de Markdown analice el caso indicando si se trata de variaciones, permutaciones o combinaciones, con o sin repetición o el caso que sea, y el motivo para clasificar el caso de esta forma.\n",
        "2. Utilizando fórmulas de $\\LaTeX$ calcule cuántos casos existen.\n",
        "3. Cree un programa en Python para calcule cuántos casos existen.\n",
        "4. Cree un programa en Python para imprimir todas las posibilidades y numérelas. Por ejemplo:\n",
        "    - 1 ABC\n",
        "    - 2 ABD\n",
        "    - 3 ACB\n",
        "    - ... ... ..."
      ],
      "metadata": {
        "id": "sxSuCpAFSBPJ"
      }
    },
    {
      "cell_type": "markdown",
      "source": [
        "\n",
        "\n",
        "Estamos ante una caso de **variacion sin \n",
        "repetición** ya que:\n",
        "*   El orden importa porque no es lo mismo estar el primero como presidente que el cuarto como tesorero.\n",
        "*   En este caso, no intervienen todos ya que son 3 cargos y a 4 personas.\n",
        "*   No se repiten elementos ya que una persona no puede tener dos cargos.\n",
        "Por lo tanto lo obtendremos con la formula de $V_{n,k}=n!/(n-k)!$ que para este caso son: \n",
        "$$V_{4,3}=4!/(4-3)!=24/1=24$$\n",
        "\n"
      ],
      "metadata": {
        "id": "sc3DEuz4t6OD"
      }
    },
    {
      "cell_type": "markdown",
      "source": [
        "### Solución 1.2"
      ],
      "metadata": {
        "id": "xx9qsw_ej9Pd"
      }
    },
    {
      "cell_type": "code",
      "source": [
        "import math\n",
        "p = math.factorial(4)\n",
        "s = math.factorial (4-3)\n",
        "print(\"los casos son: \", p//s)\n",
        "print(\"Comprobacion:\",4*3*2*1//1)"
      ],
      "metadata": {
        "id": "9nxazbUX5sfc",
        "outputId": "7956b125-7af3-40e7-94d7-0c704f624184",
        "colab": {
          "base_uri": "https://localhost:8080/"
        }
      },
      "execution_count": null,
      "outputs": [
        {
          "output_type": "stream",
          "name": "stdout",
          "text": [
            "los casos son:  24\n",
            "Comprobacion: 24\n"
          ]
        }
      ]
    },
    {
      "cell_type": "markdown",
      "source": [
        "##Metodo 1.\n",
        "Sin usar libreria."
      ],
      "metadata": {
        "id": "KJN6asqG0OEs"
      }
    },
    {
      "cell_type": "code",
      "source": [
        "lista = [\"A\", \"B\", \"C\",\"D\"]\n",
        "contador = 0\n",
        "for i in lista:\n",
        "    for j in lista:\n",
        "        for k in lista:\n",
        "            if i != j and i != k and j != k:\n",
        "                 contador += 1\n",
        "                 #print(contador, i + j + k)\n",
        "                 print(f\"{contador:2d} - {i+j+k}\")"
      ],
      "metadata": {
        "id": "kqht-HTQ0gG_",
        "outputId": "abee5a46-cb6c-488e-e0bd-379cbdee7398",
        "colab": {
          "base_uri": "https://localhost:8080/"
        }
      },
      "execution_count": null,
      "outputs": [
        {
          "output_type": "stream",
          "name": "stdout",
          "text": [
            " 1 - ABC\n",
            " 2 - ABD\n",
            " 3 - ACB\n",
            " 4 - ACD\n",
            " 5 - ADB\n",
            " 6 - ADC\n",
            " 7 - BAC\n",
            " 8 - BAD\n",
            " 9 - BCA\n",
            "10 - BCD\n",
            "11 - BDA\n",
            "12 - BDC\n",
            "13 - CAB\n",
            "14 - CAD\n",
            "15 - CBA\n",
            "16 - CBD\n",
            "17 - CDA\n",
            "18 - CDB\n",
            "19 - DAB\n",
            "20 - DAC\n",
            "21 - DBA\n",
            "22 - DBC\n",
            "23 - DCA\n",
            "24 - DCB\n"
          ]
        }
      ]
    },
    {
      "cell_type": "markdown",
      "source": [
        "## Práctica 1.3\n",
        "Invente un caso de **variaciones sin repetición**.\n",
        "Se pide contestar a los mismos puntos que el caso anterior."
      ],
      "metadata": {
        "id": "D0S1DjF4MKmz"
      }
    },
    {
      "cell_type": "markdown",
      "source": [
        "¿De cuantas formas se pueden cubrir los puestos de presidente (A) y secretario (B) de una comunidad de vecinos, contando con 5 personas para ello?\n",
        "\n",
        "*  Vecino (1)\n",
        "*  Vecino (2)\n",
        "*  Vecino (3)\n",
        "*  Vecino (4)\n",
        "*  Vecino (5)\n",
        "\n",
        "\n",
        "\n",
        "\n",
        "\n"
      ],
      "metadata": {
        "id": "UHQ1nBlP-BdP"
      }
    },
    {
      "cell_type": "markdown",
      "source": [
        "### Solución 1.3"
      ],
      "metadata": {
        "id": "AfyuPIASj_20"
      }
    },
    {
      "cell_type": "markdown",
      "source": [
        "Estamos ante un caso de **variacion sin repeticion** ya que:\n",
        "\n",
        "\n",
        "*   El orden importa, no es lo mismo ser el presidente que el secretario.\n",
        "*   No intervienen todos porque son 2 cargos para 5 personas.\n",
        "*   No se repiten elementos. Una persona no puede ser presidente y secretario a la vez.\n",
        "Por lo tanto la formula será:\n",
        "$$V_{5,2}=\\frac{5!}{(5-2)!}=\\frac{120}6=20$$\n",
        "\n",
        "\n",
        "\n",
        "\n"
      ],
      "metadata": {
        "id": "njv7FYEhAAb2"
      }
    },
    {
      "cell_type": "code",
      "source": [
        "import math\n",
        "p = math.factorial (5)\n",
        "s = math.factorial (5-2)\n",
        "print(\"los casos son:\", p//s)"
      ],
      "metadata": {
        "id": "uFHFGiej5t_W",
        "outputId": "34dc0373-b18e-4c6a-cdf4-e28b9f62608f",
        "colab": {
          "base_uri": "https://localhost:8080/"
        }
      },
      "execution_count": null,
      "outputs": [
        {
          "output_type": "stream",
          "name": "stdout",
          "text": [
            "los casos son: 20\n"
          ]
        }
      ]
    },
    {
      "cell_type": "code",
      "source": [
        "vecinos = [\"1\", \"2\", \"3\", \"4\", \"5\"]\n",
        "contador = 0\n",
        "for i in vecinos:\n",
        "    for j in vecinos:\n",
        "        if i != j:\n",
        "            contador += 1\n",
        "            #print (contador, i + j)\n",
        "            print(f\"{contador:2} - {i+j} \")"
      ],
      "metadata": {
        "id": "SUYDJisxErEw",
        "outputId": "2fc57ee4-f892-48bf-bea1-eafc2072e509",
        "colab": {
          "base_uri": "https://localhost:8080/"
        }
      },
      "execution_count": null,
      "outputs": [
        {
          "output_type": "stream",
          "name": "stdout",
          "text": [
            " 1 - 12 \n",
            " 2 - 13 \n",
            " 3 - 14 \n",
            " 4 - 15 \n",
            " 5 - 21 \n",
            " 6 - 23 \n",
            " 7 - 24 \n",
            " 8 - 25 \n",
            " 9 - 31 \n",
            "10 - 32 \n",
            "11 - 34 \n",
            "12 - 35 \n",
            "13 - 41 \n",
            "14 - 42 \n",
            "15 - 43 \n",
            "16 - 45 \n",
            "17 - 51 \n",
            "18 - 52 \n",
            "19 - 53 \n",
            "20 - 54 \n"
          ]
        }
      ]
    },
    {
      "cell_type": "markdown",
      "source": [
        "## Práctica 1.4\n",
        "Invente un caso de **variaciones con repetición**.\n",
        "Se pide contestar a los mismos puntos que el caso anterior."
      ],
      "metadata": {
        "id": "gvlnqCaRMTua"
      }
    },
    {
      "cell_type": "markdown",
      "source": [
        "¿Cuantos resultados hay al lanzar una moneda al aire tres veces?\n",
        "Teniendo en cuenta que la moneda solo tiene Cara (c) o Cruz (x)"
      ],
      "metadata": {
        "id": "mdd7fsiTHmSi"
      }
    },
    {
      "cell_type": "markdown",
      "source": [
        "### Solución 1.4"
      ],
      "metadata": {
        "id": "hzvsgRDbkCy1"
      }
    },
    {
      "cell_type": "markdown",
      "source": [
        "Estamos ante un caso de **variacion con repeticion** ya que:\n",
        "\n",
        "*   El orden si importa.\n",
        "*   Si intervienen todos lo elementos que son cara y cruz\n",
        "*   Si se puede repetir.\n",
        "Entonces podemos decir que la formula es:\n",
        "\n",
        "$$VR_{n,k}=n^k=2^3=8$$\n"
      ],
      "metadata": {
        "id": "9k3y7vqsIUMe"
      }
    },
    {
      "cell_type": "code",
      "source": [
        "print(\"Los casos que vamos a obtener son:\", pow(2, 3))"
      ],
      "metadata": {
        "id": "_-4wYn6OVCea",
        "outputId": "1892dfc0-2ac0-43bd-b9ba-ee084c48aeb0",
        "colab": {
          "base_uri": "https://localhost:8080/"
        }
      },
      "execution_count": 24,
      "outputs": [
        {
          "output_type": "stream",
          "name": "stdout",
          "text": [
            "Los casos que vamos a obtener son: 8\n"
          ]
        }
      ]
    },
    {
      "cell_type": "code",
      "source": [
        "import itertools\n",
        "opciones = list([\"C\", \"X\",])\n",
        "permutations = itertools.combinations_with_replacement (opciones, r=3)\n",
        "cuenta = 1\n",
        "for i in permutations:\n",
        "    print(cuenta,\" - \",i)\n",
        "    cuenta += 1\n",
        "\n",
        "import itertools\n",
        "opciones = list([\"X\", \"C\"])\n",
        "permutations = itertools.combinations_with_replacement (opciones, r=3)\n",
        "cuenta = 5\n",
        "for i in permutations:\n",
        "    print(cuenta, \" - \",i)\n",
        "    cuenta += 1"
      ],
      "metadata": {
        "id": "Ayg9nm6W5usL",
        "outputId": "8b3326a7-5038-4897-8334-88f58cd3c25c",
        "colab": {
          "base_uri": "https://localhost:8080/"
        }
      },
      "execution_count": 40,
      "outputs": [
        {
          "output_type": "stream",
          "name": "stdout",
          "text": [
            "1  -  ('C', 'C', 'C')\n",
            "2  -  ('C', 'C', 'X')\n",
            "3  -  ('C', 'X', 'X')\n",
            "4  -  ('X', 'X', 'X')\n",
            "5  -  ('X', 'X', 'X')\n",
            "6  -  ('X', 'X', 'C')\n",
            "7  -  ('X', 'C', 'C')\n",
            "8  -  ('C', 'C', 'C')\n"
          ]
        }
      ]
    },
    {
      "cell_type": "markdown",
      "source": [
        "## Práctica 1.5\n",
        "Invente un caso de **permutaciones sin repetición**.\n",
        "Se pide contestar a los mismos puntos que el caso anterior."
      ],
      "metadata": {
        "id": "0OCAC-I-G5F6"
      }
    },
    {
      "cell_type": "markdown",
      "source": [
        "### Solución 1.5"
      ],
      "metadata": {
        "id": "FvLcj6XXkFOV"
      }
    },
    {
      "cell_type": "code",
      "source": [],
      "metadata": {
        "id": "cmDUwaQJ5v3j"
      },
      "execution_count": null,
      "outputs": []
    },
    {
      "cell_type": "markdown",
      "source": [
        "## Práctica 1.6\n",
        "Invente un caso de **permutaciones con repetición**.\n",
        "Se pide contestar a los mismos puntos que el caso anterior."
      ],
      "metadata": {
        "id": "YWUXIczqLj3W"
      }
    },
    {
      "cell_type": "markdown",
      "source": [
        "### Solución 1.6"
      ],
      "metadata": {
        "id": "siAxWVVekHs6"
      }
    },
    {
      "cell_type": "code",
      "source": [],
      "metadata": {
        "id": "LqHrk07X5wqX"
      },
      "execution_count": null,
      "outputs": []
    },
    {
      "cell_type": "markdown",
      "source": [
        "## Práctica 1.7\n",
        "Invente un caso de **combinaciones sin repetición**.\n",
        "Se pide contestar a los mismos puntos que el caso anterior."
      ],
      "metadata": {
        "id": "opCrIDtJGg1R"
      }
    },
    {
      "cell_type": "markdown",
      "source": [
        "### Solución 1.7"
      ],
      "metadata": {
        "id": "Zs46BsRnkJcl"
      }
    },
    {
      "cell_type": "code",
      "source": [],
      "metadata": {
        "id": "4D0vk5TA5xZM"
      },
      "execution_count": null,
      "outputs": []
    },
    {
      "cell_type": "markdown",
      "source": [
        "## Práctica 1.8\n",
        "Invente un caso de **combinaciones con repetición**.\n",
        "Se pide contestar a los mismos puntos que el caso anterior."
      ],
      "metadata": {
        "id": "-7Y5WWlDGzAR"
      }
    },
    {
      "cell_type": "markdown",
      "source": [
        "### Solución 1.8"
      ],
      "metadata": {
        "id": "ReRULqd8kL1F"
      }
    },
    {
      "cell_type": "code",
      "source": [],
      "metadata": {
        "id": "pT_BCeQo5yK7"
      },
      "execution_count": null,
      "outputs": []
    },
    {
      "cell_type": "markdown",
      "source": [
        "## Práctica 1.9\n",
        "En el gobierno se crea una unidad de crisis formada por el presidente (P) y 4 ministros (A,B,C,D) que se reúnen sentados alrededor de una **mesa redonda**.\n",
        "\n",
        "Se pide:  \n",
        "1. Calcule de cuantas formas pueden llegar a sentarse si el ministro de defensa (D) siempre ha de estar al lado del presidente (P). Escriba la solución en una celda de Markdown utilizando fórmulas en $\\LaTeX$  explicando el caso.\n",
        "2. Cree un programa en Python para calcular el número de casos que se pueden dar al sentarse en la mesa.\n",
        "3. Cree un programa en Python para imprimir todas las posibilidades y numérelas. Por ejemplo:\n",
        "    - 1 PABCD\n",
        "    - 2 PDABC\n",
        "    - 3 PACBD\n",
        "    - ... ... ...\n"
      ],
      "metadata": {
        "id": "SOzxh_YgHnDG"
      }
    },
    {
      "cell_type": "markdown",
      "source": [
        "### Solución 1.9"
      ],
      "metadata": {
        "id": "F8kV034OkQZX"
      }
    },
    {
      "cell_type": "code",
      "source": [],
      "metadata": {
        "id": "pJ8CqAHt5zQg"
      },
      "execution_count": null,
      "outputs": []
    },
    {
      "cell_type": "markdown",
      "source": [
        "## Práctica 10\n",
        "* Realice una breve explicación teórica del **triángulo de Pascal**, o también llamado triángulo de Tartaglia, y de las fórmulas de los números combinatorios.\n",
        "* Cree un programa en Python para hacer triángulo de Pascal."
      ],
      "metadata": {
        "id": "eiHdMOP-MkrZ"
      }
    },
    {
      "cell_type": "markdown",
      "source": [
        "### Solución 1.10"
      ],
      "metadata": {
        "id": "j0UT2579kTSM"
      }
    },
    {
      "cell_type": "code",
      "source": [],
      "metadata": {
        "id": "zLk4EF-G51HI"
      },
      "execution_count": null,
      "outputs": []
    }
  ]
}