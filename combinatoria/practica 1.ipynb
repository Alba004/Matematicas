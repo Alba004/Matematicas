{
  "nbformat": 4,
  "nbformat_minor": 0,
  "metadata": {
    "colab": {
      "provenance": [],
      "include_colab_link": true
    },
    "kernelspec": {
      "name": "python3",
      "display_name": "Python 3"
    },
    "language_info": {
      "name": "python"
    }
  },
  "cells": [
    {
      "cell_type": "markdown",
      "metadata": {
        "id": "view-in-github",
        "colab_type": "text"
      },
      "source": [
        "<a href=\"https://colab.research.google.com/github/Alba004/Matematicas/blob/main/combinatoria/practica%201.ipynb\" target=\"_parent\"><img src=\"https://colab.research.google.com/assets/colab-badge.svg\" alt=\"Open In Colab\"/></a>"
      ]
    },
    {
      "cell_type": "markdown",
      "source": [
        "# Práctica 1. Combinatoria\n",
        "Resuelva los siguientes apartados de la práctica.  \n",
        "La práctica 1.1 se proporciona solucionada para que pueda servir como ejemplo.\n"
      ],
      "metadata": {
        "id": "VP-PLgSCPtPC"
      }
    },
    {
      "cell_type": "markdown",
      "source": [
        "## Práctica 1.1\n",
        "Cuatro amigos:\n",
        "* Antonio (A)\n",
        "* Begoña (B)\n",
        "* Cesar (C)\n",
        "* Diana (D)\n",
        "\n",
        "constituyen una asociación y tienen que asignar los siguientes cargos:\n",
        "* Presiente (1)\n",
        "* Vicepresidente (2)\n",
        "* Secretario (3)\n",
        "* Tesorero (4)\n",
        "\n",
        "Se pide:\n",
        "1. Escribiendo la solución en una celda de Markdown analice el caso indicando si se trata de variaciones, permutaciones o combinaciones, con o sin repetición o el caso que sea, y el motivo para clasificar el caso de esta forma.\n",
        "2. Utilizando fórmulas de $\\LaTeX$ calcule cuántos casos existen.\n",
        "3. Cree un programa en Python para calcule cuántos casos existen.\n",
        "4. Cree un programa en Python para imprimir todas las posibilidades y numérelas. Por ejemplo:\n",
        "    - 1 ABCD\n",
        "    - 2 ABDC\n",
        "    - 3 ACBD\n",
        "    - ... ... ..."
      ],
      "metadata": {
        "id": "6oyoxqfbQJDC"
      }
    },
    {
      "cell_type": "markdown",
      "source": [
        "### Solución 1.1\n",
        "* Estamos ante un caso de **permutaciones sin repetición** ya que:\n",
        " - El orden importa, no es lo mismo estar el nº1 que significa ser presidente que el nº 4 que corresponde al tesorero.\n",
        " - Intervienen todos. Son 4 amigos para 4 cargos, todos tienen cargo, lo que cambiar es el orden, esto es, el cargo que obtengan.\n",
        " - No se repiten elementos. Una persona no puede tener dos cargos simultaneamente.\n",
        "* Los casos que se obtienen con las permutaciones sin repetición son $P_{n}=n!$ que para este ejemplo son:\n",
        "\n",
        "$$P_{4}=4!=4 \\cdot 3 \\cdot 2 \\cdot 1 = 24$$"
      ],
      "metadata": {
        "id": "t5unIqR7jdZR"
      }
    },
    {
      "cell_type": "code",
      "source": [
        "import math\n",
        "p = math.factorial(4)\n",
        "print(\"Los casos son: \", p)\n",
        "print(\"Comprobación:  \", 4*3*2*1)"
      ],
      "metadata": {
        "id": "va3_l_-hmFS-",
        "outputId": "bb74f83d-4958-4827-ddc5-4e9f485be5c8",
        "colab": {
          "base_uri": "https://localhost:8080/"
        }
      },
      "execution_count": null,
      "outputs": [
        {
          "output_type": "stream",
          "name": "stdout",
          "text": [
            "Los casos son:  24\n",
            "Comprobación:   24\n"
          ]
        }
      ]
    },
    {
      "cell_type": "markdown",
      "source": [
        "#### Método 1\n",
        "Sin usar librería."
      ],
      "metadata": {
        "id": "kOM3pEAGnh8v"
      }
    },
    {
      "cell_type": "code",
      "source": [
        "lista = ['A', 'B', 'C', 'D']\n",
        "contador = 1\n",
        "\n",
        "for i in lista:\n",
        "    for j in lista:\n",
        "        for k in lista:\n",
        "            for l in lista:\n",
        "                if i != j and i != k and i != l and j != k and j != l and k != l:\n",
        "                    print(f\"{contador:2d} →  {i+j+k+l}\")\n",
        "                    contador += 1"
      ],
      "metadata": {
        "id": "5--ZpSoJncj3",
        "outputId": "199b1c0c-0f3d-461a-b3f0-ab5ab40e92b5",
        "colab": {
          "base_uri": "https://localhost:8080/"
        }
      },
      "execution_count": null,
      "outputs": [
        {
          "output_type": "stream",
          "name": "stdout",
          "text": [
            " 1 →  ABCD\n",
            " 2 →  ABDC\n",
            " 3 →  ACBD\n",
            " 4 →  ACDB\n",
            " 5 →  ADBC\n",
            " 6 →  ADCB\n",
            " 7 →  BACD\n",
            " 8 →  BADC\n",
            " 9 →  BCAD\n",
            "10 →  BCDA\n",
            "11 →  BDAC\n",
            "12 →  BDCA\n",
            "13 →  CABD\n",
            "14 →  CADB\n",
            "15 →  CBAD\n",
            "16 →  CBDA\n",
            "17 →  CDAB\n",
            "18 →  CDBA\n",
            "19 →  DABC\n",
            "20 →  DACB\n",
            "21 →  DBAC\n",
            "22 →  DBCA\n",
            "23 →  DCAB\n",
            "24 →  DCBA\n"
          ]
        }
      ]
    },
    {
      "cell_type": "markdown",
      "source": [
        "#### Método 2\n",
        "* Usamos la función `permutations` de la librería `intertools`.\n",
        "* Imprimimos todas las permutaciones de los elementos de una lista."
      ],
      "metadata": {
        "id": "2PoCD5GlnwS1"
      }
    },
    {
      "cell_type": "code",
      "source": [
        "from itertools import permutations\n",
        "\n",
        "perm = permutations(['A','B','C','D'])   # obtenemos todas las permutaciones de la lista \n",
        "\n",
        "for i in list(perm):                     # imprimimos todas las permutaciones \n",
        "    print (*i)                           # con el asterisco se muestran las listas sin corchetes ni comas"
      ],
      "metadata": {
        "id": "eKkB1gQnn6_P",
        "outputId": "cb90a15f-83b2-484b-d6d2-cf9c4761c514",
        "colab": {
          "base_uri": "https://localhost:8080/"
        }
      },
      "execution_count": null,
      "outputs": [
        {
          "output_type": "stream",
          "name": "stdout",
          "text": [
            "A B C D\n",
            "A B D C\n",
            "A C B D\n",
            "A C D B\n",
            "A D B C\n",
            "A D C B\n",
            "B A C D\n",
            "B A D C\n",
            "B C A D\n",
            "B C D A\n",
            "B D A C\n",
            "B D C A\n",
            "C A B D\n",
            "C A D B\n",
            "C B A D\n",
            "C B D A\n",
            "C D A B\n",
            "C D B A\n",
            "D A B C\n",
            "D A C B\n",
            "D B A C\n",
            "D B C A\n",
            "D C A B\n",
            "D C B A\n"
          ]
        }
      ]
    },
    {
      "cell_type": "markdown",
      "source": [
        "## Práctica 1.2\n",
        "Cuatro amigos:\n",
        "* Antonio (A)\n",
        "* Begoña (B)\n",
        "* Cesar (C)\n",
        "* Diana (D)\n",
        "\n",
        "constituyen una asociación y tienen que asignar los siguientes cargos:\n",
        "* Presiente (1)\n",
        "* Secretario (3)\n",
        "* Tesorero (4)\n",
        "\n",
        "Se pide:\n",
        "1. Escribiendo la solución en una celda de Markdown analice el caso indicando si se trata de variaciones, permutaciones o combinaciones, con o sin repetición o el caso que sea, y el motivo para clasificar el caso de esta forma.\n",
        "2. Utilizando fórmulas de $\\LaTeX$ calcule cuántos casos existen.\n",
        "3. Cree un programa en Python para calcule cuántos casos existen.\n",
        "4. Cree un programa en Python para imprimir todas las posibilidades y numérelas. Por ejemplo:\n",
        "    - 1 ABC\n",
        "    - 2 ABD\n",
        "    - 3 ACB\n",
        "    - ... ... ..."
      ],
      "metadata": {
        "id": "sxSuCpAFSBPJ"
      }
    },
    {
      "cell_type": "markdown",
      "source": [
        "\n",
        "\n",
        "Estamos ante una caso de **variacion sin \n",
        "repetición** ya que:\n",
        "*   El orden importa porque no es lo mismo estar el primero como presidente que el cuarto como tesorero.\n",
        "*   En este caso, no intervienen todos ya que son 3 cargos y a 4 personas.\n",
        "*   No se repiten elementos ya que una persona no puede tener dos cargos.\n",
        "Por lo tanto lo obtendremos con la formula de $V_{n,k}=n!/(n-k)!$ que para este caso son: \n",
        "$$V_{4,3}=4!/(4-3)!=24/1=24$$\n",
        "\n"
      ],
      "metadata": {
        "id": "sc3DEuz4t6OD"
      }
    },
    {
      "cell_type": "markdown",
      "source": [
        "### Solución 1.2"
      ],
      "metadata": {
        "id": "xx9qsw_ej9Pd"
      }
    },
    {
      "cell_type": "code",
      "source": [
        "import math\n",
        "p = math.factorial(4)\n",
        "s = math.factorial (4-3)\n",
        "print(\"los casos son: \", p//s)\n",
        "print(\"Comprobacion:\",4*3*2*1//1)"
      ],
      "metadata": {
        "id": "9nxazbUX5sfc",
        "outputId": "7956b125-7af3-40e7-94d7-0c704f624184",
        "colab": {
          "base_uri": "https://localhost:8080/"
        }
      },
      "execution_count": null,
      "outputs": [
        {
          "output_type": "stream",
          "name": "stdout",
          "text": [
            "los casos son:  24\n",
            "Comprobacion: 24\n"
          ]
        }
      ]
    },
    {
      "cell_type": "markdown",
      "source": [
        "##Metodo 1.\n",
        "Sin usar libreria."
      ],
      "metadata": {
        "id": "KJN6asqG0OEs"
      }
    },
    {
      "cell_type": "code",
      "source": [
        "lista = [\"A\", \"B\", \"C\",\"D\"]\n",
        "contador = 0\n",
        "for i in lista:\n",
        "    for j in lista:\n",
        "        for k in lista:\n",
        "            if i != j and i != k and j != k:\n",
        "                 contador += 1\n",
        "                 #print(contador, i + j + k)\n",
        "                 print(f\"{contador:2d} - {i+j+k}\")"
      ],
      "metadata": {
        "id": "kqht-HTQ0gG_",
        "outputId": "abee5a46-cb6c-488e-e0bd-379cbdee7398",
        "colab": {
          "base_uri": "https://localhost:8080/"
        }
      },
      "execution_count": null,
      "outputs": [
        {
          "output_type": "stream",
          "name": "stdout",
          "text": [
            " 1 - ABC\n",
            " 2 - ABD\n",
            " 3 - ACB\n",
            " 4 - ACD\n",
            " 5 - ADB\n",
            " 6 - ADC\n",
            " 7 - BAC\n",
            " 8 - BAD\n",
            " 9 - BCA\n",
            "10 - BCD\n",
            "11 - BDA\n",
            "12 - BDC\n",
            "13 - CAB\n",
            "14 - CAD\n",
            "15 - CBA\n",
            "16 - CBD\n",
            "17 - CDA\n",
            "18 - CDB\n",
            "19 - DAB\n",
            "20 - DAC\n",
            "21 - DBA\n",
            "22 - DBC\n",
            "23 - DCA\n",
            "24 - DCB\n"
          ]
        }
      ]
    },
    {
      "cell_type": "markdown",
      "source": [
        "## Práctica 1.3\n",
        "Invente un caso de **variaciones sin repetición**.\n",
        "Se pide contestar a los mismos puntos que el caso anterior."
      ],
      "metadata": {
        "id": "D0S1DjF4MKmz"
      }
    },
    {
      "cell_type": "markdown",
      "source": [
        "¿De cuantas formas se pueden cubrir los puestos de presidente (A) y secretario (B) de una comunidad de vecinos, contando con 5 personas para ello?\n",
        "\n",
        "*  Vecino (1)\n",
        "*  Vecino (2)\n",
        "*  Vecino (3)\n",
        "*  Vecino (4)\n",
        "*  Vecino (5)\n",
        "\n",
        "\n",
        "\n",
        "\n",
        "\n"
      ],
      "metadata": {
        "id": "UHQ1nBlP-BdP"
      }
    },
    {
      "cell_type": "markdown",
      "source": [
        "### Solución 1.3"
      ],
      "metadata": {
        "id": "AfyuPIASj_20"
      }
    },
    {
      "cell_type": "markdown",
      "source": [
        "Estamos ante un caso de **variacion sin repeticion** ya que:\n",
        "\n",
        "\n",
        "*   El orden importa, no es lo mismo ser el presidente que el secretario.\n",
        "*   No intervienen todos porque son 2 cargos para 5 personas.\n",
        "*   No se repiten elementos. Una persona no puede ser presidente y secretario a la vez.\n",
        "Por lo tanto la formula será:\n",
        "$$V_{5,2}=\\frac{5!}{(5-2)!}=\\frac{120}6=20$$\n",
        "\n",
        "\n",
        "\n",
        "\n"
      ],
      "metadata": {
        "id": "njv7FYEhAAb2"
      }
    },
    {
      "cell_type": "code",
      "source": [
        "import math\n",
        "p = math.factorial (5)\n",
        "s = math.factorial (5-2)\n",
        "print(\"los casos son:\", p//s)"
      ],
      "metadata": {
        "id": "uFHFGiej5t_W",
        "outputId": "34dc0373-b18e-4c6a-cdf4-e28b9f62608f",
        "colab": {
          "base_uri": "https://localhost:8080/"
        }
      },
      "execution_count": null,
      "outputs": [
        {
          "output_type": "stream",
          "name": "stdout",
          "text": [
            "los casos son: 20\n"
          ]
        }
      ]
    },
    {
      "cell_type": "code",
      "source": [
        "vecinos = [\"1\", \"2\", \"3\", \"4\", \"5\"]\n",
        "contador = 0\n",
        "\n",
        "for i in vecinos:\n",
        "    for j in vecinos:\n",
        "        if i != j:\n",
        "            contador += 1\n",
        "            print(f\"{contador:3}: {i,j}\")"
      ],
      "metadata": {
        "id": "SUYDJisxErEw",
        "outputId": "0f82519e-14dd-4dc9-f3f0-a2d7194b9109",
        "colab": {
          "base_uri": "https://localhost:8080/"
        }
      },
      "execution_count": null,
      "outputs": [
        {
          "output_type": "stream",
          "name": "stdout",
          "text": [
            "  1: ('1', '2')\n",
            "  2: ('1', '3')\n",
            "  3: ('1', '4')\n",
            "  4: ('1', '5')\n",
            "  5: ('2', '1')\n",
            "  6: ('2', '3')\n",
            "  7: ('2', '4')\n",
            "  8: ('2', '5')\n",
            "  9: ('3', '1')\n",
            " 10: ('3', '2')\n",
            " 11: ('3', '4')\n",
            " 12: ('3', '5')\n",
            " 13: ('4', '1')\n",
            " 14: ('4', '2')\n",
            " 15: ('4', '3')\n",
            " 16: ('4', '5')\n",
            " 17: ('5', '1')\n",
            " 18: ('5', '2')\n",
            " 19: ('5', '3')\n",
            " 20: ('5', '4')\n"
          ]
        }
      ]
    },
    {
      "cell_type": "markdown",
      "source": [
        "## Práctica 1.4\n",
        "Invente un caso de **variaciones con repetición**.\n",
        "Se pide contestar a los mismos puntos que el caso anterior."
      ],
      "metadata": {
        "id": "gvlnqCaRMTua"
      }
    },
    {
      "cell_type": "markdown",
      "source": [
        "¿Cuantos resultados hay al lanzar una moneda al aire tres veces?\n",
        "Teniendo en cuenta que la moneda solo tiene Cara (c) o Cruz (x)"
      ],
      "metadata": {
        "id": "mdd7fsiTHmSi"
      }
    },
    {
      "cell_type": "markdown",
      "source": [
        "### Solución 1.4"
      ],
      "metadata": {
        "id": "hzvsgRDbkCy1"
      }
    },
    {
      "cell_type": "markdown",
      "source": [
        "Estamos ante un caso de **variacion con repeticion** ya que:\n",
        "\n",
        "*   El orden si importa.\n",
        "*   Si intervienen todos lo elementos que son cara y cruz\n",
        "*   Si se puede repetir.\n",
        "Entonces podemos decir que la formula es:\n",
        "\n",
        "$$VR_{n,k}=n^k=2^3=8$$\n"
      ],
      "metadata": {
        "id": "9k3y7vqsIUMe"
      }
    },
    {
      "cell_type": "code",
      "source": [
        "print(\"Los casos que vamos a obtener son:\", pow(2, 3))"
      ],
      "metadata": {
        "id": "_-4wYn6OVCea",
        "outputId": "1892dfc0-2ac0-43bd-b9ba-ee084c48aeb0",
        "colab": {
          "base_uri": "https://localhost:8080/"
        }
      },
      "execution_count": null,
      "outputs": [
        {
          "output_type": "stream",
          "name": "stdout",
          "text": [
            "Los casos que vamos a obtener son: 8\n"
          ]
        }
      ]
    },
    {
      "cell_type": "code",
      "source": [
        "import itertools\n",
        "\n",
        "def variaciones_con_repeticion(n, seq):\n",
        "    contador = 0\n",
        "    for p in itertools.product(seq, repeat=n):\n",
        "        contador += 1\n",
        "        print(contador,\" - \".join(p))\n",
        "\n",
        "opciones = \"CX\"\n",
        "m = len(opciones)\n",
        "n = 3\n",
        "variaciones_con_repeticion(n, opciones)\n"
      ],
      "metadata": {
        "id": "Ayg9nm6W5usL",
        "outputId": "56a0b72c-3eea-4c28-8a7b-7cc80300b598",
        "colab": {
          "base_uri": "https://localhost:8080/"
        }
      },
      "execution_count": 8,
      "outputs": [
        {
          "output_type": "stream",
          "name": "stdout",
          "text": [
            "1 C - C - C\n",
            "2 C - C - X\n",
            "3 C - X - C\n",
            "4 C - X - X\n",
            "5 X - C - C\n",
            "6 X - C - X\n",
            "7 X - X - C\n",
            "8 X - X - X\n"
          ]
        }
      ]
    },
    {
      "cell_type": "markdown",
      "source": [
        "## Práctica 1.5\n",
        "Invente un caso de **permutaciones sin repetición**.\n",
        "Se pide contestar a los mismos puntos que el caso anterior."
      ],
      "metadata": {
        "id": "0OCAC-I-G5F6"
      }
    },
    {
      "cell_type": "markdown",
      "source": [
        "¿Cuantos numeros distintos de tres cifras diferentes se pueden escribir con los digitos: 1,5,7?"
      ],
      "metadata": {
        "id": "JOwFyJwyORqd"
      }
    },
    {
      "cell_type": "markdown",
      "source": [
        "### Solución 1.5"
      ],
      "metadata": {
        "id": "FvLcj6XXkFOV"
      }
    },
    {
      "cell_type": "markdown",
      "source": [
        "Estamos ante un caso de **permutacion sin repeticion** ya que:\n",
        "* El orden si importa.  \n",
        "* En este caso, sí intervienen todos los elementos porque nos piden escribir cifras con los tres numeros que nos dan\n",
        "* No se podrán repetir.\n",
        "La formula que utilizaremos sera:\n",
        "$$3!=3 \\cdot 2 \\cdot 1 = 6$$\n",
        "\n"
      ],
      "metadata": {
        "id": "gNu5OB8KOj2Y"
      }
    },
    {
      "cell_type": "code",
      "source": [
        "cifras = [\"1\", \"5\", \"7\"]\n",
        "\n",
        "for i in cifras:\n",
        "    for j in cifras:\n",
        "        for k in cifras:\n",
        "            if i != j and i != k and j != k:\n",
        "                print(i+j+k)"
      ],
      "metadata": {
        "id": "cmDUwaQJ5v3j",
        "outputId": "0e455126-1e26-4212-9196-fb34b1912854",
        "colab": {
          "base_uri": "https://localhost:8080/"
        }
      },
      "execution_count": null,
      "outputs": [
        {
          "output_type": "stream",
          "name": "stdout",
          "text": [
            "157\n",
            "175\n",
            "517\n",
            "571\n",
            "715\n",
            "751\n"
          ]
        }
      ]
    },
    {
      "cell_type": "markdown",
      "source": [
        "## Práctica 1.6\n",
        "Invente un caso de **permutaciones con repetición**.\n",
        "Se pide contestar a los mismos puntos que el caso anterior."
      ],
      "metadata": {
        "id": "YWUXIczqLj3W"
      }
    },
    {
      "cell_type": "markdown",
      "source": [
        "En una fiesta una niña invita a sus compañeros a caramelos de tres sabores diferentes: fresa (F), naranja (N) y limon (L).\n",
        "Cada niño solo puede coger 5 caramelos. ¿De que diferentes formas puede coger un niño los caramelos?"
      ],
      "metadata": {
        "id": "FdNEJRTHUoFg"
      }
    },
    {
      "cell_type": "markdown",
      "source": [
        "### Solución 1.6"
      ],
      "metadata": {
        "id": "siAxWVVekHs6"
      }
    },
    {
      "cell_type": "markdown",
      "source": [
        "Estamos ante un caso de **permutacion con repeticion** ya que:\n",
        "* El orden si importa, no es lo mismo coger primero un caramelo de limon que uno de fresa.  \n",
        "* En este caso, sí intervienen todos los elementos\n",
        "*  Por último si hay repeticion porque un niño puede coger todos los caramelos de un solo sabor.\n",
        "la formula que vamos a utilizar será:\n",
        "$$P_n^k=\\frac{n!} {k_1!*k_2!...}= \\frac{5!} {3!}=20$$\n"
      ],
      "metadata": {
        "id": "Ax3stko_Ultj"
      }
    },
    {
      "cell_type": "code",
      "source": [
        "import itertools\n",
        "letras = list([\"F\", \"N\", \"L\",])\n",
        "\n",
        "permutations = itertools.combinations_with_replacement(letras, r=5)\n",
        "\n",
        "contador = 0\n",
        "for i in permutations:\n",
        "    print(contador,\" - \",i)\n",
        "    contador +=1"
      ],
      "metadata": {
        "id": "LqHrk07X5wqX",
        "outputId": "4814ab5d-2ded-4f6a-e27a-3e00b87b6a26",
        "colab": {
          "base_uri": "https://localhost:8080/"
        }
      },
      "execution_count": null,
      "outputs": [
        {
          "output_type": "stream",
          "name": "stdout",
          "text": [
            "0  -  ('F', 'F', 'F', 'F', 'F')\n",
            "1  -  ('F', 'F', 'F', 'F', 'N')\n",
            "2  -  ('F', 'F', 'F', 'F', 'L')\n",
            "3  -  ('F', 'F', 'F', 'N', 'N')\n",
            "4  -  ('F', 'F', 'F', 'N', 'L')\n",
            "5  -  ('F', 'F', 'F', 'L', 'L')\n",
            "6  -  ('F', 'F', 'N', 'N', 'N')\n",
            "7  -  ('F', 'F', 'N', 'N', 'L')\n",
            "8  -  ('F', 'F', 'N', 'L', 'L')\n",
            "9  -  ('F', 'F', 'L', 'L', 'L')\n",
            "10  -  ('F', 'N', 'N', 'N', 'N')\n",
            "11  -  ('F', 'N', 'N', 'N', 'L')\n",
            "12  -  ('F', 'N', 'N', 'L', 'L')\n",
            "13  -  ('F', 'N', 'L', 'L', 'L')\n",
            "14  -  ('F', 'L', 'L', 'L', 'L')\n",
            "15  -  ('N', 'N', 'N', 'N', 'N')\n",
            "16  -  ('N', 'N', 'N', 'N', 'L')\n",
            "17  -  ('N', 'N', 'N', 'L', 'L')\n",
            "18  -  ('N', 'N', 'L', 'L', 'L')\n",
            "19  -  ('N', 'L', 'L', 'L', 'L')\n",
            "20  -  ('L', 'L', 'L', 'L', 'L')\n"
          ]
        }
      ]
    },
    {
      "cell_type": "markdown",
      "source": [
        "## Práctica 1.7\n",
        "Invente un caso de **combinaciones sin repetición**.\n",
        "Se pide contestar a los mismos puntos que el caso anterior."
      ],
      "metadata": {
        "id": "opCrIDtJGg1R"
      }
    },
    {
      "cell_type": "markdown",
      "source": [
        "De unos siete estudiantes de una clase extraescolar debo seleccionar a 4 para llevarlos a un almuerzo . ¿De cuantas formas diferentes puedo seleccionar los 4 estudiantes?: Los 7 estudiantes son:\n",
        "* Lucia (L)\n",
        "* Patricia (P)\n",
        "* Jaime (J)\n",
        "* Adrian (A)\n",
        "* Sara (S)\n",
        "* Thomas (T)\n",
        "* Valeria (V)\n"
      ],
      "metadata": {
        "id": "L1YhxWLN7aWx"
      }
    },
    {
      "cell_type": "markdown",
      "source": [
        "### Solución 1.7"
      ],
      "metadata": {
        "id": "Zs46BsRnkJcl"
      }
    },
    {
      "cell_type": "markdown",
      "source": [
        "En este caso lo que tenemos es una **combinacion sin repeticion** ya que:\n",
        "* El orden en este problema no importa porque si por ejemplo llevo a lucia, jaime, pedro y laura, da igual si lucia esta en primer lugar que en el ultimo ya que la voy a llevar. \n",
        "* No van a intervenir todos los elementos ya que solo puedo llevar a 4.\n",
        "* Finalmente, no se podrá repetir.\n",
        "La formula que se utilizara sera:\n",
        "$$C_{n,k}=\\frac{n!} {k!*(n-k)!}= \\frac{7!} {4!*(7-4)!}=\\frac{5040} {144}=35$$\n",
        "\n"
      ],
      "metadata": {
        "id": "4LGQRsrc78GE"
      }
    },
    {
      "cell_type": "code",
      "source": [
        "from math import factorial\n",
        "print(f\"Los casos que se obtienen son {int(factorial(7)/factorial(4)/factorial(7-4))}\")"
      ],
      "metadata": {
        "id": "4D0vk5TA5xZM",
        "colab": {
          "base_uri": "https://localhost:8080/"
        },
        "outputId": "f5e4a8cd-8c96-4c93-f31e-0ae7bf26ea07"
      },
      "execution_count": 10,
      "outputs": [
        {
          "output_type": "stream",
          "name": "stdout",
          "text": [
            "Los casos que se obtienen son 35\n"
          ]
        }
      ]
    },
    {
      "cell_type": "code",
      "source": [
        "from itertools import combinations\n",
        "from math import factorial\n",
        "contador = 1\n",
        "estudiantes = \"LPJASTV\"\n",
        "\n",
        "m = len (estudiantes)\n",
        "n = 4\n",
        "c = combinations(estudiantes, n)\n",
        "\n",
        "for i in c:\n",
        "    print(contador,\"-\", *i)\n",
        "    contador +=1\n"
      ],
      "metadata": {
        "colab": {
          "base_uri": "https://localhost:8080/"
        },
        "id": "NjcVS7USAlVq",
        "outputId": "cb8bcc63-3905-4e09-eb56-1f2c5f43693d"
      },
      "execution_count": 45,
      "outputs": [
        {
          "output_type": "stream",
          "name": "stdout",
          "text": [
            "1 - L P J A\n",
            "2 - L P J S\n",
            "3 - L P J T\n",
            "4 - L P J V\n",
            "5 - L P A S\n",
            "6 - L P A T\n",
            "7 - L P A V\n",
            "8 - L P S T\n",
            "9 - L P S V\n",
            "10 - L P T V\n",
            "11 - L J A S\n",
            "12 - L J A T\n",
            "13 - L J A V\n",
            "14 - L J S T\n",
            "15 - L J S V\n",
            "16 - L J T V\n",
            "17 - L A S T\n",
            "18 - L A S V\n",
            "19 - L A T V\n",
            "20 - L S T V\n",
            "21 - P J A S\n",
            "22 - P J A T\n",
            "23 - P J A V\n",
            "24 - P J S T\n",
            "25 - P J S V\n",
            "26 - P J T V\n",
            "27 - P A S T\n",
            "28 - P A S V\n",
            "29 - P A T V\n",
            "30 - P S T V\n",
            "31 - J A S T\n",
            "32 - J A S V\n",
            "33 - J A T V\n",
            "34 - J S T V\n",
            "35 - A S T V\n"
          ]
        }
      ]
    },
    {
      "cell_type": "markdown",
      "source": [
        "## Práctica 1.8\n",
        "Invente un caso de **combinaciones con repetición**.\n",
        "Se pide contestar a los mismos puntos que el caso anterior."
      ],
      "metadata": {
        "id": "-7Y5WWlDGzAR"
      }
    },
    {
      "cell_type": "markdown",
      "source": [
        "En una almacen venden 4 diferentes sabores de gaseosa ¿de cuantas maneras diferentes puedo seleccionar 3 gaseosas?, que son:\n",
        "*  Naranja (N)\n",
        "*  Mora (M)\n",
        "*  Limon (L)\n",
        "*  Coco (C)  \n",
        "\n",
        "\n",
        "\n"
      ],
      "metadata": {
        "id": "unyoXNp1Ffv7"
      }
    },
    {
      "cell_type": "markdown",
      "source": [
        "### Solución 1.8"
      ],
      "metadata": {
        "id": "ReRULqd8kL1F"
      }
    },
    {
      "cell_type": "markdown",
      "source": [
        "En este caso tenemos una **combinacion con repeticion** ya que:\n",
        "* El orden no importa porque da igual si cojo primero la de naranja o la cojo ultimo.\n",
        "* No van a intervenir todos los elementos ya que solo puedo coger tres sabores.\n",
        "* Si se podra repetir ya que no hay condiciones.\n",
        "La formula que se utilizara es:\n",
        "$$CR^3_4=CR_{4,3}= \\binom{4+3-1} {3}=\\frac{(4+3-1)!}{3! \\cdot (4-1)!} = \\frac{6!}{3! \\cdot 3!}=20$$\n",
        "\n"
      ],
      "metadata": {
        "id": "NVff2pHNGyr8"
      }
    },
    {
      "cell_type": "code",
      "source": [
        "from math import factorial\n",
        "print(f\"Los casos que se obtienen son: {int(factorial(4+3-1)/factorial(3)/factorial(4-1))}\")"
      ],
      "metadata": {
        "id": "pT_BCeQo5yK7",
        "colab": {
          "base_uri": "https://localhost:8080/"
        },
        "outputId": "16da7e4e-2836-4c78-f9d4-8dd764e2d585"
      },
      "execution_count": 54,
      "outputs": [
        {
          "output_type": "stream",
          "name": "stdout",
          "text": [
            "Los casos que se obtienen son: 20\n"
          ]
        }
      ]
    },
    {
      "cell_type": "code",
      "source": [
        "from itertools import combinations_with_replacement\n",
        "c = combinations_with_replacement(\"NMLC\", 3)\n",
        "contador = 1\n",
        "for i in c:\n",
        "    print(contador,\"-\", *i)\n",
        "    contador += 1"
      ],
      "metadata": {
        "colab": {
          "base_uri": "https://localhost:8080/"
        },
        "id": "FzDqCdEGNXP-",
        "outputId": "30af28ac-c7f4-4004-d47e-9904f6ec8d05"
      },
      "execution_count": 56,
      "outputs": [
        {
          "output_type": "stream",
          "name": "stdout",
          "text": [
            "1 - N N N\n",
            "2 - N N M\n",
            "3 - N N L\n",
            "4 - N N C\n",
            "5 - N M M\n",
            "6 - N M L\n",
            "7 - N M C\n",
            "8 - N L L\n",
            "9 - N L C\n",
            "10 - N C C\n",
            "11 - M M M\n",
            "12 - M M L\n",
            "13 - M M C\n",
            "14 - M L L\n",
            "15 - M L C\n",
            "16 - M C C\n",
            "17 - L L L\n",
            "18 - L L C\n",
            "19 - L C C\n",
            "20 - C C C\n"
          ]
        }
      ]
    },
    {
      "cell_type": "markdown",
      "source": [
        "## Práctica 1.9\n",
        "En el gobierno se crea una unidad de crisis formada por el presidente (P) y 4 ministros (A,B,C,D) que se reúnen sentados alrededor de una **mesa redonda**.\n",
        "\n",
        "Se pide:  \n",
        "1. Calcule de cuantas formas pueden llegar a sentarse si el ministro de defensa (D) siempre ha de estar al lado del presidente (P). Escriba la solución en una celda de Markdown utilizando fórmulas en $\\LaTeX$  explicando el caso.\n",
        "2. Cree un programa en Python para calcular el número de casos que se pueden dar al sentarse en la mesa.\n",
        "3. Cree un programa en Python para imprimir todas las posibilidades y numérelas. Por ejemplo:\n",
        "    - 1 PABCD\n",
        "    - 2 PDABC\n",
        "    - 3 PACBD\n",
        "    - ... ... ...\n"
      ],
      "metadata": {
        "id": "SOzxh_YgHnDG"
      }
    },
    {
      "cell_type": "markdown",
      "source": [
        "### Solución 1.9"
      ],
      "metadata": {
        "id": "F8kV034OkQZX"
      }
    },
    {
      "cell_type": "markdown",
      "source": [
        "En este caso, tenemos una **permutacion circular** que es lo principal. Al conjunto de Presisdente y ministro de defensa lo contaré como si fuera 1 elemento. Por ello, la forma de colocar 4 elementos alrededor de una mesa circular es: \n",
        "$$PC_4=(4-1)!=3!=6$$.\n",
        "Por otro lado, el presidente y el ministro de defensa pueden permutarse entre si, de forma que el ministro de defensa puede estar colocado a la derecha o izquierda del presidente. Para ello utilizare la formula de **permutacion sin repeticion**:\n",
        "$$P_2=2!=2*1=2$$.\n",
        "Puesto que ambos sucesos son independientes y suceden simultaneamente se relacionan de forma multiplicativa. Por tanto el resultado final sera: \n",
        "$$PC_5*P_2=6*2=12$$"
      ],
      "metadata": {
        "id": "z7Z9b7qpPlES"
      }
    },
    {
      "cell_type": "code",
      "source": [
        "from itertools import permutations\n",
        "p = list(permutations(\"ABC\"))\n",
        "texto = \"Los distintos casos seran: \"\n",
        "for v in p:\n",
        "    texto += \"PD\"+\"\".join(v)+\",\"\n",
        "for v in p:\n",
        "    texto += \"DP\"+\"\".join(v)+\",\"\n",
        "print(texto[:-1])"
      ],
      "metadata": {
        "id": "pJ8CqAHt5zQg",
        "colab": {
          "base_uri": "https://localhost:8080/"
        },
        "outputId": "7d347451-b006-4450-a71f-a8537cfdf7a1"
      },
      "execution_count": 68,
      "outputs": [
        {
          "output_type": "stream",
          "name": "stdout",
          "text": [
            "Los distintos casos seran: PDABC,PDACB,PDBAC,PDBCA,PDCAB,PDCBA,DPABC,DPACB,DPBAC,DPBCA,DPCAB,DPCBA\n"
          ]
        }
      ]
    },
    {
      "cell_type": "markdown",
      "source": [
        "## Práctica 10\n",
        "* Realice una breve explicación teórica del **triángulo de Pascal**, o también llamado triángulo de Tartaglia, y de las fórmulas de los números combinatorios.\n",
        "* Cree un programa en Python para hacer triángulo de Pascal."
      ],
      "metadata": {
        "id": "eiHdMOP-MkrZ"
      }
    },
    {
      "cell_type": "markdown",
      "source": [
        "### Solución 1.10"
      ],
      "metadata": {
        "id": "j0UT2579kTSM"
      }
    },
    {
      "cell_type": "markdown",
      "source": [
        "El **triangulo de pascal** es un triangulo de numeros enteros, infinito y simetrico que se empieza con un 1 en la primera fila, y en las filas siguientes se van colocando nuemros de forma que cada uno de ellos sea la suma de los dos nuemros que tiene encima. Se supone que los lugares fuera del trianngulo contiene ceros. A continuacion voy a poner 20 filas del triangulo de pascal pero se puede cambiar al numero que desees:"
      ],
      "metadata": {
        "id": "mWLZp0eJV97n"
      }
    },
    {
      "cell_type": "code",
      "source": [
        "filas = []\n",
        "numero = 20\n",
        "expansion = \"\"\n",
        "value = numero;\n",
        "for i in range(1, numero):\n",
        "    lon_natigua = len(filas)\n",
        "    fila_nueva = [1]\n",
        "    for j in range(0, lon_natigua-1):\n",
        "        calculo = filas[j]+filas[j+1]\n",
        "        fila_nueva.append(calculo)\n",
        "    fila_nueva.append(1)\n",
        "    expansion = \"\\t\".expandtabs(value)\n",
        "    value -= 1\n",
        "    print(\"{} {}\".format(expansion,fila_nueva))\n",
        "    filas = fila_nueva"
      ],
      "metadata": {
        "id": "zLk4EF-G51HI",
        "colab": {
          "base_uri": "https://localhost:8080/"
        },
        "outputId": "67a7bd9e-8e2b-4325-e311-4d6f95dc7d62"
      },
      "execution_count": 117,
      "outputs": [
        {
          "output_type": "stream",
          "name": "stdout",
          "text": [
            "                     [1, 1]\n",
            "                    [1, 2, 1]\n",
            "                   [1, 3, 3, 1]\n",
            "                  [1, 4, 6, 4, 1]\n",
            "                 [1, 5, 10, 10, 5, 1]\n",
            "                [1, 6, 15, 20, 15, 6, 1]\n",
            "               [1, 7, 21, 35, 35, 21, 7, 1]\n",
            "              [1, 8, 28, 56, 70, 56, 28, 8, 1]\n",
            "             [1, 9, 36, 84, 126, 126, 84, 36, 9, 1]\n",
            "            [1, 10, 45, 120, 210, 252, 210, 120, 45, 10, 1]\n",
            "           [1, 11, 55, 165, 330, 462, 462, 330, 165, 55, 11, 1]\n",
            "          [1, 12, 66, 220, 495, 792, 924, 792, 495, 220, 66, 12, 1]\n",
            "         [1, 13, 78, 286, 715, 1287, 1716, 1716, 1287, 715, 286, 78, 13, 1]\n",
            "        [1, 14, 91, 364, 1001, 2002, 3003, 3432, 3003, 2002, 1001, 364, 91, 14, 1]\n",
            "       [1, 15, 105, 455, 1365, 3003, 5005, 6435, 6435, 5005, 3003, 1365, 455, 105, 15, 1]\n",
            "      [1, 16, 120, 560, 1820, 4368, 8008, 11440, 12870, 11440, 8008, 4368, 1820, 560, 120, 16, 1]\n",
            "     [1, 17, 136, 680, 2380, 6188, 12376, 19448, 24310, 24310, 19448, 12376, 6188, 2380, 680, 136, 17, 1]\n",
            "    [1, 18, 153, 816, 3060, 8568, 18564, 31824, 43758, 48620, 43758, 31824, 18564, 8568, 3060, 816, 153, 18, 1]\n",
            "   [1, 19, 171, 969, 3876, 11628, 27132, 50388, 75582, 92378, 92378, 75582, 50388, 27132, 11628, 3876, 969, 171, 19, 1]\n"
          ]
        }
      ]
    }
  ]
}