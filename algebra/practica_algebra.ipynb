{
  "nbformat": 4,
  "nbformat_minor": 0,
  "metadata": {
    "colab": {
      "provenance": [],
      "include_colab_link": true
    },
    "kernelspec": {
      "name": "python3",
      "display_name": "Python 3"
    },
    "language_info": {
      "name": "python"
    }
  },
  "cells": [
    {
      "cell_type": "markdown",
      "metadata": {
        "id": "view-in-github",
        "colab_type": "text"
      },
      "source": [
        "<a href=\"https://colab.research.google.com/github/Alba004/Matematicas/blob/main/algebra/practica_algebra.ipynb\" target=\"_parent\"><img src=\"https://colab.research.google.com/assets/colab-badge.svg\" alt=\"Open In Colab\"/></a>"
      ]
    },
    {
      "cell_type": "markdown",
      "source": [
        "# Práctica 3. Álgebra\n",
        "* Para aprender sobre Python vea la playlist [Python para Matemáticas](https://www.youtube.com/playlist?list=PL8gpDXwO-9l4HkDJ9QhB4H-cOiT0BYGau)\n",
        "* Para obtener ideas y vídeos para la resolución de la práctica vea los archivos siguientes: [Ideas](https://github.com/financieras/math/tree/main/ideas)"
      ],
      "metadata": {
        "id": "b13aYMDxmd7v"
      }
    },
    {
      "cell_type": "markdown",
      "source": [
        "## Práctica 3.1\n",
        "**Determinante en Excel**  \n",
        "\n",
        "* Cree un fichero en Excel de nombre algebra.xlsm.\n",
        "* La extensión **xlsm** corresponde a los archivos de Excel habilitados para macros.\n",
        "* Utilice la Hoja 1 para hacer la Práctica 3.1.\n",
        "* Se pide:\n",
        " 1. Cree una matriz cuadrada de dimensión 5×5, formada por números aleatorios enteros entre -9 y +9.\n",
        " 2. Calcule el determinante de esta matriz\n",
        " 3. Cree un programa en **VBA** que busque una matriz de este tipo cuyo determinante sea cero.\n",
        " 4. Copie la matriz encontrada y péguela debajo con \"pegado especial valores\" para que no varíe su contenido al efectuar el recálculo manual de la hoja."
      ],
      "metadata": {
        "id": "XWa9IdzJmpbB"
      }
    },
    {
      "cell_type": "markdown",
      "source": [
        "## Práctica 3.2\n",
        "**Matriz inversa en Excel**  \n",
        "\n",
        "* Use el mismo archivo de Excel con extensión **xlsm** del caso anterior. \n",
        "* Utilice la Hoja 2 para hacer la Práctica 3.2.\n",
        "* Se pide:\n",
        " 1. Crea la matriz $A$ que es una matriz cuadrada de dimensiones 5×5 usando números aleatorios enteros entre -9 y +9, excepto cero\n",
        " 2. Calcule su determinante\n",
        " 3. Calcule su transpuesta usando la función ```TRANSPONER```\n",
        " 4. Calcule su matriz inversa $A^{-1}$\n",
        " 5. Multiplique la matriz $A$ por su inversa $A^{-1}$ y compruebe que el producto es la matriz identidad.\n",
        " $$AA^{-1}=I$$"
      ],
      "metadata": {
        "id": "cP-ppBE1rzGW"
      }
    },
    {
      "cell_type": "markdown",
      "source": [
        "## Práctica 3.3\n",
        "**Resolución de sistemas lineales en Excel**  \n",
        "\n",
        "* Use el mismo archivo de Excel con extensión **xlsm** del caso anterior. \n",
        "* Utilice la Hoja 3 para hacer la Práctica 3.3.\n",
        "* Se pide:\n",
        " 1. Cree un sistema de 5 ecuaciones con 5 incógnitas con **solución única**.\n",
        " 2. Una de las ecuaciones será: $\\quad x_1+2x_2-x_3+x_4-3x_5=6$\n",
        " 3. Muestre las ecuaciones del sistema usando el [editor de ecuaciones](https://support.microsoft.com/es-es/office/editor-de-ecuaciones-6eac7d71-3c74-437b-80d3-c7dea24fdf3f) de Excel. $\\quad Ax=b$\n",
        " 4. Monte la matriz $A$ del sistema de ecuaciones y la matriz $b$ con los términos independientes. Muestre ambas matrices.\n",
        " 5. Calcule la matriz inversa $A^{-1}$\n",
        " 6. Resuelva el sistema lineal de ecuaciones con este método: $\\quad Ax=b \\quad \\Longrightarrow \\quad x=A^{-1}b$\n",
        " 7. Compruebe si el resultado obtenido es la solución del sistema de ecuaciones. Justifique esa comprobación."
      ],
      "metadata": {
        "id": "jJRClauctBdf"
      }
    },
    {
      "cell_type": "markdown",
      "source": [
        "## Práctica 3.4\n",
        "**Matriz inversa en Python**  \n",
        "\n",
        "Desarrolla un código en Python que al ejecutarse consiga los siguientes apartados.  \n",
        "1. Crea una matriz cuadrada de dimensiones 3×3 usando números aleatorios enteros entre -9 y +9, excepto cero\n",
        "2. Buscar un caso donde el determinante sea igual a 1\n",
        "3. Si el determinante es 1 imprime la matriz y su determinante\n",
        "4. Calcula e imprime su transpuesta\n",
        "5. Calcula e imprime su matriz inversa\n",
        "6. Multiplica la matriz creada por su inversa y comprueba que el producto es la matriz identidad.\n",
        "7. Calcula cuantos segundos ha tardado en realizarse el proceso."
      ],
      "metadata": {
        "id": "EMlUZC6Lqzfs"
      }
    },
    {
      "cell_type": "code",
      "source": [
        "import numpy as np\n",
        "n = 3\n",
        "while True:\n",
        "    m = np.random.randint(-9,10, size=(n, n))\n",
        "    determ = np.linalg.det(m)\n",
        "    if determ == 1:\n",
        "        print(m)\n",
        "        break\n",
        "\n",
        "print(f\"El determinante de la matriz es {determ}\")"
      ],
      "metadata": {
        "id": "SdGNtO0yFAoV",
        "outputId": "bcd17362-1448-4bc1-f916-3ad151acdad5",
        "colab": {
          "base_uri": "https://localhost:8080/"
        }
      },
      "execution_count": null,
      "outputs": [
        {
          "output_type": "stream",
          "name": "stdout",
          "text": [
            "[[-4  2  1]\n",
            " [-3  2 -6]\n",
            " [ 3 -1 -8]]\n",
            "El determinante de la matriz es 1.0\n"
          ]
        }
      ]
    },
    {
      "cell_type": "code",
      "source": [
        "import numpy as np\n",
        "n = np.array([[-4,2,1], [-3,2,-6], [3,-1,-8]])\n",
        "print(\"La Matriz con determinante 1 es: \")\n",
        "print(n)\n",
        "print()\n",
        "\n",
        "print(\"La transpuesta es:\")\n",
        "print(np.transpose(n))\n",
        "print()\n",
        "\n",
        "print(\"Su inversa es:\")\n",
        "minv = np.linalg.inv(n)\n",
        "print(minv)\n",
        "print()\n",
        "\n",
        "print(\"Matriz identidad:\")\n",
        "identidad = np.dot(n,minv)\n",
        "print(identidad)\n",
        "\n",
        "from time import process_time\n",
        "t1 = process_time()\n",
        "for i in range(10_000_000):\n",
        "    cuadrado = i ** 2"
      ],
      "metadata": {
        "id": "i_7NW1LOP4Tv",
        "outputId": "c5ed3be0-8f94-481b-cdb4-de9d2f6b8944",
        "colab": {
          "base_uri": "https://localhost:8080/"
        }
      },
      "execution_count": null,
      "outputs": [
        {
          "output_type": "stream",
          "name": "stdout",
          "text": [
            "La Matriz con determinante 1 es: \n",
            "[[-4  2  1]\n",
            " [-3  2 -6]\n",
            " [ 3 -1 -8]]\n",
            "\n",
            "La transpuesta es:\n",
            "[[-4 -3  3]\n",
            " [ 2  2 -1]\n",
            " [ 1 -6 -8]]\n",
            "\n",
            "Su inversa es:\n",
            "[[-22.  15. -14.]\n",
            " [-42.  29. -27.]\n",
            " [ -3.   2.  -2.]]\n",
            "\n",
            "Matriz identidad:\n",
            "[[1. 0. 0.]\n",
            " [0. 1. 0.]\n",
            " [0. 0. 1.]]\n"
          ]
        }
      ]
    },
    {
      "cell_type": "code",
      "source": [
        "from time import process_time\n",
        "t1 = process_time()\n",
        "for i in range(10_000_000):\n",
        "    cuadrado = i ** 2\n",
        "\n",
        "t2 = process_time()\n",
        "print(f\"el proceso ha tardado {t2-t1} segundos\")"
      ],
      "metadata": {
        "colab": {
          "base_uri": "https://localhost:8080/"
        },
        "id": "2s6p8hdNoXxl",
        "outputId": "37c14df6-4f41-4072-c138-d279202dc023"
      },
      "execution_count": null,
      "outputs": [
        {
          "output_type": "stream",
          "name": "stdout",
          "text": [
            "el proceso ha tardado 3.1749623080000013 segundos\n"
          ]
        }
      ]
    },
    {
      "cell_type": "markdown",
      "source": [
        "## Práctica 3.5\n",
        "**Resolución de sistemas lineales en Python**  \n",
        "\n",
        "1. Cree un sistema de 4 ecuaciones con 4 incógnitas con **solución única**.\n",
        "2. La solución del sistema es: $\\; \\begin{pmatrix}x_1, x_2, x_3, x_4\\end{pmatrix} = \\begin{pmatrix} 3, 4, 5, 2\\end{pmatrix}$  \n",
        "3. Una de las ecuaciones del sistema es: $\\enspace x_1+3x_2-x_3-2x_4=6$  \n",
        "4. El vector $b$ de términos independientes es: $\\enspace b=\\begin{pmatrix}6, 3, 5, 7\\end{pmatrix}$  \n",
        "5. Usando números aleatorios elija los coeficientes que faltan de la matriz $A$ del sistema de ecuaciones.\n",
        "  - Los coeficientes deben ser números enteros entre -5 y +5, excluido el cero.\n",
        "  - Imprima la matriz $A$.  \n",
        "6. Calcule e imprima el determinante de $A$.\n",
        "7. Calcule e imprima la matriz inversa $A^{-1}$  \n",
        "8. Resuelva el sistema lineal de ecuaciones con este método: $$Ax=b \\quad \\Longrightarrow \\quad x=A^{-1}b$$\n",
        "9. Compruebe que el resultado obtenido es la solución del sistema de ecuaciones.  \n",
        "10. Resuelva nuevamente el sistema de ecuaciones usando ```np.linalg.solve```."
      ],
      "metadata": {
        "id": "tQQS7GPXIdjH"
      }
    },
    {
      "cell_type": "code",
      "source": [
        "import numpy as np\n",
        "np.random.choice([-5,-4,-3,-2,-1,1,2,3,4,5], size = (3,4))"
      ],
      "metadata": {
        "colab": {
          "base_uri": "https://localhost:8080/"
        },
        "id": "8QRfFiZJro8H",
        "outputId": "2b38bc96-126d-4e2a-c245-ff6606bf08a6"
      },
      "execution_count": null,
      "outputs": [
        {
          "output_type": "execute_result",
          "data": {
            "text/plain": [
              "array([[ 3,  2, -4, -1],\n",
              "       [ 5,  3, -4,  4],\n",
              "       [ 3,  1,  1,  4]])"
            ]
          },
          "metadata": {},
          "execution_count": 112
        }
      ]
    },
    {
      "cell_type": "code",
      "source": [
        "import numpy as np\n",
        "f1 = [1, 3, -1, -2]\n",
        "f2 = [3, 2, -4, -1]\n",
        "f3 = [5, 3, -4, 4]\n",
        "f4 = [3, 1, 1, 4]\n",
        "matriz = [f1, f2, f3, f4]\n",
        "print(matriz)\n",
        "print()\n",
        "A = np.array(matriz)\n",
        "\n",
        "determ = np.linalg.det(A)\n",
        "\n",
        "print(A)\n",
        "print()\n",
        "print(\"el determinante de A es:\", determ)\n",
        "print()\n",
        "\n",
        "\n",
        "print(\"Inversa de la matriz:\")\n",
        "minv = np.linalg.inv(A)\n",
        "print(minv)"
      ],
      "metadata": {
        "colab": {
          "base_uri": "https://localhost:8080/"
        },
        "id": "PqIxdY_31hlX",
        "outputId": "b20ad9ed-b312-463a-a003-db4e5ed8ebe7"
      },
      "execution_count": null,
      "outputs": [
        {
          "output_type": "stream",
          "name": "stdout",
          "text": [
            "[[1, 3, -1, -2], [3, 2, -4, -1], [5, 3, -4, 4], [3, 1, 1, 4]]\n",
            "\n",
            "[[ 1  3 -1 -2]\n",
            " [ 3  2 -4 -1]\n",
            " [ 5  3 -4  4]\n",
            " [ 3  1  1  4]]\n",
            "\n",
            "el determinante de A es: 113.99999999999993\n",
            "\n",
            "Inversa de la matriz:\n",
            "[[-0.13157895  0.57894737 -0.42105263  0.5       ]\n",
            " [ 0.39473684 -0.40350877  0.26315789 -0.16666667]\n",
            " [ 0.10526316  0.07017544 -0.26315789  0.33333333]\n",
            " [-0.02631579 -0.35087719  0.31578947 -0.16666667]]\n"
          ]
        }
      ]
    },
    {
      "cell_type": "code",
      "source": [
        "import numpy as np\n",
        "A = np.array([[1, 3, -1, -2], [3, 2, -4, -1], [5, 3, -4, 4], [3, 1, 1, 4]] )\n",
        "b = np.array([6,3,5,7])\n",
        "np.dot(minv, b)\n"
      ],
      "metadata": {
        "id": "itPF0gVXFUqb",
        "outputId": "f8333fc7-1808-47cc-dfc1-962392130b6f",
        "colab": {
          "base_uri": "https://localhost:8080/"
        }
      },
      "execution_count": null,
      "outputs": [
        {
          "output_type": "execute_result",
          "data": {
            "text/plain": [
              "array([ 2.34210526,  1.30701754,  1.85964912, -0.79824561])"
            ]
          },
          "metadata": {},
          "execution_count": 4
        }
      ]
    },
    {
      "cell_type": "code",
      "source": [
        "import numpy as np\n",
        "a = np.array([[1, 3, -1, -2], [3, 2, -4, -1], [5, 3, -4, 4], [3, 1, 1, 4]])\n",
        "b = np.array([6,3,5,7])\n",
        "solucion = np.linalg.solve(a,b)\n",
        "solucion"
      ],
      "metadata": {
        "id": "d2mm7wrfKf2w",
        "outputId": "d9ec58f1-6034-4fac-98ae-df244d16c3f9",
        "colab": {
          "base_uri": "https://localhost:8080/"
        }
      },
      "execution_count": null,
      "outputs": [
        {
          "output_type": "execute_result",
          "data": {
            "text/plain": [
              "array([ 2.34210526,  1.30701754,  1.85964912, -0.79824561])"
            ]
          },
          "metadata": {},
          "execution_count": 119
        }
      ]
    },
    {
      "cell_type": "markdown",
      "source": [
        "## Práctica 3.6\n",
        "**Resolución de sistemas lineales con Octave**  \n",
        "\n",
        "1. Tome el mismo sistema 4x4 con solución única del ejercicio anterior.\n",
        "2. Muestra el sistema usando $\\LaTeX$\n",
        "3. Resuélvelo con Octave por dos métodos\n",
        "4. ¿Ambos métodos dan el mismo resultado?\n",
        "He probado dos metodos distintos y ambos me han dado el mismo resultado. En el primer metodo lo que he hecho ha sido hacer la inversa de la matriz (A) y despues multiplicarlo por los terminos independientes (b), y en el segundo metodo he dividido la matriz A con los terminos independientes (b)."
      ],
      "metadata": {
        "id": "M39ufifh_Jr8"
      }
    },
    {
      "cell_type": "markdown",
      "source": [
        "Sistema lineal de cuatro ecuaciones con 4 incognitas.\n",
        "\n",
        "$$\\left.\n",
        "\\begin{align*}\n",
        "x +3y - z - t &=6 \\\\\n",
        "3x + 2y - 4z -t &=3 \\\\\n",
        "5x + 3y - 4z + 4t &=5 \\\\\n",
        "3x + y + z + 4t &=7 \\\\\n",
        "\\end{align*}\n",
        "\\right\\}$$ "
      ],
      "metadata": {
        "id": "oT8oNNRXQn1r"
      }
    },
    {
      "cell_type": "markdown",
      "source": [
        "Solucion con octave\n"
      ],
      "metadata": {
        "id": "aZg9sA-176aG"
      }
    },
    {
      "cell_type": "code",
      "source": [
        "from IPython.display import Image\n",
        "Image (\"Solucion 1.jpeg\")"
      ],
      "metadata": {
        "id": "LhRfGkYA9T-5",
        "outputId": "d1c38541-0e75-46ea-d271-b0988ff925dc",
        "colab": {
          "base_uri": "https://localhost:8080/",
          "height": 540
        }
      },
      "execution_count": 8,
      "outputs": [
        {
          "output_type": "execute_result",
          "data": {
            "image/jpeg": "[encoded data removed]",
            "text/plain": [
              "<IPython.core.display.Image object>"
            ]
          },
          "metadata": {},
          "execution_count": 8
        }
      ]
    },
    {
      "cell_type": "code",
      "source": [
        "from IPython.display import Image\n",
        "Image (\"Solucion 2.jpeg\")"
      ],
      "metadata": {
        "id": "_PzIIZFu9nCo",
        "outputId": "21a81087-2f95-4032-d716-baa7b498a86d",
        "colab": {
          "base_uri": "https://localhost:8080/",
          "height": 542
        }
      },
      "execution_count": 9,
      "outputs": [
        {
          "output_type": "execute_result",
          "data": {
            "image/jpeg": "[encoded data removed]",
            "text/plain": [
              "<IPython.core.display.Image object>"
            ]
          },
          "metadata": {},
          "execution_count": 9
        }
      ]
    },
    {
      "cell_type": "markdown",
      "source": [
        "###METODO 1"
      ],
      "metadata": {
        "id": "kGG-nuWTeQwa"
      }
    },
    {
      "cell_type": "code",
      "source": [
        "!apt install octave"
      ],
      "metadata": {
        "id": "GsJDHamd3lKx",
        "outputId": "fc100994-5e5a-4164-8965-5beb886365c9",
        "colab": {
          "base_uri": "https://localhost:8080/"
        }
      },
      "execution_count": 3,
      "outputs": [
        {
          "output_type": "stream",
          "name": "stdout",
          "text": [
            "Reading package lists... Done\n",
            "Building dependency tree       \n",
            "Reading state information... Done\n",
            "The following package was automatically installed and is no longer required:\n",
            "  libnvidia-common-460\n",
            "Use 'apt autoremove' to remove it.\n",
            "The following additional packages will be installed:\n",
            "  aglfn epstool fonts-droid-fallback fonts-noto-mono ghostscript gnuplot-data\n",
            "  gnuplot-qt gsfonts imagemagick-6-common info install-info libamd2\n",
            "  libauthen-sasl-perl libcamd2 libccolamd2 libcholmod3 libcolamd2\n",
            "  libcupsfilters1 libcupsimage2 libcxsparse3 libdata-dump-perl libemf1\n",
            "  libencode-locale-perl libfftw3-single3 libfile-listing-perl libfltk-gl1.3\n",
            "  libfltk1.3 libfont-afm-perl libgail-common libgail18 libglpk40\n",
            "  libgraphicsmagick++-q16-12 libgraphicsmagick-q16-3 libgs9 libgs9-common\n",
            "  libgtk2.0-0 libgtk2.0-bin libgtk2.0-common libhtml-form-perl\n",
            "  libhtml-format-perl libhtml-parser-perl libhtml-tagset-perl\n",
            "  libhtml-tree-perl libhttp-cookies-perl libhttp-daemon-perl libhttp-date-perl\n",
            "  libhttp-message-perl libhttp-negotiate-perl libijs-0.35 libio-html-perl\n",
            "  libio-socket-ssl-perl libjbig2dec0 liblqr-1-0 liblua5.3-0\n",
            "  liblwp-mediatypes-perl liblwp-protocol-https-perl libmagick++-6.q16-7\n",
            "  libmagickcore-6.q16-3 libmagickwand-6.q16-3 libmailtools-perl libmetis5\n",
            "  libnet-http-perl libnet-smtp-ssl-perl libnet-ssleay-perl libnotify4\n",
            "  liboctave4 libosmesa6 libplot2c2 libportaudio2 libpstoedit0c2a libqrupdate1\n",
            "  libqscintilla2-qt5-13 libqscintilla2-qt5-l10n libqt5opengl5 libqt5svg5\n",
            "  libsuitesparseconfig5 libtext-unidecode-perl libtimedate-perl\n",
            "  libtry-tiny-perl libumfpack5 liburi-perl libwmf0.2-7 libwww-perl\n",
            "  libwww-robotrules-perl libwxbase3.0-0v5 libwxgtk3.0-0v5 libxml-libxml-perl\n",
            "  libxml-namespacesupport-perl libxml-parser-perl libxml-sax-base-perl\n",
            "  libxml-sax-expat-perl libxml-sax-perl libzip4 netbase notification-daemon\n",
            "  octave-common octave-doc perl-openssl-defaults poppler-data pstoedit\n",
            "  tex-common texinfo\n",
            "Suggested packages:\n",
            "  fonts-noto ghostscript-x gnuplot-doc texinfo-doc-nonfree libdigest-hmac-perl\n",
            "  libgssapi-perl libfftw3-bin libfftw3-dev libiodbc2-dev graphicsmagick-dbg\n",
            "  gvfs libcrypt-ssleay-perl libmagickcore-6.q16-3-extra libqscintilla2-doc\n",
            "  libwmf0.2-7-gtk libauthen-ntlm-perl liboctave-dev www-browser | pdf-viewer\n",
            "  poppler-utils fonts-japanese-mincho | fonts-ipafont-mincho\n",
            "  fonts-japanese-gothic | fonts-ipafont-gothic fonts-arphic-ukai\n",
            "  fonts-arphic-uming fonts-nanum xfig | ivtools-bin | tgif | transfig\n",
            "  debhelper texlive-base texlive-latex-base texlive-generic-recommended\n",
            "  texlive-fonts-recommended\n",
            "The following NEW packages will be installed:\n",
            "  aglfn epstool fonts-droid-fallback fonts-noto-mono ghostscript gnuplot-data\n",
            "  gnuplot-qt gsfonts imagemagick-6-common info install-info libamd2\n",
            "  libauthen-sasl-perl libcamd2 libccolamd2 libcholmod3 libcolamd2\n",
            "  libcupsfilters1 libcupsimage2 libcxsparse3 libdata-dump-perl libemf1\n",
            "  libencode-locale-perl libfftw3-single3 libfile-listing-perl libfltk-gl1.3\n",
            "  libfltk1.3 libfont-afm-perl libgail-common libgail18 libglpk40\n",
            "  libgraphicsmagick++-q16-12 libgraphicsmagick-q16-3 libgs9 libgs9-common\n",
            "  libgtk2.0-0 libgtk2.0-bin libgtk2.0-common libhtml-form-perl\n",
            "  libhtml-format-perl libhtml-parser-perl libhtml-tagset-perl\n",
            "  libhtml-tree-perl libhttp-cookies-perl libhttp-daemon-perl libhttp-date-perl\n",
            "  libhttp-message-perl libhttp-negotiate-perl libijs-0.35 libio-html-perl\n",
            "  libio-socket-ssl-perl libjbig2dec0 liblqr-1-0 liblua5.3-0\n",
            "  liblwp-mediatypes-perl liblwp-protocol-https-perl libmagick++-6.q16-7\n",
            "  libmagickcore-6.q16-3 libmagickwand-6.q16-3 libmailtools-perl libmetis5\n",
            "  libnet-http-perl libnet-smtp-ssl-perl libnet-ssleay-perl libnotify4\n",
            "  liboctave4 libosmesa6 libplot2c2 libportaudio2 libpstoedit0c2a libqrupdate1\n",
            "  libqscintilla2-qt5-13 libqscintilla2-qt5-l10n libqt5opengl5 libqt5svg5\n",
            "  libsuitesparseconfig5 libtext-unidecode-perl libtimedate-perl\n",
            "  libtry-tiny-perl libumfpack5 liburi-perl libwmf0.2-7 libwww-perl\n",
            "  libwww-robotrules-perl libwxbase3.0-0v5 libwxgtk3.0-0v5 libxml-libxml-perl\n",
            "  libxml-namespacesupport-perl libxml-parser-perl libxml-sax-base-perl\n",
            "  libxml-sax-expat-perl libxml-sax-perl libzip4 netbase notification-daemon\n",
            "  octave octave-common octave-doc perl-openssl-defaults poppler-data pstoedit\n",
            "  tex-common texinfo\n",
            "0 upgraded, 103 newly installed, 0 to remove and 20 not upgraded.\n",
            "Need to get 53.6 MB of archives.\n",
            "After this operation, 210 MB of additional disk space will be used.\n",
            "Get:1 http://archive.ubuntu.com/ubuntu bionic/main amd64 install-info amd64 6.5.0.dfsg.1-2 [55.4 kB]\n",
            "Get:2 http://archive.ubuntu.com/ubuntu bionic/main amd64 fonts-droid-fallback all 1:6.0.1r16-1.1 [1,805 kB]\n",
            "Get:3 http://archive.ubuntu.com/ubuntu bionic/main amd64 liblqr-1-0 amd64 0.4.2-2.1 [27.7 kB]\n",
            "Get:4 http://archive.ubuntu.com/ubuntu bionic-updates/main amd64 imagemagick-6-common all 8:6.9.7.4+dfsg-16ubuntu6.14 [60.5 kB]\n",
            "Get:5 http://archive.ubuntu.com/ubuntu bionic-updates/main amd64 libmagickcore-6.q16-3 amd64 8:6.9.7.4+dfsg-16ubuntu6.14 [1,622 kB]\n",
            "Get:6 http://archive.ubuntu.com/ubuntu bionic-updates/main amd64 libmagickwand-6.q16-3 amd64 8:6.9.7.4+dfsg-16ubuntu6.14 [294 kB]\n",
            "Get:7 http://archive.ubuntu.com/ubuntu bionic-updates/main amd64 libqt5svg5 amd64 5.9.5-0ubuntu1.1 [129 kB]\n",
            "Get:8 http://archive.ubuntu.com/ubuntu bionic/main amd64 poppler-data all 0.4.8-2 [1,479 kB]\n",
            "Get:9 http://archive.ubuntu.com/ubuntu bionic/main amd64 tex-common all 6.09 [33.0 kB]\n",
            "Get:10 http://archive.ubuntu.com/ubuntu bionic/main amd64 netbase all 5.4 [12.7 kB]\n",
            "Get:11 http://archive.ubuntu.com/ubuntu bionic/main amd64 info amd64 6.5.0.dfsg.1-2 [104 kB]\n",
            "Get:12 http://archive.ubuntu.com/ubuntu bionic-updates/main amd64 libcupsimage2 amd64 2.2.7-1ubuntu2.9 [18.6 kB]\n",
            "Get:13 http://archive.ubuntu.com/ubuntu bionic/main amd64 libijs-0.35 amd64 0.35-13 [15.5 kB]\n",
            "Get:14 http://archive.ubuntu.com/ubuntu bionic/main amd64 libjbig2dec0 amd64 0.13-6 [55.9 kB]\n",
            "Get:15 http://archive.ubuntu.com/ubuntu bionic-updates/main amd64 libgs9-common all 9.26~dfsg+0-0ubuntu0.18.04.17 [5,092 kB]\n",
            "Get:16 http://archive.ubuntu.com/ubuntu bionic-updates/main amd64 libgs9 amd64 9.26~dfsg+0-0ubuntu0.18.04.17 [2,267 kB]\n",
            "Get:17 http://archive.ubuntu.com/ubuntu bionic-updates/main amd64 ghostscript amd64 9.26~dfsg+0-0ubuntu0.18.04.17 [51.3 kB]\n",
            "Get:18 http://archive.ubuntu.com/ubuntu bionic/universe amd64 epstool amd64 3.08+repack-7 [108 kB]\n",
            "Get:19 http://archive.ubuntu.com/ubuntu bionic/main amd64 fonts-noto-mono all 20171026-2 [75.5 kB]\n",
            "Get:20 http://archive.ubuntu.com/ubuntu bionic/universe amd64 aglfn all 1.7-3 [29.4 kB]\n",
            "Get:21 http://archive.ubuntu.com/ubuntu bionic/universe amd64 gnuplot-data all 5.2.2+dfsg1-2ubuntu1 [56.7 kB]\n",
            "Get:22 http://archive.ubuntu.com/ubuntu bionic-updates/main amd64 liblua5.3-0 amd64 5.3.3-1ubuntu0.18.04.1 [115 kB]\n",
            "Get:23 http://archive.ubuntu.com/ubuntu bionic/universe amd64 libwxbase3.0-0v5 amd64 3.0.4+dfsg-3 [954 kB]\n",
            "Get:24 http://archive.ubuntu.com/ubuntu bionic/main amd64 libgtk2.0-common all 2.24.32-1ubuntu1 [125 kB]\n",
            "Get:25 http://archive.ubuntu.com/ubuntu bionic/main amd64 libgtk2.0-0 amd64 2.24.32-1ubuntu1 [1,769 kB]\n",
            "Get:26 http://archive.ubuntu.com/ubuntu bionic-updates/main amd64 libnotify4 amd64 0.7.7-3ubuntu0.18.04.1 [18.7 kB]\n",
            "Get:27 http://archive.ubuntu.com/ubuntu bionic/universe amd64 libwxgtk3.0-0v5 amd64 3.0.4+dfsg-3 [4,182 kB]\n",
            "Get:28 http://archive.ubuntu.com/ubuntu bionic/universe amd64 gnuplot-qt amd64 5.2.2+dfsg1-2ubuntu1 [1,013 kB]\n",
            "Get:29 http://archive.ubuntu.com/ubuntu bionic/main amd64 gsfonts all 1:8.11+urwcyr1.0.7~pre44-4.4 [3,120 kB]\n",
            "Get:30 http://archive.ubuntu.com/ubuntu bionic/main amd64 libsuitesparseconfig5 amd64 1:5.1.2-2 [9,044 B]\n",
            "Get:31 http://archive.ubuntu.com/ubuntu bionic/main amd64 libamd2 amd64 1:5.1.2-2 [19.5 kB]\n",
            "Get:32 http://archive.ubuntu.com/ubuntu bionic/main amd64 libcamd2 amd64 1:5.1.2-2 [20.9 kB]\n",
            "Get:33 http://archive.ubuntu.com/ubuntu bionic/main amd64 libccolamd2 amd64 1:5.1.2-2 [21.7 kB]\n",
            "Get:34 http://archive.ubuntu.com/ubuntu bionic/main amd64 libcolamd2 amd64 1:5.1.2-2 [16.2 kB]\n",
            "Get:35 http://archive.ubuntu.com/ubuntu bionic/main amd64 libmetis5 amd64 5.1.0.dfsg-5 [169 kB]\n",
            "Get:36 http://archive.ubuntu.com/ubuntu bionic/main amd64 libcholmod3 amd64 1:5.1.2-2 [300 kB]\n",
            "Get:37 http://archive.ubuntu.com/ubuntu bionic-updates/main amd64 libcupsfilters1 amd64 1.20.2-0ubuntu3.1 [108 kB]\n",
            "Get:38 http://archive.ubuntu.com/ubuntu bionic/main amd64 libcxsparse3 amd64 1:5.1.2-2 [63.9 kB]\n",
            "Get:39 http://archive.ubuntu.com/ubuntu bionic/main amd64 libdata-dump-perl all 1.23-1 [27.0 kB]\n",
            "Get:40 http://archive.ubuntu.com/ubuntu bionic/universe amd64 libemf1 amd64 1.0.9+git.10.3231442-1 [54.7 kB]\n",
            "Get:41 http://archive.ubuntu.com/ubuntu bionic/main amd64 libencode-locale-perl all 1.05-1 [12.3 kB]\n",
            "Get:42 http://archive.ubuntu.com/ubuntu bionic/main amd64 libfftw3-single3 amd64 3.3.7-1 [764 kB]\n",
            "Get:43 http://archive.ubuntu.com/ubuntu bionic/main amd64 libtimedate-perl all 2.3000-2 [37.5 kB]\n",
            "Get:44 http://archive.ubuntu.com/ubuntu bionic/main amd64 libhttp-date-perl all 6.02-1 [10.4 kB]\n",
            "Get:45 http://archive.ubuntu.com/ubuntu bionic/main amd64 libfile-listing-perl all 6.04-1 [9,774 B]\n",
            "Get:46 http://archive.ubuntu.com/ubuntu bionic/universe amd64 libfltk1.3 amd64 1.3.4-6 [523 kB]\n",
            "Get:47 http://archive.ubuntu.com/ubuntu bionic/universe amd64 libfltk-gl1.3 amd64 1.3.4-6 [37.7 kB]\n",
            "Get:48 http://archive.ubuntu.com/ubuntu bionic/main amd64 libfont-afm-perl all 1.20-2 [13.2 kB]\n",
            "Get:49 http://archive.ubuntu.com/ubuntu bionic/main amd64 libgail18 amd64 2.24.32-1ubuntu1 [14.2 kB]\n",
            "Get:50 http://archive.ubuntu.com/ubuntu bionic/main amd64 libgail-common amd64 2.24.32-1ubuntu1 [112 kB]\n",
            "Get:51 http://archive.ubuntu.com/ubuntu bionic/universe amd64 libglpk40 amd64 4.65-1 [378 kB]\n",
            "Get:52 http://archive.ubuntu.com/ubuntu bionic/main amd64 libwmf0.2-7 amd64 0.2.8.4-12 [150 kB]\n",
            "Get:53 http://archive.ubuntu.com/ubuntu bionic-updates/universe amd64 libgraphicsmagick-q16-3 amd64 1.3.28-2ubuntu0.1 [1,116 kB]\n",
            "Get:54 http://archive.ubuntu.com/ubuntu bionic-updates/universe amd64 libgraphicsmagick++-q16-12 amd64 1.3.28-2ubuntu0.1 [102 kB]\n",
            "Get:55 http://archive.ubuntu.com/ubuntu bionic/main amd64 libgtk2.0-bin amd64 2.24.32-1ubuntu1 [7,536 B]\n",
            "Get:56 http://archive.ubuntu.com/ubuntu bionic/main amd64 libhtml-tagset-perl all 3.20-3 [12.1 kB]\n",
            "Get:57 http://archive.ubuntu.com/ubuntu bionic/main amd64 liburi-perl all 1.73-1 [77.2 kB]\n",
            "Get:58 http://archive.ubuntu.com/ubuntu bionic/main amd64 libhtml-parser-perl amd64 3.72-3build1 [85.9 kB]\n",
            "Get:59 http://archive.ubuntu.com/ubuntu bionic/main amd64 libio-html-perl all 1.001-1 [14.9 kB]\n",
            "Get:60 http://archive.ubuntu.com/ubuntu bionic/main amd64 liblwp-mediatypes-perl all 6.02-1 [21.7 kB]\n",
            "Get:61 http://archive.ubuntu.com/ubuntu bionic/main amd64 libhttp-message-perl all 6.14-1 [72.1 kB]\n",
            "Get:62 http://archive.ubuntu.com/ubuntu bionic/main amd64 libhtml-form-perl all 6.03-1 [23.5 kB]\n",
            "Get:63 http://archive.ubuntu.com/ubuntu bionic/main amd64 libhtml-tree-perl all 5.07-1 [200 kB]\n",
            "Get:64 http://archive.ubuntu.com/ubuntu bionic/main amd64 libhtml-format-perl all 2.12-1 [41.3 kB]\n",
            "Get:65 http://archive.ubuntu.com/ubuntu bionic/main amd64 libhttp-cookies-perl all 6.04-1 [17.2 kB]\n",
            "Get:66 http://archive.ubuntu.com/ubuntu bionic-updates/main amd64 libhttp-daemon-perl all 6.01-1ubuntu0.1 [15.9 kB]\n",
            "Get:67 http://archive.ubuntu.com/ubuntu bionic/main amd64 libhttp-negotiate-perl all 6.00-2 [13.4 kB]\n",
            "Get:68 http://archive.ubuntu.com/ubuntu bionic/main amd64 perl-openssl-defaults amd64 3build1 [7,012 B]\n",
            "Get:69 http://archive.ubuntu.com/ubuntu bionic-updates/main amd64 libnet-ssleay-perl amd64 1.84-1ubuntu0.2 [283 kB]\n",
            "Get:70 http://archive.ubuntu.com/ubuntu bionic-updates/main amd64 libio-socket-ssl-perl all 2.060-3~ubuntu18.04.1 [173 kB]\n",
            "Get:71 http://archive.ubuntu.com/ubuntu bionic/main amd64 libnet-http-perl all 6.17-1 [22.7 kB]\n",
            "Get:72 http://archive.ubuntu.com/ubuntu bionic/main amd64 libtry-tiny-perl all 0.30-1 [20.5 kB]\n",
            "Get:73 http://archive.ubuntu.com/ubuntu bionic/main amd64 libwww-robotrules-perl all 6.01-1 [14.1 kB]\n",
            "Get:74 http://archive.ubuntu.com/ubuntu bionic-updates/main amd64 libwww-perl all 6.31-1ubuntu0.1 [137 kB]\n",
            "Get:75 http://archive.ubuntu.com/ubuntu bionic/main amd64 liblwp-protocol-https-perl all 6.07-2 [8,284 B]\n",
            "Get:76 http://archive.ubuntu.com/ubuntu bionic-updates/main amd64 libmagick++-6.q16-7 amd64 8:6.9.7.4+dfsg-16ubuntu6.14 [139 kB]\n",
            "Get:77 http://archive.ubuntu.com/ubuntu bionic/main amd64 libnet-smtp-ssl-perl all 1.04-1 [5,948 B]\n",
            "Get:78 http://archive.ubuntu.com/ubuntu bionic/main amd64 libmailtools-perl all 2.18-1 [74.0 kB]\n",
            "Get:79 http://archive.ubuntu.com/ubuntu bionic/universe amd64 libqrupdate1 amd64 1.1.2-2build1 [36.5 kB]\n",
            "Get:80 http://archive.ubuntu.com/ubuntu bionic/main amd64 libumfpack5 amd64 1:5.1.2-2 [229 kB]\n",
            "Get:81 http://archive.ubuntu.com/ubuntu bionic/universe amd64 liboctave4 amd64 4.2.2-1ubuntu1 [6,736 kB]\n",
            "Get:82 http://archive.ubuntu.com/ubuntu bionic/universe amd64 libplot2c2 amd64 2.6-9 [502 kB]\n",
            "Get:83 http://archive.ubuntu.com/ubuntu bionic/universe amd64 libportaudio2 amd64 19.6.0-1 [64.6 kB]\n",
            "Get:84 http://archive.ubuntu.com/ubuntu bionic/universe amd64 libzip4 amd64 1.1.2-1.1 [37.8 kB]\n",
            "Get:85 http://archive.ubuntu.com/ubuntu bionic/universe amd64 libpstoedit0c2a amd64 3.70-5 [349 kB]\n",
            "Get:86 http://archive.ubuntu.com/ubuntu bionic/universe amd64 libqscintilla2-qt5-l10n all 2.10.2+dfsg-4 [39.7 kB]\n",
            "Get:87 http://archive.ubuntu.com/ubuntu bionic/universe amd64 libqscintilla2-qt5-13 amd64 2.10.2+dfsg-4 [1,030 kB]\n",
            "Get:88 http://archive.ubuntu.com/ubuntu bionic-updates/main amd64 libqt5opengl5 amd64 5.9.5+dfsg-0ubuntu2.6 [132 kB]\n",
            "Get:89 http://archive.ubuntu.com/ubuntu bionic/universe amd64 libtext-unidecode-perl all 1.30-1 [99.0 kB]\n",
            "Get:90 http://archive.ubuntu.com/ubuntu bionic/main amd64 libxml-namespacesupport-perl all 1.12-1 [13.2 kB]\n",
            "Get:91 http://archive.ubuntu.com/ubuntu bionic/main amd64 libxml-sax-base-perl all 1.09-1 [18.8 kB]\n",
            "Get:92 http://archive.ubuntu.com/ubuntu bionic/main amd64 libxml-sax-perl all 0.99+dfsg-2ubuntu1 [64.6 kB]\n",
            "Get:93 http://archive.ubuntu.com/ubuntu bionic/main amd64 libxml-libxml-perl amd64 2.0128+dfsg-5 [316 kB]\n",
            "Get:94 http://archive.ubuntu.com/ubuntu bionic/main amd64 libxml-parser-perl amd64 2.44-2build3 [199 kB]\n",
            "Get:95 http://archive.ubuntu.com/ubuntu bionic/main amd64 libxml-sax-expat-perl all 0.40-2 [11.5 kB]\n",
            "Get:96 http://archive.ubuntu.com/ubuntu bionic/main amd64 notification-daemon amd64 3.20.0-3 [36.9 kB]\n",
            "Get:97 http://archive.ubuntu.com/ubuntu bionic/universe amd64 pstoedit amd64 3.70-5 [102 kB]\n",
            "Get:98 http://archive.ubuntu.com/ubuntu bionic/universe amd64 texinfo amd64 6.5.0.dfsg.1-2 [752 kB]\n",
            "Get:99 http://archive.ubuntu.com/ubuntu bionic/main amd64 libauthen-sasl-perl all 2.1600-1 [48.7 kB]\n",
            "Get:100 http://archive.ubuntu.com/ubuntu bionic-updates/main amd64 libosmesa6 amd64 20.0.8-0ubuntu1~18.04.1 [2,641 kB]\n",
            "Get:101 http://archive.ubuntu.com/ubuntu bionic/universe amd64 octave-common all 4.2.2-1ubuntu1 [1,444 kB]\n",
            "Get:102 http://archive.ubuntu.com/ubuntu bionic/universe amd64 octave amd64 4.2.2-1ubuntu1 [1,583 kB]\n",
            "Get:103 http://archive.ubuntu.com/ubuntu bionic/universe amd64 octave-doc all 4.2.2-1ubuntu1 [6,836 kB]\n",
            "Fetched 53.6 MB in 9s (6,214 kB/s)\n",
            "Extracting templates from packages: 100%\n",
            "Selecting previously unselected package install-info.\n",
            "(Reading database ... 124016 files and directories currently installed.)\n",
            "Preparing to unpack .../install-info_6.5.0.dfsg.1-2_amd64.deb ...\n",
            "Unpacking install-info (6.5.0.dfsg.1-2) ...\n",
            "Setting up install-info (6.5.0.dfsg.1-2) ...\n",
            "Selecting previously unselected package fonts-droid-fallback.\n",
            "(Reading database ... 124029 files and directories currently installed.)\n",
            "Preparing to unpack .../000-fonts-droid-fallback_1%3a6.0.1r16-1.1_all.deb ...\n",
            "Unpacking fonts-droid-fallback (1:6.0.1r16-1.1) ...\n",
            "Selecting previously unselected package liblqr-1-0:amd64.\n",
            "Preparing to unpack .../001-liblqr-1-0_0.4.2-2.1_amd64.deb ...\n",
            "Unpacking liblqr-1-0:amd64 (0.4.2-2.1) ...\n",
            "Selecting previously unselected package imagemagick-6-common.\n",
            "Preparing to unpack .../002-imagemagick-6-common_8%3a6.9.7.4+dfsg-16ubuntu6.14_all.deb ...\n",
            "Unpacking imagemagick-6-common (8:6.9.7.4+dfsg-16ubuntu6.14) ...\n",
            "Selecting previously unselected package libmagickcore-6.q16-3:amd64.\n",
            "Preparing to unpack .../003-libmagickcore-6.q16-3_8%3a6.9.7.4+dfsg-16ubuntu6.14_amd64.deb ...\n",
            "Unpacking libmagickcore-6.q16-3:amd64 (8:6.9.7.4+dfsg-16ubuntu6.14) ...\n",
            "Selecting previously unselected package libmagickwand-6.q16-3:amd64.\n",
            "Preparing to unpack .../004-libmagickwand-6.q16-3_8%3a6.9.7.4+dfsg-16ubuntu6.14_amd64.deb ...\n",
            "Unpacking libmagickwand-6.q16-3:amd64 (8:6.9.7.4+dfsg-16ubuntu6.14) ...\n",
            "Selecting previously unselected package libqt5svg5:amd64.\n",
            "Preparing to unpack .../005-libqt5svg5_5.9.5-0ubuntu1.1_amd64.deb ...\n",
            "Unpacking libqt5svg5:amd64 (5.9.5-0ubuntu1.1) ...\n",
            "Selecting previously unselected package poppler-data.\n",
            "Preparing to unpack .../006-poppler-data_0.4.8-2_all.deb ...\n",
            "Unpacking poppler-data (0.4.8-2) ...\n",
            "Selecting previously unselected package tex-common.\n",
            "Preparing to unpack .../007-tex-common_6.09_all.deb ...\n",
            "Unpacking tex-common (6.09) ...\n",
            "Selecting previously unselected package netbase.\n",
            "Preparing to unpack .../008-netbase_5.4_all.deb ...\n",
            "Unpacking netbase (5.4) ...\n",
            "Selecting previously unselected package info.\n",
            "Preparing to unpack .../009-info_6.5.0.dfsg.1-2_amd64.deb ...\n",
            "Unpacking info (6.5.0.dfsg.1-2) ...\n",
            "Selecting previously unselected package libcupsimage2:amd64.\n",
            "Preparing to unpack .../010-libcupsimage2_2.2.7-1ubuntu2.9_amd64.deb ...\n",
            "Unpacking libcupsimage2:amd64 (2.2.7-1ubuntu2.9) ...\n",
            "Selecting previously unselected package libijs-0.35:amd64.\n",
            "Preparing to unpack .../011-libijs-0.35_0.35-13_amd64.deb ...\n",
            "Unpacking libijs-0.35:amd64 (0.35-13) ...\n",
            "Selecting previously unselected package libjbig2dec0:amd64.\n",
            "Preparing to unpack .../012-libjbig2dec0_0.13-6_amd64.deb ...\n",
            "Unpacking libjbig2dec0:amd64 (0.13-6) ...\n",
            "Selecting previously unselected package libgs9-common.\n",
            "Preparing to unpack .../013-libgs9-common_9.26~dfsg+0-0ubuntu0.18.04.17_all.deb ...\n",
            "Unpacking libgs9-common (9.26~dfsg+0-0ubuntu0.18.04.17) ...\n",
            "Selecting previously unselected package libgs9:amd64.\n",
            "Preparing to unpack .../014-libgs9_9.26~dfsg+0-0ubuntu0.18.04.17_amd64.deb ...\n",
            "Unpacking libgs9:amd64 (9.26~dfsg+0-0ubuntu0.18.04.17) ...\n",
            "Selecting previously unselected package ghostscript.\n",
            "Preparing to unpack .../015-ghostscript_9.26~dfsg+0-0ubuntu0.18.04.17_amd64.deb ...\n",
            "Unpacking ghostscript (9.26~dfsg+0-0ubuntu0.18.04.17) ...\n",
            "Selecting previously unselected package epstool.\n",
            "Preparing to unpack .../016-epstool_3.08+repack-7_amd64.deb ...\n",
            "Unpacking epstool (3.08+repack-7) ...\n",
            "Selecting previously unselected package fonts-noto-mono.\n",
            "Preparing to unpack .../017-fonts-noto-mono_20171026-2_all.deb ...\n",
            "Unpacking fonts-noto-mono (20171026-2) ...\n",
            "Selecting previously unselected package aglfn.\n",
            "Preparing to unpack .../018-aglfn_1.7-3_all.deb ...\n",
            "Unpacking aglfn (1.7-3) ...\n",
            "Selecting previously unselected package gnuplot-data.\n",
            "Preparing to unpack .../019-gnuplot-data_5.2.2+dfsg1-2ubuntu1_all.deb ...\n",
            "Unpacking gnuplot-data (5.2.2+dfsg1-2ubuntu1) ...\n",
            "Selecting previously unselected package liblua5.3-0:amd64.\n",
            "Preparing to unpack .../020-liblua5.3-0_5.3.3-1ubuntu0.18.04.1_amd64.deb ...\n",
            "Unpacking liblua5.3-0:amd64 (5.3.3-1ubuntu0.18.04.1) ...\n",
            "Selecting previously unselected package libwxbase3.0-0v5:amd64.\n",
            "Preparing to unpack .../021-libwxbase3.0-0v5_3.0.4+dfsg-3_amd64.deb ...\n",
            "Unpacking libwxbase3.0-0v5:amd64 (3.0.4+dfsg-3) ...\n",
            "Selecting previously unselected package libgtk2.0-common.\n",
            "Preparing to unpack .../022-libgtk2.0-common_2.24.32-1ubuntu1_all.deb ...\n",
            "Unpacking libgtk2.0-common (2.24.32-1ubuntu1) ...\n",
            "Selecting previously unselected package libgtk2.0-0:amd64.\n",
            "Preparing to unpack .../023-libgtk2.0-0_2.24.32-1ubuntu1_amd64.deb ...\n",
            "Unpacking libgtk2.0-0:amd64 (2.24.32-1ubuntu1) ...\n",
            "Selecting previously unselected package libnotify4:amd64.\n",
            "Preparing to unpack .../024-libnotify4_0.7.7-3ubuntu0.18.04.1_amd64.deb ...\n",
            "Unpacking libnotify4:amd64 (0.7.7-3ubuntu0.18.04.1) ...\n",
            "Selecting previously unselected package libwxgtk3.0-0v5:amd64.\n",
            "Preparing to unpack .../025-libwxgtk3.0-0v5_3.0.4+dfsg-3_amd64.deb ...\n",
            "Unpacking libwxgtk3.0-0v5:amd64 (3.0.4+dfsg-3) ...\n",
            "Selecting previously unselected package gnuplot-qt.\n",
            "Preparing to unpack .../026-gnuplot-qt_5.2.2+dfsg1-2ubuntu1_amd64.deb ...\n",
            "Unpacking gnuplot-qt (5.2.2+dfsg1-2ubuntu1) ...\n",
            "Selecting previously unselected package gsfonts.\n",
            "Preparing to unpack .../027-gsfonts_1%3a8.11+urwcyr1.0.7~pre44-4.4_all.deb ...\n",
            "Unpacking gsfonts (1:8.11+urwcyr1.0.7~pre44-4.4) ...\n",
            "Selecting previously unselected package libsuitesparseconfig5:amd64.\n",
            "Preparing to unpack .../028-libsuitesparseconfig5_1%3a5.1.2-2_amd64.deb ...\n",
            "Unpacking libsuitesparseconfig5:amd64 (1:5.1.2-2) ...\n",
            "Selecting previously unselected package libamd2:amd64.\n",
            "Preparing to unpack .../029-libamd2_1%3a5.1.2-2_amd64.deb ...\n",
            "Unpacking libamd2:amd64 (1:5.1.2-2) ...\n",
            "Selecting previously unselected package libcamd2:amd64.\n",
            "Preparing to unpack .../030-libcamd2_1%3a5.1.2-2_amd64.deb ...\n",
            "Unpacking libcamd2:amd64 (1:5.1.2-2) ...\n",
            "Selecting previously unselected package libccolamd2:amd64.\n",
            "Preparing to unpack .../031-libccolamd2_1%3a5.1.2-2_amd64.deb ...\n",
            "Unpacking libccolamd2:amd64 (1:5.1.2-2) ...\n",
            "Selecting previously unselected package libcolamd2:amd64.\n",
            "Preparing to unpack .../032-libcolamd2_1%3a5.1.2-2_amd64.deb ...\n",
            "Unpacking libcolamd2:amd64 (1:5.1.2-2) ...\n",
            "Selecting previously unselected package libmetis5:amd64.\n",
            "Preparing to unpack .../033-libmetis5_5.1.0.dfsg-5_amd64.deb ...\n",
            "Unpacking libmetis5:amd64 (5.1.0.dfsg-5) ...\n",
            "Selecting previously unselected package libcholmod3:amd64.\n",
            "Preparing to unpack .../034-libcholmod3_1%3a5.1.2-2_amd64.deb ...\n",
            "Unpacking libcholmod3:amd64 (1:5.1.2-2) ...\n",
            "Selecting previously unselected package libcupsfilters1:amd64.\n",
            "Preparing to unpack .../035-libcupsfilters1_1.20.2-0ubuntu3.1_amd64.deb ...\n",
            "Unpacking libcupsfilters1:amd64 (1.20.2-0ubuntu3.1) ...\n",
            "Selecting previously unselected package libcxsparse3:amd64.\n",
            "Preparing to unpack .../036-libcxsparse3_1%3a5.1.2-2_amd64.deb ...\n",
            "Unpacking libcxsparse3:amd64 (1:5.1.2-2) ...\n",
            "Selecting previously unselected package libdata-dump-perl.\n",
            "Preparing to unpack .../037-libdata-dump-perl_1.23-1_all.deb ...\n",
            "Unpacking libdata-dump-perl (1.23-1) ...\n",
            "Selecting previously unselected package libemf1:amd64.\n",
            "Preparing to unpack .../038-libemf1_1.0.9+git.10.3231442-1_amd64.deb ...\n",
            "Unpacking libemf1:amd64 (1.0.9+git.10.3231442-1) ...\n",
            "Selecting previously unselected package libencode-locale-perl.\n",
            "Preparing to unpack .../039-libencode-locale-perl_1.05-1_all.deb ...\n",
            "Unpacking libencode-locale-perl (1.05-1) ...\n",
            "Selecting previously unselected package libfftw3-single3:amd64.\n",
            "Preparing to unpack .../040-libfftw3-single3_3.3.7-1_amd64.deb ...\n",
            "Unpacking libfftw3-single3:amd64 (3.3.7-1) ...\n",
            "Selecting previously unselected package libtimedate-perl.\n",
            "Preparing to unpack .../041-libtimedate-perl_2.3000-2_all.deb ...\n",
            "Unpacking libtimedate-perl (2.3000-2) ...\n",
            "Selecting previously unselected package libhttp-date-perl.\n",
            "Preparing to unpack .../042-libhttp-date-perl_6.02-1_all.deb ...\n",
            "Unpacking libhttp-date-perl (6.02-1) ...\n",
            "Selecting previously unselected package libfile-listing-perl.\n",
            "Preparing to unpack .../043-libfile-listing-perl_6.04-1_all.deb ...\n",
            "Unpacking libfile-listing-perl (6.04-1) ...\n",
            "Selecting previously unselected package libfltk1.3:amd64.\n",
            "Preparing to unpack .../044-libfltk1.3_1.3.4-6_amd64.deb ...\n",
            "Unpacking libfltk1.3:amd64 (1.3.4-6) ...\n",
            "Selecting previously unselected package libfltk-gl1.3:amd64.\n",
            "Preparing to unpack .../045-libfltk-gl1.3_1.3.4-6_amd64.deb ...\n",
            "Unpacking libfltk-gl1.3:amd64 (1.3.4-6) ...\n",
            "Selecting previously unselected package libfont-afm-perl.\n",
            "Preparing to unpack .../046-libfont-afm-perl_1.20-2_all.deb ...\n",
            "Unpacking libfont-afm-perl (1.20-2) ...\n",
            "Selecting previously unselected package libgail18:amd64.\n",
            "Preparing to unpack .../047-libgail18_2.24.32-1ubuntu1_amd64.deb ...\n",
            "Unpacking libgail18:amd64 (2.24.32-1ubuntu1) ...\n",
            "Selecting previously unselected package libgail-common:amd64.\n",
            "Preparing to unpack .../048-libgail-common_2.24.32-1ubuntu1_amd64.deb ...\n",
            "Unpacking libgail-common:amd64 (2.24.32-1ubuntu1) ...\n",
            "Selecting previously unselected package libglpk40:amd64.\n",
            "Preparing to unpack .../049-libglpk40_4.65-1_amd64.deb ...\n",
            "Unpacking libglpk40:amd64 (4.65-1) ...\n",
            "Selecting previously unselected package libwmf0.2-7:amd64.\n",
            "Preparing to unpack .../050-libwmf0.2-7_0.2.8.4-12_amd64.deb ...\n",
            "Unpacking libwmf0.2-7:amd64 (0.2.8.4-12) ...\n",
            "Selecting previously unselected package libgraphicsmagick-q16-3.\n",
            "Preparing to unpack .../051-libgraphicsmagick-q16-3_1.3.28-2ubuntu0.1_amd64.deb ...\n",
            "Unpacking libgraphicsmagick-q16-3 (1.3.28-2ubuntu0.1) ...\n",
            "Selecting previously unselected package libgraphicsmagick++-q16-12.\n",
            "Preparing to unpack .../052-libgraphicsmagick++-q16-12_1.3.28-2ubuntu0.1_amd64.deb ...\n",
            "Unpacking libgraphicsmagick++-q16-12 (1.3.28-2ubuntu0.1) ...\n",
            "Selecting previously unselected package libgtk2.0-bin.\n",
            "Preparing to unpack .../053-libgtk2.0-bin_2.24.32-1ubuntu1_amd64.deb ...\n",
            "Unpacking libgtk2.0-bin (2.24.32-1ubuntu1) ...\n",
            "Selecting previously unselected package libhtml-tagset-perl.\n",
            "Preparing to unpack .../054-libhtml-tagset-perl_3.20-3_all.deb ...\n",
            "Unpacking libhtml-tagset-perl (3.20-3) ...\n",
            "Selecting previously unselected package liburi-perl.\n",
            "Preparing to unpack .../055-liburi-perl_1.73-1_all.deb ...\n",
            "Unpacking liburi-perl (1.73-1) ...\n",
            "Selecting previously unselected package libhtml-parser-perl.\n",
            "Preparing to unpack .../056-libhtml-parser-perl_3.72-3build1_amd64.deb ...\n",
            "Unpacking libhtml-parser-perl (3.72-3build1) ...\n",
            "Selecting previously unselected package libio-html-perl.\n",
            "Preparing to unpack .../057-libio-html-perl_1.001-1_all.deb ...\n",
            "Unpacking libio-html-perl (1.001-1) ...\n",
            "Selecting previously unselected package liblwp-mediatypes-perl.\n",
            "Preparing to unpack .../058-liblwp-mediatypes-perl_6.02-1_all.deb ...\n",
            "Unpacking liblwp-mediatypes-perl (6.02-1) ...\n",
            "Selecting previously unselected package libhttp-message-perl.\n",
            "Preparing to unpack .../059-libhttp-message-perl_6.14-1_all.deb ...\n",
            "Unpacking libhttp-message-perl (6.14-1) ...\n",
            "Selecting previously unselected package libhtml-form-perl.\n",
            "Preparing to unpack .../060-libhtml-form-perl_6.03-1_all.deb ...\n",
            "Unpacking libhtml-form-perl (6.03-1) ...\n",
            "Selecting previously unselected package libhtml-tree-perl.\n",
            "Preparing to unpack .../061-libhtml-tree-perl_5.07-1_all.deb ...\n",
            "Unpacking libhtml-tree-perl (5.07-1) ...\n",
            "Selecting previously unselected package libhtml-format-perl.\n",
            "Preparing to unpack .../062-libhtml-format-perl_2.12-1_all.deb ...\n",
            "Unpacking libhtml-format-perl (2.12-1) ...\n",
            "Selecting previously unselected package libhttp-cookies-perl.\n",
            "Preparing to unpack .../063-libhttp-cookies-perl_6.04-1_all.deb ...\n",
            "Unpacking libhttp-cookies-perl (6.04-1) ...\n",
            "Selecting previously unselected package libhttp-daemon-perl.\n",
            "Preparing to unpack .../064-libhttp-daemon-perl_6.01-1ubuntu0.1_all.deb ...\n",
            "Unpacking libhttp-daemon-perl (6.01-1ubuntu0.1) ...\n",
            "Selecting previously unselected package libhttp-negotiate-perl.\n",
            "Preparing to unpack .../065-libhttp-negotiate-perl_6.00-2_all.deb ...\n",
            "Unpacking libhttp-negotiate-perl (6.00-2) ...\n",
            "Selecting previously unselected package perl-openssl-defaults:amd64.\n",
            "Preparing to unpack .../066-perl-openssl-defaults_3build1_amd64.deb ...\n",
            "Unpacking perl-openssl-defaults:amd64 (3build1) ...\n",
            "Selecting previously unselected package libnet-ssleay-perl.\n",
            "Preparing to unpack .../067-libnet-ssleay-perl_1.84-1ubuntu0.2_amd64.deb ...\n",
            "Unpacking libnet-ssleay-perl (1.84-1ubuntu0.2) ...\n",
            "Selecting previously unselected package libio-socket-ssl-perl.\n",
            "Preparing to unpack .../068-libio-socket-ssl-perl_2.060-3~ubuntu18.04.1_all.deb ...\n",
            "Unpacking libio-socket-ssl-perl (2.060-3~ubuntu18.04.1) ...\n",
            "Selecting previously unselected package libnet-http-perl.\n",
            "Preparing to unpack .../069-libnet-http-perl_6.17-1_all.deb ...\n",
            "Unpacking libnet-http-perl (6.17-1) ...\n",
            "Selecting previously unselected package libtry-tiny-perl.\n",
            "Preparing to unpack .../070-libtry-tiny-perl_0.30-1_all.deb ...\n",
            "Unpacking libtry-tiny-perl (0.30-1) ...\n",
            "Selecting previously unselected package libwww-robotrules-perl.\n",
            "Preparing to unpack .../071-libwww-robotrules-perl_6.01-1_all.deb ...\n",
            "Unpacking libwww-robotrules-perl (6.01-1) ...\n",
            "Selecting previously unselected package libwww-perl.\n",
            "Preparing to unpack .../072-libwww-perl_6.31-1ubuntu0.1_all.deb ...\n",
            "Unpacking libwww-perl (6.31-1ubuntu0.1) ...\n",
            "Selecting previously unselected package liblwp-protocol-https-perl.\n",
            "Preparing to unpack .../073-liblwp-protocol-https-perl_6.07-2_all.deb ...\n",
            "Unpacking liblwp-protocol-https-perl (6.07-2) ...\n",
            "Selecting previously unselected package libmagick++-6.q16-7:amd64.\n",
            "Preparing to unpack .../074-libmagick++-6.q16-7_8%3a6.9.7.4+dfsg-16ubuntu6.14_amd64.deb ...\n",
            "Unpacking libmagick++-6.q16-7:amd64 (8:6.9.7.4+dfsg-16ubuntu6.14) ...\n",
            "Selecting previously unselected package libnet-smtp-ssl-perl.\n",
            "Preparing to unpack .../075-libnet-smtp-ssl-perl_1.04-1_all.deb ...\n",
            "Unpacking libnet-smtp-ssl-perl (1.04-1) ...\n",
            "Selecting previously unselected package libmailtools-perl.\n",
            "Preparing to unpack .../076-libmailtools-perl_2.18-1_all.deb ...\n",
            "Unpacking libmailtools-perl (2.18-1) ...\n",
            "Selecting previously unselected package libqrupdate1:amd64.\n",
            "Preparing to unpack .../077-libqrupdate1_1.1.2-2build1_amd64.deb ...\n",
            "Unpacking libqrupdate1:amd64 (1.1.2-2build1) ...\n",
            "Selecting previously unselected package libumfpack5:amd64.\n",
            "Preparing to unpack .../078-libumfpack5_1%3a5.1.2-2_amd64.deb ...\n",
            "Unpacking libumfpack5:amd64 (1:5.1.2-2) ...\n",
            "Selecting previously unselected package liboctave4:amd64.\n",
            "Preparing to unpack .../079-liboctave4_4.2.2-1ubuntu1_amd64.deb ...\n",
            "Unpacking liboctave4:amd64 (4.2.2-1ubuntu1) ...\n",
            "Selecting previously unselected package libplot2c2:amd64.\n",
            "Preparing to unpack .../080-libplot2c2_2.6-9_amd64.deb ...\n",
            "Unpacking libplot2c2:amd64 (2.6-9) ...\n",
            "Selecting previously unselected package libportaudio2:amd64.\n",
            "Preparing to unpack .../081-libportaudio2_19.6.0-1_amd64.deb ...\n",
            "Unpacking libportaudio2:amd64 (19.6.0-1) ...\n",
            "Selecting previously unselected package libzip4:amd64.\n",
            "Preparing to unpack .../082-libzip4_1.1.2-1.1_amd64.deb ...\n",
            "Unpacking libzip4:amd64 (1.1.2-1.1) ...\n",
            "Selecting previously unselected package libpstoedit0c2a.\n",
            "Preparing to unpack .../083-libpstoedit0c2a_3.70-5_amd64.deb ...\n",
            "Unpacking libpstoedit0c2a (3.70-5) ...\n",
            "Selecting previously unselected package libqscintilla2-qt5-l10n.\n",
            "Preparing to unpack .../084-libqscintilla2-qt5-l10n_2.10.2+dfsg-4_all.deb ...\n",
            "Unpacking libqscintilla2-qt5-l10n (2.10.2+dfsg-4) ...\n",
            "Selecting previously unselected package libqscintilla2-qt5-13.\n",
            "Preparing to unpack .../085-libqscintilla2-qt5-13_2.10.2+dfsg-4_amd64.deb ...\n",
            "Unpacking libqscintilla2-qt5-13 (2.10.2+dfsg-4) ...\n",
            "Selecting previously unselected package libqt5opengl5:amd64.\n",
            "Preparing to unpack .../086-libqt5opengl5_5.9.5+dfsg-0ubuntu2.6_amd64.deb ...\n",
            "Unpacking libqt5opengl5:amd64 (5.9.5+dfsg-0ubuntu2.6) ...\n",
            "Selecting previously unselected package libtext-unidecode-perl.\n",
            "Preparing to unpack .../087-libtext-unidecode-perl_1.30-1_all.deb ...\n",
            "Unpacking libtext-unidecode-perl (1.30-1) ...\n",
            "Selecting previously unselected package libxml-namespacesupport-perl.\n",
            "Preparing to unpack .../088-libxml-namespacesupport-perl_1.12-1_all.deb ...\n",
            "Unpacking libxml-namespacesupport-perl (1.12-1) ...\n",
            "Selecting previously unselected package libxml-sax-base-perl.\n",
            "Preparing to unpack .../089-libxml-sax-base-perl_1.09-1_all.deb ...\n",
            "Unpacking libxml-sax-base-perl (1.09-1) ...\n",
            "Selecting previously unselected package libxml-sax-perl.\n",
            "Preparing to unpack .../090-libxml-sax-perl_0.99+dfsg-2ubuntu1_all.deb ...\n",
            "Unpacking libxml-sax-perl (0.99+dfsg-2ubuntu1) ...\n",
            "Selecting previously unselected package libxml-libxml-perl.\n",
            "Preparing to unpack .../091-libxml-libxml-perl_2.0128+dfsg-5_amd64.deb ...\n",
            "Unpacking libxml-libxml-perl (2.0128+dfsg-5) ...\n",
            "Selecting previously unselected package libxml-parser-perl.\n",
            "Preparing to unpack .../092-libxml-parser-perl_2.44-2build3_amd64.deb ...\n",
            "Unpacking libxml-parser-perl (2.44-2build3) ...\n",
            "Selecting previously unselected package libxml-sax-expat-perl.\n",
            "Preparing to unpack .../093-libxml-sax-expat-perl_0.40-2_all.deb ...\n",
            "Unpacking libxml-sax-expat-perl (0.40-2) ...\n",
            "Selecting previously unselected package notification-daemon.\n",
            "Preparing to unpack .../094-notification-daemon_3.20.0-3_amd64.deb ...\n",
            "Unpacking notification-daemon (3.20.0-3) ...\n",
            "Selecting previously unselected package pstoedit.\n",
            "Preparing to unpack .../095-pstoedit_3.70-5_amd64.deb ...\n",
            "Unpacking pstoedit (3.70-5) ...\n",
            "Selecting previously unselected package texinfo.\n",
            "Preparing to unpack .../096-texinfo_6.5.0.dfsg.1-2_amd64.deb ...\n",
            "Unpacking texinfo (6.5.0.dfsg.1-2) ...\n",
            "Selecting previously unselected package libauthen-sasl-perl.\n",
            "Preparing to unpack .../097-libauthen-sasl-perl_2.1600-1_all.deb ...\n",
            "Unpacking libauthen-sasl-perl (2.1600-1) ...\n",
            "Selecting previously unselected package libosmesa6:amd64.\n",
            "Preparing to unpack .../098-libosmesa6_20.0.8-0ubuntu1~18.04.1_amd64.deb ...\n",
            "Unpacking libosmesa6:amd64 (20.0.8-0ubuntu1~18.04.1) ...\n",
            "Selecting previously unselected package octave-common.\n",
            "Preparing to unpack .../099-octave-common_4.2.2-1ubuntu1_all.deb ...\n",
            "Unpacking octave-common (4.2.2-1ubuntu1) ...\n",
            "Selecting previously unselected package octave.\n",
            "Preparing to unpack .../100-octave_4.2.2-1ubuntu1_amd64.deb ...\n",
            "Unpacking octave (4.2.2-1ubuntu1) ...\n",
            "Selecting previously unselected package octave-doc.\n",
            "Preparing to unpack .../101-octave-doc_4.2.2-1ubuntu1_all.deb ...\n",
            "Unpacking octave-doc (4.2.2-1ubuntu1) ...\n",
            "Setting up libgs9-common (9.26~dfsg+0-0ubuntu0.18.04.17) ...\n",
            "Setting up libhtml-tagset-perl (3.20-3) ...\n",
            "Setting up imagemagick-6-common (8:6.9.7.4+dfsg-16ubuntu6.14) ...\n",
            "Setting up libnotify4:amd64 (0.7.7-3ubuntu0.18.04.1) ...\n",
            "Setting up libcxsparse3:amd64 (1:5.1.2-2) ...\n",
            "Setting up libtry-tiny-perl (0.30-1) ...\n",
            "Setting up fonts-droid-fallback (1:6.0.1r16-1.1) ...\n",
            "Setting up libfont-afm-perl (1.20-2) ...\n",
            "Setting up libgtk2.0-common (2.24.32-1ubuntu1) ...\n",
            "Setting up info (6.5.0.dfsg.1-2) ...\n",
            "update-alternatives: using /usr/bin/info to provide /usr/bin/infobrowser (infobrowser) in auto mode\n",
            "Setting up libportaudio2:amd64 (19.6.0-1) ...\n",
            "Setting up tex-common (6.09) ...\n",
            "update-language: texlive-base not installed and configured, doing nothing!\n",
            "Setting up libxml-namespacesupport-perl (1.12-1) ...\n",
            "Setting up gsfonts (1:8.11+urwcyr1.0.7~pre44-4.4) ...\n",
            "Setting up libencode-locale-perl (1.05-1) ...\n",
            "Setting up libtimedate-perl (2.3000-2) ...\n",
            "Setting up poppler-data (0.4.8-2) ...\n",
            "Setting up perl-openssl-defaults:amd64 (3build1) ...\n",
            "Setting up libosmesa6:amd64 (20.0.8-0ubuntu1~18.04.1) ...\n",
            "Setting up libio-html-perl (1.001-1) ...\n",
            "Setting up libtext-unidecode-perl (1.30-1) ...\n",
            "Setting up libqt5opengl5:amd64 (5.9.5+dfsg-0ubuntu2.6) ...\n",
            "Setting up fonts-noto-mono (20171026-2) ...\n",
            "Setting up libwxbase3.0-0v5:amd64 (3.0.4+dfsg-3) ...\n",
            "Setting up libqrupdate1:amd64 (1.1.2-2build1) ...\n",
            "Setting up libcupsfilters1:amd64 (1.20.2-0ubuntu3.1) ...\n",
            "Setting up libzip4:amd64 (1.1.2-1.1) ...\n",
            "Setting up libcupsimage2:amd64 (2.2.7-1ubuntu2.9) ...\n",
            "Setting up libxml-sax-base-perl (1.09-1) ...\n",
            "Setting up liblqr-1-0:amd64 (0.4.2-2.1) ...\n",
            "Setting up libjbig2dec0:amd64 (0.13-6) ...\n",
            "Setting up liblwp-mediatypes-perl (6.02-1) ...\n",
            "Setting up liburi-perl (1.73-1) ...\n",
            "Setting up libqt5svg5:amd64 (5.9.5-0ubuntu1.1) ...\n",
            "Setting up libsuitesparseconfig5:amd64 (1:5.1.2-2) ...\n",
            "Setting up libmetis5:amd64 (5.1.0.dfsg-5) ...\n",
            "Setting up libdata-dump-perl (1.23-1) ...\n",
            "Setting up libhtml-parser-perl (3.72-3build1) ...\n",
            "Setting up libijs-0.35:amd64 (0.35-13) ...\n",
            "Setting up libcolamd2:amd64 (1:5.1.2-2) ...\n",
            "Setting up libfltk1.3:amd64 (1.3.4-6) ...\n",
            "Setting up libccolamd2:amd64 (1:5.1.2-2) ...\n",
            "Setting up libfftw3-single3:amd64 (3.3.7-1) ...\n",
            "Setting up octave-common (4.2.2-1ubuntu1) ...\n",
            "Setting up libnet-http-perl (6.17-1) ...\n",
            "Setting up libqscintilla2-qt5-l10n (2.10.2+dfsg-4) ...\n",
            "Setting up libemf1:amd64 (1.0.9+git.10.3231442-1) ...\n",
            "Setting up aglfn (1.7-3) ...\n",
            "Setting up libplot2c2:amd64 (2.6-9) ...\n",
            "Setting up liblua5.3-0:amd64 (5.3.3-1ubuntu0.18.04.1) ...\n",
            "Setting up libgs9:amd64 (9.26~dfsg+0-0ubuntu0.18.04.17) ...\n",
            "Setting up libwmf0.2-7:amd64 (0.2.8.4-12) ...\n",
            "Setting up libwww-robotrules-perl (6.01-1) ...\n",
            "Setting up libauthen-sasl-perl (2.1600-1) ...\n",
            "Setting up notification-daemon (3.20.0-3) ...\n",
            "Setting up octave-doc (4.2.2-1ubuntu1) ...\n",
            "Setting up netbase (5.4) ...\n",
            "Setting up libxml-sax-perl (0.99+dfsg-2ubuntu1) ...\n",
            "update-perl-sax-parsers: Registering Perl SAX parser XML::SAX::PurePerl with priority 10...\n",
            "update-perl-sax-parsers: Updating overall Perl SAX parser modules info file...\n",
            "\n",
            "Creating config file /etc/perl/XML/SAX/ParserDetails.ini with new version\n",
            "Setting up libgtk2.0-0:amd64 (2.24.32-1ubuntu1) ...\n",
            "Setting up libhttp-date-perl (6.02-1) ...\n",
            "Setting up libmagickcore-6.q16-3:amd64 (8:6.9.7.4+dfsg-16ubuntu6.14) ...\n",
            "Setting up libgail18:amd64 (2.24.32-1ubuntu1) ...\n",
            "Setting up libnet-ssleay-perl (1.84-1ubuntu0.2) ...\n",
            "Setting up libfltk-gl1.3:amd64 (1.3.4-6) ...\n",
            "Setting up libcamd2:amd64 (1:5.1.2-2) ...\n",
            "Setting up libqscintilla2-qt5-13 (2.10.2+dfsg-4) ...\n",
            "Setting up libwxgtk3.0-0v5:amd64 (3.0.4+dfsg-3) ...\n",
            "Setting up libgail-common:amd64 (2.24.32-1ubuntu1) ...\n",
            "Setting up ghostscript (9.26~dfsg+0-0ubuntu0.18.04.17) ...\n",
            "Setting up gnuplot-data (5.2.2+dfsg1-2ubuntu1) ...\n",
            "Setting up libio-socket-ssl-perl (2.060-3~ubuntu18.04.1) ...\n",
            "Setting up libgraphicsmagick-q16-3 (1.3.28-2ubuntu0.1) ...\n",
            "Setting up libhtml-tree-perl (5.07-1) ...\n",
            "Setting up libamd2:amd64 (1:5.1.2-2) ...\n",
            "Setting up libmagickwand-6.q16-3:amd64 (8:6.9.7.4+dfsg-16ubuntu6.14) ...\n",
            "Setting up libfile-listing-perl (6.04-1) ...\n",
            "Setting up libhttp-message-perl (6.14-1) ...\n",
            "Setting up libxml-libxml-perl (2.0128+dfsg-5) ...\n",
            "update-perl-sax-parsers: Registering Perl SAX parser XML::LibXML::SAX::Parser with priority 50...\n",
            "update-perl-sax-parsers: Registering Perl SAX parser XML::LibXML::SAX with priority 50...\n",
            "update-perl-sax-parsers: Updating overall Perl SAX parser modules info file...\n",
            "Replacing config file /etc/perl/XML/SAX/ParserDetails.ini with new version\n",
            "Setting up libhttp-negotiate-perl (6.00-2) ...\n",
            "Setting up libgtk2.0-bin (2.24.32-1ubuntu1) ...\n",
            "Setting up libgraphicsmagick++-q16-12 (1.3.28-2ubuntu0.1) ...\n",
            "Setting up libnet-smtp-ssl-perl (1.04-1) ...\n",
            "Setting up libhtml-format-perl (2.12-1) ...\n",
            "Setting up libglpk40:amd64 (4.65-1) ...\n",
            "Setting up libhttp-cookies-perl (6.04-1) ...\n",
            "Setting up gnuplot-qt (5.2.2+dfsg1-2ubuntu1) ...\n",
            "update-alternatives: using /usr/bin/gnuplot-qt to provide /usr/bin/gnuplot (gnuplot) in auto mode\n",
            "Setting up epstool (3.08+repack-7) ...\n",
            "Setting up libhttp-daemon-perl (6.01-1ubuntu0.1) ...\n",
            "Setting up libcholmod3:amd64 (1:5.1.2-2) ...\n",
            "Setting up libmagick++-6.q16-7:amd64 (8:6.9.7.4+dfsg-16ubuntu6.14) ...\n",
            "Setting up libpstoedit0c2a (3.70-5) ...\n",
            "Setting up libhtml-form-perl (6.03-1) ...\n",
            "Setting up texinfo (6.5.0.dfsg.1-2) ...\n",
            "Setting up libmailtools-perl (2.18-1) ...\n",
            "Setting up libumfpack5:amd64 (1:5.1.2-2) ...\n",
            "Setting up pstoedit (3.70-5) ...\n",
            "Setting up liboctave4:amd64 (4.2.2-1ubuntu1) ...\n",
            "Setting up octave (4.2.2-1ubuntu1) ...\n",
            "Setting up liblwp-protocol-https-perl (6.07-2) ...\n",
            "Setting up libwww-perl (6.31-1ubuntu0.1) ...\n",
            "Setting up libxml-parser-perl (2.44-2build3) ...\n",
            "Setting up libxml-sax-expat-perl (0.40-2) ...\n",
            "update-perl-sax-parsers: Registering Perl SAX parser XML::SAX::Expat with priority 50...\n",
            "update-perl-sax-parsers: Updating overall Perl SAX parser modules info file...\n",
            "Replacing config file /etc/perl/XML/SAX/ParserDetails.ini with new version\n",
            "Processing triggers for fontconfig (2.12.6-0ubuntu2) ...\n",
            "Processing triggers for mime-support (3.60ubuntu1) ...\n",
            "Processing triggers for install-info (6.5.0.dfsg.1-2) ...\n",
            "Processing triggers for libc-bin (2.27-3ubuntu1.6) ...\n",
            "Processing triggers for man-db (2.8.3-2ubuntu0.1) ...\n",
            "Processing triggers for hicolor-icon-theme (0.17-2) ...\n"
          ]
        }
      ]
    },
    {
      "cell_type": "code",
      "source": [
        "%%writefile metodo1.m\n",
        "A = [1 3 -1 -1;3 2 -4 -1;5 3 -4 4; 3 1 1 4]\n",
        "b = [6; 3; 5; 7]\n",
        "x = inv(A)*b\n",
        "% solucion 1, rats expresa los numero como fracciones o enteros\n",
        "s1 = rats(x)"
      ],
      "metadata": {
        "id": "ol8FRPULeOoj",
        "outputId": "2181744b-db72-479e-ec15-7267d5fe4947",
        "colab": {
          "base_uri": "https://localhost:8080/"
        }
      },
      "execution_count": 4,
      "outputs": [
        {
          "output_type": "stream",
          "name": "stdout",
          "text": [
            "Overwriting metodo1.m\n"
          ]
        }
      ]
    },
    {
      "cell_type": "code",
      "source": [
        "!octave metodo1.m"
      ],
      "metadata": {
        "id": "MFQlWpf_3CKh",
        "outputId": "b628ac15-9540-435e-9da6-3b71eee14b8c",
        "colab": {
          "base_uri": "https://localhost:8080/"
        }
      },
      "execution_count": 5,
      "outputs": [
        {
          "output_type": "stream",
          "name": "stdout",
          "text": [
            "octave: X11 DISPLAY environment variable not set\n",
            "octave: disabling GUI features\n",
            "A =\n",
            "\n",
            "   1   3  -1  -1\n",
            "   3   2  -4  -1\n",
            "   5   3  -4   4\n",
            "   3   1   1   4\n",
            "\n",
            "b =\n",
            "\n",
            "   6\n",
            "   3\n",
            "   5\n",
            "   7\n",
            "\n",
            "x =\n",
            "\n",
            "   2.23423\n",
            "   1.63063\n",
            "   1.94595\n",
            "  -0.81982\n",
            "\n",
            "s1 =\n",
            "\n",
            "    248/111\n",
            "    181/111\n",
            "      72/37\n",
            "    -91/111\n",
            "\n"
          ]
        }
      ]
    },
    {
      "cell_type": "markdown",
      "source": [
        "###Metodo 2"
      ],
      "metadata": {
        "id": "en_ycQoV4oeM"
      }
    },
    {
      "cell_type": "code",
      "source": [
        "%%writefile metodo2.m\n",
        "A = [1 3 -1 -1;3 2 -4 -1;5 3 -4 4; 3 1 1 4]\n",
        "b = [6; 3; 5; 7]\n",
        "x = A\\b\n",
        "% solucion 2\n",
        "s2 = rats(x)"
      ],
      "metadata": {
        "id": "lHubQ2BZ4ntR",
        "outputId": "2430614e-39d4-46c2-8ca8-e719cca9c09c",
        "colab": {
          "base_uri": "https://localhost:8080/"
        }
      },
      "execution_count": 6,
      "outputs": [
        {
          "output_type": "stream",
          "name": "stdout",
          "text": [
            "Writing metodo2.m\n"
          ]
        }
      ]
    },
    {
      "cell_type": "code",
      "source": [
        "!octave metodo2.m"
      ],
      "metadata": {
        "id": "AAiy9BkY5FfG",
        "outputId": "8ef3ce94-40d8-46bb-abaf-e4b1c255beda",
        "colab": {
          "base_uri": "https://localhost:8080/"
        }
      },
      "execution_count": 7,
      "outputs": [
        {
          "output_type": "stream",
          "name": "stdout",
          "text": [
            "octave: X11 DISPLAY environment variable not set\n",
            "octave: disabling GUI features\n",
            "A =\n",
            "\n",
            "   1   3  -1  -1\n",
            "   3   2  -4  -1\n",
            "   5   3  -4   4\n",
            "   3   1   1   4\n",
            "\n",
            "b =\n",
            "\n",
            "   6\n",
            "   3\n",
            "   5\n",
            "   7\n",
            "\n",
            "x =\n",
            "\n",
            "   2.23423\n",
            "   1.63063\n",
            "   1.94595\n",
            "  -0.81982\n",
            "\n",
            "s2 =\n",
            "\n",
            "    248/111\n",
            "    181/111\n",
            "      72/37\n",
            "    -91/111\n",
            "\n"
          ]
        }
      ]
    },
    {
      "cell_type": "markdown",
      "source": [
        "## Práctica 3.7\n",
        "**Diagonalización en Python**\n",
        "\n",
        "* Sea la matriz cuadrada $A$ de orden 4x4\n",
        "\n",
        "$$A=\\left(\n",
        "\\begin{array}{rrrr}\n",
        " -1 &-2 &  3 &-1 \\\\\n",
        "  0 & 2 &  0 & 0 \\\\\n",
        "  0 & 0 &  2 & 0 \\\\\n",
        "  0 & 0 &  0 & 1\n",
        "\\end{array}\n",
        "\\right)$$\n",
        "1. Calcula los **autovalores** y **autovectores**\n",
        "2. Calcula y muestra:\n",
        " - la matriz diagonal $D$\n",
        " - la matriz de paso $P$\n",
        " - su inversa $P^{-1}$  \n",
        "3. Comprueba que se cumple que $A^3=PD^3P^{-1}$"
      ],
      "metadata": {
        "id": "KOhR4DdkL7kg"
      }
    },
    {
      "cell_type": "markdown",
      "source": [
        "Calculo de autovalores"
      ],
      "metadata": {
        "id": "bgj-BzgWBtlP"
      }
    },
    {
      "cell_type": "markdown",
      "source": [
        "Calculo de autovectores"
      ],
      "metadata": {
        "id": "8jNZYiJoB0D1"
      }
    },
    {
      "cell_type": "markdown",
      "source": [
        "Matriz diagonal, Matriz de Paso y su inversa"
      ],
      "metadata": {
        "id": "2yWwjAFdB53Z"
      }
    },
    {
      "cell_type": "code",
      "source": [
        "import numpy as np\n",
        "A = np.array([[-1,-2,3,-1], [0,2,0,0], [0,0,2,0], [0,0,0,1]])\n",
        "d,P = np.linalg.eig(A)\n",
        "print(\"Diagonal colocado horizontalmente\", d)\n",
        "D = np.diag(d)\n",
        "print(\"\\nDiagonal:\\n\", D)\n",
        "print(\"\\nMatriz de Paso:\\n\", P)\n",
        "print()\n",
        "print(\"Inversa de la matriz de Paso:\")\n",
        "minv = np.linalg.inv(P)\n",
        "print(minv)"
      ],
      "metadata": {
        "id": "9AsIht1NB9t_",
        "outputId": "faf3dc8d-7a80-44da-b8e9-588051038519",
        "colab": {
          "base_uri": "https://localhost:8080/"
        }
      },
      "execution_count": 15,
      "outputs": [
        {
          "output_type": "stream",
          "name": "stdout",
          "text": [
            "Diagonal colocado horizontalmente [-1.  2.  2.  1.]\n",
            "\n",
            "Diagonal:\n",
            " [[-1.  0.  0.  0.]\n",
            " [ 0.  2.  0.  0.]\n",
            " [ 0.  0.  2.  0.]\n",
            " [ 0.  0.  0.  1.]]\n",
            "\n",
            "Matriz de Paso:\n",
            " [[ 1.         -0.5547002   0.70710678 -0.4472136 ]\n",
            " [ 0.          0.83205029  0.          0.        ]\n",
            " [ 0.          0.          0.70710678  0.        ]\n",
            " [ 0.          0.          0.          0.89442719]]\n",
            "\n",
            "Inversa de la matriz de Paso:\n",
            "[[ 1.          0.66666667 -1.          0.5       ]\n",
            " [ 0.          1.20185043  0.          0.        ]\n",
            " [ 0.          0.          1.41421356  0.        ]\n",
            " [ 0.          0.          0.          1.11803399]]\n"
          ]
        }
      ]
    },
    {
      "cell_type": "markdown",
      "source": [
        "Comprobacion de $A^3=PD^3P^{-1}$"
      ],
      "metadata": {
        "id": "A4cN7Vh9D7Zi"
      }
    },
    {
      "cell_type": "code",
      "source": [
        "import numpy as np\n",
        "A = np.array([[-1,-2,3,-1], [0,2,0,0], [0,0,2,0], [0,0,0,1]])\n",
        "print(A@A@A)"
      ],
      "metadata": {
        "id": "pB0ziN4uEBly",
        "outputId": "f4096fbf-1acc-4122-d6c3-b98a2df79f35",
        "colab": {
          "base_uri": "https://localhost:8080/"
        }
      },
      "execution_count": 16,
      "outputs": [
        {
          "output_type": "stream",
          "name": "stdout",
          "text": [
            "[[-1 -6  9 -1]\n",
            " [ 0  8  0  0]\n",
            " [ 0  0  8  0]\n",
            " [ 0  0  0  1]]\n"
          ]
        }
      ]
    },
    {
      "cell_type": "code",
      "source": [
        "import numpy as np\n",
        "A = np.array([[-1,-2,3,-1], [0,2,0,0], [0,0,2,0], [0,0,0,1]])\n",
        "d,P = np.linalg.eig(A)\n",
        "print(\"d: \", d)\n",
        "D = np.diag(d)\n",
        "print(\"\\nD:\\n\", D)\n",
        "print(\"\\nP:\\n\", P)\n",
        "Dcubo = D @ D @ D\n",
        "print(\"\\nDcubo:\\n\", Dcubo)\n",
        "print(\"\\nSolución:\\n\", P @ Dcubo @ np.linalg.inv(P))"
      ],
      "metadata": {
        "id": "i1cca_v4Ee8h",
        "outputId": "16492d8c-14f3-444b-d586-009c67c4179e",
        "colab": {
          "base_uri": "https://localhost:8080/"
        }
      },
      "execution_count": 17,
      "outputs": [
        {
          "output_type": "stream",
          "name": "stdout",
          "text": [
            "d:  [-1.  2.  2.  1.]\n",
            "\n",
            "D:\n",
            " [[-1.  0.  0.  0.]\n",
            " [ 0.  2.  0.  0.]\n",
            " [ 0.  0.  2.  0.]\n",
            " [ 0.  0.  0.  1.]]\n",
            "\n",
            "P:\n",
            " [[ 1.         -0.5547002   0.70710678 -0.4472136 ]\n",
            " [ 0.          0.83205029  0.          0.        ]\n",
            " [ 0.          0.          0.70710678  0.        ]\n",
            " [ 0.          0.          0.          0.89442719]]\n",
            "\n",
            "Dcubo:\n",
            " [[-1.  0.  0.  0.]\n",
            " [ 0.  8.  0.  0.]\n",
            " [ 0.  0.  8.  0.]\n",
            " [ 0.  0.  0.  1.]]\n",
            "\n",
            "Solución:\n",
            " [[-1. -6.  9. -1.]\n",
            " [ 0.  8.  0.  0.]\n",
            " [ 0.  0.  8.  0.]\n",
            " [ 0.  0.  0.  1.]]\n"
          ]
        }
      ]
    },
    {
      "cell_type": "markdown",
      "source": [
        "## Práctica 3.8\n",
        "**Diagonalización con Octave**\n",
        "\n",
        "Resuelva el ejercicio anterior, pero en esta ocasión utilizando Octave."
      ],
      "metadata": {
        "id": "tqHIq-of_N_v"
      }
    },
    {
      "cell_type": "markdown",
      "source": [
        "## Práctica 3.9\n",
        "**Libertad para elegir el lugar de trabajo**  \n",
        "Resolver con **Octave**.\n",
        "\n",
        "Una empresa de 1.000 empleados permite que sus trabajadores cada día acudan a trabajar a la oficina o que realicen su trabajo desde su casa. Inicialmente el 90% de la plantilla trabajaba en la oficina y solo el 10% lo hacían en casa. Se ha observado que los que un día trabajan en casa tienen una probabilidad del 70% de realizarlo también desde casa al día siguiente, pero que en el restante 30% de los casos acuden a la oficina al día siguiente. Por el contrario, se ha observado que los que un día trabajaron en la oficina al día siguiente vuelven\n",
        "a la oficina en el 60% de los casos y en el 40% restante van a su casa al día siguiente.\n",
        "* Determinar qué número de empleados se quedan en casa transcurridos dos días.\n",
        "* ¿Y a largo plazo cuantos se quedan en casa?"
      ],
      "metadata": {
        "id": "Aw283nkjdtcQ"
      }
    },
    {
      "cell_type": "markdown",
      "source": [
        "## Práctica 3.10\n",
        "**Tendencia del mercado**  \n",
        "Resolver con **Python**.\n",
        "\n",
        "En el mercado de automóviles de gran lujo únicamente se disputan la clientela dos marcas (A y B). Las ventas son $M=100.000$ automóviles anuales, no variando esta cifra con el transcurso de los años. La marca A es líder de mercado en este momento con el 75% de las ventas. Sus directivos desean consolidar su liderazgo e incluso aumentarlo, para lo cual todos los años efectúan una fuerte campaña publicitaria con la que consiguen cada año un 40% de los que fueron clientes de su competidora, aunque la empresa A pierde un 20% de sus clientes que se van a la competencia.\n",
        "* ¿Cuál es la situación a los 3 años?\n",
        "* ¿Y al cabo de mucho tiempo?"
      ],
      "metadata": {
        "id": "lllngWn__QP0"
      }
    }
  ]
}